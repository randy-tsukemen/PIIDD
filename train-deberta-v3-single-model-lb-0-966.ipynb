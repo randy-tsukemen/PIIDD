{
 "cells": [
  {
   "cell_type": "markdown",
   "id": "8394c6b2",
   "metadata": {
    "papermill": {
     "duration": 0.006646,
     "end_time": "2024-03-27T05:32:52.506195",
     "exception": false,
     "start_time": "2024-03-27T05:32:52.499549",
     "status": "completed"
    },
    "tags": []
   },
   "source": [
    "## ⚡️ How to train deberta to reach LB: 0.966\n",
    "This is the training scriped I used to train the model used in my notebook [\"DeBERTa-v3 Single Model LB:0.966\"](https://www.kaggle.com/code/emiz6413/deberta-v3-single-model-lb-0-966)\n",
    "\n",
    "#### Key points are as follows:\n",
    "1. The (original) training data is splitted to 4 folds according to their `document % 4`\n",
    "\n",
    "2. [MPWARE's dataset](https://www.kaggle.com/datasets/mpware/pii-mixtral8x7b-generated-essays) is added to each training set\n",
    "I've tried different external datasets (though not very extensively) and found this works the best\n",
    "\n",
    "3. The first 6 layers in the encoder are frozen while the embedding layer is trainable<br>\n",
    "\n",
    "4. Training & evaluation dataset is truncated with `MAX_LENGTH=3072` <br>\n",
    "My previous [notebook](https://www.kaggle.com/code/emiz6413/945-947-deberta-v3-base-infer-truncation-false) found longer input sequence inference performs better than striding inference, which made me think longer input sequence during training also improves the performance.\n",
    "\n",
    "5. Evaluation is done every 50 steps and computes overall f5/recall/precision and entity-wise f5/recall/precision based on spacy token level prediction and ground-truth. The best checkpoint based on eval/f5 in each fold is selected as the final model\n",
    "\n",
    "#### Note\n",
    "I found by coincidence that thresholding on logits instead of softmax of logits can find better models on LB even though inference is done with thresholding on softmax. Please refer `MetricsComputer` for implementation. I haven't figured out why this is the case, so please let me know your thoughts in the comment."
   ]
  },
  {
   "cell_type": "code",
   "execution_count": 1,
   "id": "3638fdd3",
   "metadata": {
    "_kg_hide-input": true,
    "execution": {
     "iopub.execute_input": "2024-03-27T05:32:52.522140Z",
     "iopub.status.busy": "2024-03-27T05:32:52.521336Z",
     "iopub.status.idle": "2024-03-27T05:33:16.125495Z",
     "shell.execute_reply": "2024-03-27T05:33:16.124524Z"
    },
    "papermill": {
     "duration": 23.614196,
     "end_time": "2024-03-27T05:33:16.127987",
     "exception": false,
     "start_time": "2024-03-27T05:32:52.513791",
     "status": "completed"
    },
    "tags": []
   },
   "outputs": [
    {
     "name": "stderr",
     "output_type": "stream",
     "text": [
      "2024-03-31 22:48:09.573265: I tensorflow/core/util/port.cc:110] oneDNN custom operations are on. You may see slightly different numerical results due to floating-point round-off errors from different computation orders. To turn them off, set the environment variable `TF_ENABLE_ONEDNN_OPTS=0`.\n",
      "2024-03-31 22:48:09.602609: I tensorflow/core/platform/cpu_feature_guard.cc:182] This TensorFlow binary is optimized to use available CPU instructions in performance-critical operations.\n",
      "To enable the following instructions: AVX2 AVX_VNNI FMA, in other operations, rebuild TensorFlow with the appropriate compiler flags.\n",
      "2024-03-31 22:48:10.096080: W tensorflow/compiler/tf2tensorrt/utils/py_utils.cc:38] TF-TRT Warning: Could not find TensorRT\n",
      "2024-03-31 22:48:10.577156: I tensorflow/compiler/xla/stream_executor/cuda/cuda_gpu_executor.cc:995] successful NUMA node read from SysFS had negative value (-1), but there must be at least one NUMA node, so returning NUMA node zero. See more at https://github.com/torvalds/linux/blob/v6.0/Documentation/ABI/testing/sysfs-bus-pci#L344-L355\n",
      "2024-03-31 22:48:10.580719: I tensorflow/compiler/xla/stream_executor/cuda/cuda_gpu_executor.cc:995] successful NUMA node read from SysFS had negative value (-1), but there must be at least one NUMA node, so returning NUMA node zero. See more at https://github.com/torvalds/linux/blob/v6.0/Documentation/ABI/testing/sysfs-bus-pci#L344-L355\n",
      "2024-03-31 22:48:10.580826: I tensorflow/compiler/xla/stream_executor/cuda/cuda_gpu_executor.cc:995] successful NUMA node read from SysFS had negative value (-1), but there must be at least one NUMA node, so returning NUMA node zero. See more at https://github.com/torvalds/linux/blob/v6.0/Documentation/ABI/testing/sysfs-bus-pci#L344-L355\n"
     ]
    }
   ],
   "source": [
    "import json\n",
    "import copy\n",
    "import gc\n",
    "import os\n",
    "import re\n",
    "from collections import defaultdict\n",
    "from pathlib import Path\n",
    "\n",
    "import torch\n",
    "from torch import nn\n",
    "import numpy as np\n",
    "import pandas as pd\n",
    "from spacy.lang.en import English\n",
    "from transformers.tokenization_utils import PreTrainedTokenizerBase\n",
    "from transformers.models.deberta_v2 import DebertaV2ForTokenClassification, DebertaV2TokenizerFast\n",
    "from transformers.trainer import Trainer\n",
    "from transformers.training_args import TrainingArguments\n",
    "from transformers.trainer_utils import EvalPrediction\n",
    "from transformers.data.data_collator import DataCollatorForTokenClassification\n",
    "from datasets import Dataset, DatasetDict, concatenate_datasets\n",
    "import wandb"
   ]
  },
  {
   "cell_type": "markdown",
   "id": "aaed18fb",
   "metadata": {
    "papermill": {
     "duration": 0.005987,
     "end_time": "2024-03-27T05:33:16.140457",
     "exception": false,
     "start_time": "2024-03-27T05:33:16.134470",
     "status": "completed"
    },
    "tags": []
   },
   "source": [
    "## Config & Parameters"
   ]
  },
  {
   "cell_type": "code",
   "execution_count": 2,
   "id": "773cc899",
   "metadata": {
    "execution": {
     "iopub.execute_input": "2024-03-27T05:33:16.154853Z",
     "iopub.status.busy": "2024-03-27T05:33:16.153990Z",
     "iopub.status.idle": "2024-03-27T05:33:16.160133Z",
     "shell.execute_reply": "2024-03-27T05:33:16.159415Z"
    },
    "papermill": {
     "duration": 0.015102,
     "end_time": "2024-03-27T05:33:16.161965",
     "exception": false,
     "start_time": "2024-03-27T05:33:16.146863",
     "status": "completed"
    },
    "tags": []
   },
   "outputs": [],
   "source": [
    "TRAINING_MODEL_PATH = \"microsoft/deberta-v3-large\"\n",
    "TRAINING_MAX_LENGTH = 3072\n",
    "EVAL_MAX_LENGTH = 3072\n",
    "CONF_THRESH = 0.9\n",
    "LR = 2.5e-5\n",
    "LR_SCHEDULER_TYPE = \"linear\"\n",
    "NUM_EPOCHS = 3\n",
    "BATCH_SIZE = 1\n",
    "EVAL_BATCH_SIZE = 1\n",
    "GRAD_ACCUMULATION_STEPS = 16 // BATCH_SIZE\n",
    "WARMUP_RATIO = 0.1\n",
    "WEIGHT_DECAY = 0.01\n",
    "AMP = True\n",
    "FREEZE_EMBEDDING = False\n",
    "FREEZE_LAYERS = 6\n",
    "N_SPLITS = 4\n",
    "NEGATIVE_RATIO = 0.3  # down sample ratio of negative samples in the training set\n",
    "OUTPUT_DIR = \"output\"\n",
    "Path(OUTPUT_DIR).mkdir(exist_ok=True)"
   ]
  },
  {
   "cell_type": "code",
   "execution_count": 3,
   "id": "f4671b0f",
   "metadata": {
    "execution": {
     "iopub.execute_input": "2024-03-27T05:33:16.175857Z",
     "iopub.status.busy": "2024-03-27T05:33:16.175586Z",
     "iopub.status.idle": "2024-03-27T05:33:16.185691Z",
     "shell.execute_reply": "2024-03-27T05:33:16.184840Z"
    },
    "papermill": {
     "duration": 0.019409,
     "end_time": "2024-03-27T05:33:16.187670",
     "exception": false,
     "start_time": "2024-03-27T05:33:16.168261",
     "status": "completed"
    },
    "tags": []
   },
   "outputs": [],
   "source": [
    "args = TrainingArguments(\n",
    "    output_dir=OUTPUT_DIR,\n",
    "    fp16=AMP,\n",
    "    learning_rate=LR,\n",
    "    num_train_epochs=NUM_EPOCHS,\n",
    "    per_device_train_batch_size=BATCH_SIZE,\n",
    "    per_device_eval_batch_size=EVAL_BATCH_SIZE,\n",
    "    gradient_accumulation_steps=GRAD_ACCUMULATION_STEPS,\n",
    "    gradient_checkpointing=True,\n",
    "    report_to=\"none\",\n",
    "    evaluation_strategy=\"steps\",\n",
    "    eval_steps=50,\n",
    "    eval_delay=100,\n",
    "    save_strategy=\"steps\",\n",
    "    save_steps=50,\n",
    "    save_total_limit=1,\n",
    "    logging_steps=10,\n",
    "    metric_for_best_model=\"f5\",\n",
    "    greater_is_better=True,\n",
    "    load_best_model_at_end=True,\n",
    "    overwrite_output_dir=True,\n",
    "    lr_scheduler_type=LR_SCHEDULER_TYPE,\n",
    "    warmup_ratio=WARMUP_RATIO,\n",
    "    weight_decay=WEIGHT_DECAY,\n",
    ")"
   ]
  },
  {
   "cell_type": "markdown",
   "id": "f57faf14",
   "metadata": {
    "papermill": {
     "duration": 0.00602,
     "end_time": "2024-03-27T05:33:16.199971",
     "exception": false,
     "start_time": "2024-03-27T05:33:16.193951",
     "status": "completed"
    },
    "tags": []
   },
   "source": [
    "## Dataset Preparation"
   ]
  },
  {
   "cell_type": "code",
   "execution_count": 4,
   "id": "6fd25700",
   "metadata": {
    "execution": {
     "iopub.execute_input": "2024-03-27T05:33:16.213577Z",
     "iopub.status.busy": "2024-03-27T05:33:16.213256Z",
     "iopub.status.idle": "2024-03-27T05:33:20.035059Z",
     "shell.execute_reply": "2024-03-27T05:33:20.033984Z"
    },
    "papermill": {
     "duration": 3.830969,
     "end_time": "2024-03-27T05:33:20.037118",
     "exception": false,
     "start_time": "2024-03-27T05:33:16.206149",
     "status": "completed"
    },
    "tags": []
   },
   "outputs": [
    {
     "name": "stdout",
     "output_type": "stream",
     "text": [
      "MPWARE's datapoints:  2692\n"
     ]
    }
   ],
   "source": [
    "with Path(\"input/pii-detection-removal-from-educational-data/train.json\").open(\"r\") as f:\n",
    "    original_data = json.load(f)\n",
    "\n",
    "with Path(\"input/pii-mixtral8x7b-generated-essays/mpware_mixtral8x7b_v1.1-no-i-username.json\").open(\"r\") as f:\n",
    "    extra_data = json.load(f)\n",
    "print(\"MPWARE's datapoints: \", len(extra_data))"
   ]
  },
  {
   "cell_type": "code",
   "execution_count": 5,
   "id": "e3a532c5",
   "metadata": {
    "execution": {
     "iopub.execute_input": "2024-03-27T05:33:20.052811Z",
     "iopub.status.busy": "2024-03-27T05:33:20.052192Z",
     "iopub.status.idle": "2024-03-27T05:33:20.057881Z",
     "shell.execute_reply": "2024-03-27T05:33:20.057012Z"
    },
    "papermill": {
     "duration": 0.016017,
     "end_time": "2024-03-27T05:33:20.059814",
     "exception": false,
     "start_time": "2024-03-27T05:33:20.043797",
     "status": "completed"
    },
    "tags": []
   },
   "outputs": [],
   "source": [
    "all_labels = [\n",
    "    'B-EMAIL', 'B-ID_NUM', 'B-NAME_STUDENT', 'B-PHONE_NUM', 'B-STREET_ADDRESS', 'B-URL_PERSONAL', 'B-USERNAME', 'I-ID_NUM', 'I-NAME_STUDENT', 'I-PHONE_NUM', 'I-STREET_ADDRESS', 'I-URL_PERSONAL', 'O'\n",
    "]\n",
    "id2label = {i: l for i, l in enumerate(all_labels)}\n",
    "label2id = {v: k for k, v in id2label.items()}\n",
    "target = [l for l in all_labels if l != \"O\"]"
   ]
  },
  {
   "cell_type": "markdown",
   "id": "6a68c3ed",
   "metadata": {
    "papermill": {
     "duration": 0.005971,
     "end_time": "2024-03-27T05:33:20.071921",
     "exception": false,
     "start_time": "2024-03-27T05:33:20.065950",
     "status": "completed"
    },
    "tags": []
   },
   "source": [
    "## Tokenization"
   ]
  },
  {
   "cell_type": "code",
   "execution_count": 6,
   "id": "0477a75b",
   "metadata": {
    "execution": {
     "iopub.execute_input": "2024-03-27T05:33:20.085898Z",
     "iopub.status.busy": "2024-03-27T05:33:20.085293Z",
     "iopub.status.idle": "2024-03-27T05:33:20.095928Z",
     "shell.execute_reply": "2024-03-27T05:33:20.095060Z"
    },
    "papermill": {
     "duration": 0.019709,
     "end_time": "2024-03-27T05:33:20.097835",
     "exception": false,
     "start_time": "2024-03-27T05:33:20.078126",
     "status": "completed"
    },
    "tags": []
   },
   "outputs": [],
   "source": [
    "class CustomTokenizer:\n",
    "    def __init__(self, tokenizer: PreTrainedTokenizerBase, label2id: dict, max_length: int) -> None:\n",
    "        self.tokenizer = tokenizer\n",
    "        self.label2id = label2id\n",
    "        self.max_length = max_length\n",
    "\n",
    "    def __call__(self, example: dict) -> dict:\n",
    "        # rebuild text from tokens\n",
    "        text, labels, token_map = [], [], []\n",
    "\n",
    "        for idx, (t, l, ws) in enumerate(\n",
    "            zip(example[\"tokens\"], example[\"provided_labels\"], example[\"trailing_whitespace\"])\n",
    "        ):\n",
    "            text.append(t)\n",
    "            labels.extend([l] * len(t))\n",
    "            token_map.extend([idx]*len(t))\n",
    "\n",
    "            if ws:\n",
    "                text.append(\" \")\n",
    "                labels.append(\"O\")\n",
    "                token_map.append(-1)\n",
    "\n",
    "        text = \"\".join(text)\n",
    "        labels = np.array(labels)\n",
    "\n",
    "        # actual tokenization\n",
    "        tokenized = self.tokenizer(\n",
    "            \"\".join(text),\n",
    "            return_offsets_mapping=True,\n",
    "            truncation=True,\n",
    "            max_length=self.max_length\n",
    "        )\n",
    "\n",
    "        token_labels = []\n",
    "\n",
    "        for start_idx, end_idx in tokenized.offset_mapping:\n",
    "            # CLS token\n",
    "            if start_idx == 0 and end_idx == 0:\n",
    "                token_labels.append(self.label2id[\"O\"])\n",
    "                continue\n",
    "\n",
    "            # case when token starts with whitespace\n",
    "            if text[start_idx].isspace():\n",
    "                start_idx += 1\n",
    "\n",
    "            token_labels.append(self.label2id[labels[start_idx]])\n",
    "\n",
    "        length = len(tokenized.input_ids)\n",
    "\n",
    "        return {**tokenized, \"labels\": token_labels, \"length\": length, \"token_map\": token_map}"
   ]
  },
  {
   "cell_type": "markdown",
   "id": "005484cf",
   "metadata": {
    "papermill": {
     "duration": 0.006074,
     "end_time": "2024-03-27T05:33:20.110120",
     "exception": false,
     "start_time": "2024-03-27T05:33:20.104046",
     "status": "completed"
    },
    "tags": []
   },
   "source": [
    "## Instantiate the dataset"
   ]
  },
  {
   "cell_type": "code",
   "execution_count": 7,
   "id": "998bbc78",
   "metadata": {
    "execution": {
     "iopub.execute_input": "2024-03-27T05:33:20.123818Z",
     "iopub.status.busy": "2024-03-27T05:33:20.123508Z",
     "iopub.status.idle": "2024-03-27T05:33:25.055094Z",
     "shell.execute_reply": "2024-03-27T05:33:25.054309Z"
    },
    "papermill": {
     "duration": 4.941077,
     "end_time": "2024-03-27T05:33:25.057373",
     "exception": false,
     "start_time": "2024-03-27T05:33:20.116296",
     "status": "completed"
    },
    "scrolled": true,
    "tags": []
   },
   "outputs": [
    {
     "name": "stderr",
     "output_type": "stream",
     "text": [
      "/home/minori/anaconda3/envs/torch/lib/python3.11/site-packages/transformers/convert_slow_tokenizer.py:515: UserWarning: The sentencepiece tokenizer that you are converting to a fast tokenizer uses the byte fallback option which is not implemented in the fast tokenizers. In practice this means that the fast version of the tokenizer can produce unknown tokens whereas the sentencepiece version would have converted these unknown tokens into a sequence of byte tokens matching the original piece of text.\n",
      "  warnings.warn(\n"
     ]
    }
   ],
   "source": [
    "tokenizer = DebertaV2TokenizerFast.from_pretrained(TRAINING_MODEL_PATH)\n",
    "train_encoder = CustomTokenizer(tokenizer=tokenizer, label2id=label2id, max_length=TRAINING_MAX_LENGTH)\n",
    "eval_encoder = CustomTokenizer(tokenizer=tokenizer, label2id=label2id, max_length=EVAL_MAX_LENGTH)\n",
    "\n",
    "ds = DatasetDict()\n",
    "\n",
    "for key, data in zip([\"original\", \"extra\"], [original_data, extra_data]):\n",
    "    ds[key] = Dataset.from_dict({\n",
    "        \"full_text\": [x[\"full_text\"] for x in data],\n",
    "        \"document\": [str(x[\"document\"]) for x in data],\n",
    "        \"tokens\": [x[\"tokens\"] for x in data],\n",
    "        \"trailing_whitespace\": [x[\"trailing_whitespace\"] for x in data],\n",
    "        \"provided_labels\": [x[\"labels\"] for x in data],\n",
    "    })"
   ]
  },
  {
   "cell_type": "markdown",
   "id": "fb234e7d",
   "metadata": {
    "papermill": {
     "duration": 0.006582,
     "end_time": "2024-03-27T05:33:25.071226",
     "exception": false,
     "start_time": "2024-03-27T05:33:25.064644",
     "status": "completed"
    },
    "tags": []
   },
   "source": [
    "## Metrics"
   ]
  },
  {
   "cell_type": "code",
   "execution_count": 8,
   "id": "9f86ea46",
   "metadata": {
    "execution": {
     "iopub.execute_input": "2024-03-27T05:33:25.086543Z",
     "iopub.status.busy": "2024-03-27T05:33:25.085777Z",
     "iopub.status.idle": "2024-03-27T05:33:25.101005Z",
     "shell.execute_reply": "2024-03-27T05:33:25.100002Z"
    },
    "papermill": {
     "duration": 0.025071,
     "end_time": "2024-03-27T05:33:25.102994",
     "exception": false,
     "start_time": "2024-03-27T05:33:25.077923",
     "status": "completed"
    },
    "tags": []
   },
   "outputs": [],
   "source": [
    "def find_span(target: list[str], document: list[str]) -> list[list[int]]:\n",
    "    idx = 0\n",
    "    spans = []\n",
    "    span = []\n",
    "\n",
    "    for i, token in enumerate(document):\n",
    "        if token != target[idx]:\n",
    "            idx = 0\n",
    "            span = []\n",
    "            continue\n",
    "        span.append(i)\n",
    "        idx += 1\n",
    "        if idx == len(target):\n",
    "            spans.append(span)\n",
    "            span = []\n",
    "            idx = 0\n",
    "            continue\n",
    "\n",
    "    return spans\n",
    "\n",
    "\n",
    "class PRFScore:\n",
    "    \"\"\"A precision / recall / F score.\"\"\"\n",
    "\n",
    "    def __init__(\n",
    "        self,\n",
    "        *,\n",
    "        tp: int = 0,\n",
    "        fp: int = 0,\n",
    "        fn: int = 0,\n",
    "    ) -> None:\n",
    "        self.tp = tp\n",
    "        self.fp = fp\n",
    "        self.fn = fn\n",
    "\n",
    "    def __len__(self) -> int:\n",
    "        return self.tp + self.fp + self.fn\n",
    "\n",
    "    def __iadd__(self, other):  # in-place add\n",
    "        self.tp += other.tp\n",
    "        self.fp += other.fp\n",
    "        self.fn += other.fn\n",
    "        return self\n",
    "\n",
    "    def __add__(self, other):\n",
    "        return PRFScore(\n",
    "            tp=self.tp + other.tp, fp=self.fp + other.fp, fn=self.fn + other.fn\n",
    "        )\n",
    "\n",
    "    def score_set(self, cand: set, gold: set) -> None:\n",
    "        self.tp += len(cand.intersection(gold))\n",
    "        self.fp += len(cand - gold)\n",
    "        self.fn += len(gold - cand)\n",
    "\n",
    "    @property\n",
    "    def precision(self) -> float:\n",
    "        return self.tp / (self.tp + self.fp + 1e-100)\n",
    "\n",
    "    @property\n",
    "    def recall(self) -> float:\n",
    "        return self.tp / (self.tp + self.fn + 1e-100)\n",
    "\n",
    "    @property\n",
    "    def f1(self) -> float:\n",
    "        p = self.precision\n",
    "        r = self.recall\n",
    "        return 2 * ((p * r) / (p + r + 1e-100))\n",
    "\n",
    "    @property\n",
    "    def f5(self) -> float:\n",
    "        beta = 5\n",
    "        p = self.precision\n",
    "        r = self.recall\n",
    "\n",
    "        fbeta = (1+(beta**2))*p*r / ((beta**2)*p + r + 1e-100)\n",
    "        return fbeta\n",
    "\n",
    "    def to_dict(self) -> dict[str, float]:\n",
    "        return {\"p\": self.precision, \"r\": self.recall, \"f5\": self.f5}"
   ]
  },
  {
   "cell_type": "code",
   "execution_count": 9,
   "id": "d11444d0",
   "metadata": {
    "execution": {
     "iopub.execute_input": "2024-03-27T05:33:25.118468Z",
     "iopub.status.busy": "2024-03-27T05:33:25.118147Z",
     "iopub.status.idle": "2024-03-27T05:33:25.424149Z",
     "shell.execute_reply": "2024-03-27T05:33:25.423322Z"
    },
    "papermill": {
     "duration": 0.316765,
     "end_time": "2024-03-27T05:33:25.426579",
     "exception": false,
     "start_time": "2024-03-27T05:33:25.109814",
     "status": "completed"
    },
    "tags": []
   },
   "outputs": [],
   "source": [
    "class MetricsComputer:\n",
    "    nlp = English()\n",
    "\n",
    "    def __init__(self, eval_ds: Dataset, label2id: dict, conf_thresh: float = 0.9) -> None:\n",
    "        self.ds = eval_ds.remove_columns(\"labels\").rename_columns({\"provided_labels\": \"labels\"})\n",
    "        self.gt_df = self.create_gt_df(self.ds)\n",
    "        self.label2id = label2id\n",
    "        self.confth = conf_thresh\n",
    "        self._search_gt()\n",
    "\n",
    "    def __call__(self, eval_preds: EvalPrediction) -> dict:\n",
    "        pred_df = self.create_pred_df(eval_preds.predictions)\n",
    "        return self.compute_metrics_from_df(self.gt_df, pred_df)\n",
    "\n",
    "    def _search_gt(self) -> None:\n",
    "        email_regex = re.compile(r'[\\w.+-]+@[\\w-]+\\.[\\w.-]+')\n",
    "        phone_num_regex = re.compile(r\"(\\(\\d{3}\\)\\d{3}\\-\\d{4}\\w*|\\d{3}\\.\\d{3}\\.\\d{4})\\s\")\n",
    "        self.emails = []\n",
    "        self.phone_nums = []\n",
    "\n",
    "        for _data in self.ds:\n",
    "            # email\n",
    "            for token_idx, token in enumerate(_data[\"tokens\"]):\n",
    "                if re.fullmatch(email_regex, token) is not None:\n",
    "                    self.emails.append(\n",
    "                        {\"document\": _data[\"document\"], \"token\": token_idx, \"label\": \"B-EMAIL\", \"token_str\": token}\n",
    "                    )\n",
    "            # phone number\n",
    "            matches = phone_num_regex.findall(_data[\"full_text\"])\n",
    "            if not matches:\n",
    "                continue\n",
    "            for match in matches:\n",
    "                target = [t.text for t in self.nlp.tokenizer(match)]\n",
    "                matched_spans = find_span(target, _data[\"tokens\"])\n",
    "            for matched_span in matched_spans:\n",
    "                for intermediate, token_idx in enumerate(matched_span):\n",
    "                    prefix = \"I\" if intermediate else \"B\"\n",
    "                    self.phone_nums.append(\n",
    "                        {\"document\": _data[\"document\"], \"token\": token_idx, \"label\": f\"{prefix}-PHONE_NUM\", \"token_str\": _data[\"tokens\"][token_idx]}\n",
    "                    )\n",
    "\n",
    "    @staticmethod\n",
    "    def create_gt_df(ds: Dataset):\n",
    "        gt = []\n",
    "        for row in ds:\n",
    "            for token_idx, (token, label) in enumerate(zip(row[\"tokens\"], row[\"labels\"])):\n",
    "                if label == \"O\":\n",
    "                    continue\n",
    "                gt.append(\n",
    "                    {\"document\": row[\"document\"], \"token\": token_idx, \"label\": label, \"token_str\": token}\n",
    "                )\n",
    "        gt_df = pd.DataFrame(gt)\n",
    "        gt_df[\"row_id\"] = gt_df.index\n",
    "\n",
    "        return gt_df\n",
    "\n",
    "    def create_pred_df(self, logits: np.ndarray) -> pd.DataFrame:\n",
    "        \"\"\"\n",
    "        Note:\n",
    "            Thresholing is doen on logits instead of softmax, which could find better models on LB.\n",
    "        \"\"\"\n",
    "        prediction = logits\n",
    "        o_index = self.label2id[\"O\"]\n",
    "        preds = prediction.argmax(-1)\n",
    "        preds_without_o = prediction.copy()\n",
    "        preds_without_o[:,:,o_index] = 0\n",
    "        preds_without_o = preds_without_o.argmax(-1)\n",
    "        o_preds = prediction[:,:,o_index]\n",
    "        preds_final = np.where(o_preds < self.confth, preds_without_o , preds)\n",
    "\n",
    "        pairs = set()\n",
    "        processed = []\n",
    "\n",
    "        # Iterate over document\n",
    "        for p_doc, token_map, offsets, tokens, doc in zip(\n",
    "            preds_final, self.ds[\"token_map\"], self.ds[\"offset_mapping\"], self.ds[\"tokens\"], self.ds[\"document\"]\n",
    "        ):\n",
    "            # Iterate over sequence\n",
    "            for p_token, (start_idx, end_idx) in zip(p_doc, offsets):\n",
    "                label_pred = id2label[p_token]\n",
    "\n",
    "                if start_idx + end_idx == 0:\n",
    "                    # [CLS] token i.e. BOS\n",
    "                    continue\n",
    "\n",
    "                if token_map[start_idx] == -1:\n",
    "                    start_idx += 1\n",
    "\n",
    "                # ignore \"\\n\\n\"\n",
    "                while start_idx < len(token_map) and tokens[token_map[start_idx]].isspace():\n",
    "                    start_idx += 1\n",
    "\n",
    "                if start_idx >= len(token_map):\n",
    "                    break\n",
    "\n",
    "                token_id = token_map[start_idx]\n",
    "                pair = (doc, token_id)\n",
    "\n",
    "                # ignore \"O\", preds, phone number and  email\n",
    "                if label_pred in (\"O\", \"B-EMAIL\", \"B-PHONE_NUM\", \"I-PHONE_NUM\") or token_id == -1:\n",
    "                    continue\n",
    "\n",
    "                if pair in pairs:\n",
    "                    continue\n",
    "\n",
    "                processed.append(\n",
    "                    {\"document\": doc, \"token\": token_id, \"label\": label_pred, \"token_str\": tokens[token_id]}\n",
    "                )\n",
    "                pairs.add(pair)\n",
    "\n",
    "        pred_df = pd.DataFrame(processed + self.emails + self.phone_nums)\n",
    "        pred_df[\"row_id\"] = list(range(len(pred_df)))\n",
    "\n",
    "        return pred_df\n",
    "\n",
    "    def compute_metrics_from_df(self, gt_df, pred_df):\n",
    "        \"\"\"\n",
    "        Compute the LB metric (lb) and other auxiliary metrics\n",
    "        \"\"\"\n",
    "\n",
    "        references = {(row.document, row.token, row.label) for row in gt_df.itertuples()}\n",
    "        predictions = {(row.document, row.token, row.label) for row in pred_df.itertuples()}\n",
    "\n",
    "        score_per_type = defaultdict(PRFScore)\n",
    "        references = set(references)\n",
    "\n",
    "        for ex in predictions:\n",
    "            pred_type = ex[-1] # (document, token, label)\n",
    "            if pred_type != 'O':\n",
    "                pred_type = pred_type[2:] # avoid B- and I- prefix\n",
    "\n",
    "            if pred_type not in score_per_type:\n",
    "                score_per_type[pred_type] = PRFScore()\n",
    "\n",
    "            if ex in references:\n",
    "                score_per_type[pred_type].tp += 1\n",
    "                references.remove(ex)\n",
    "            else:\n",
    "                score_per_type[pred_type].fp += 1\n",
    "\n",
    "        for doc, tok, ref_type in references:\n",
    "            if ref_type != 'O':\n",
    "                ref_type = ref_type[2:] # avoid B- and I- prefix\n",
    "\n",
    "            if ref_type not in score_per_type:\n",
    "                score_per_type[ref_type] = PRFScore()\n",
    "            score_per_type[ref_type].fn += 1\n",
    "\n",
    "        totals = PRFScore()\n",
    "\n",
    "        for prf in score_per_type.values():\n",
    "            totals += prf\n",
    "\n",
    "        return {\n",
    "            \"precision\": totals.precision,\n",
    "            \"recall\": totals.recall,\n",
    "            \"f5\": totals.f5,\n",
    "            **{\n",
    "                f\"{v_k}-{k}\": v_v\n",
    "                for k in set([l[2:] for l in self.label2id.keys() if l!= 'O'])\n",
    "                for v_k, v_v in score_per_type[k].to_dict().items()\n",
    "            },\n",
    "        }"
   ]
  },
  {
   "cell_type": "markdown",
   "id": "7bd50e8c",
   "metadata": {
    "papermill": {
     "duration": 0.006729,
     "end_time": "2024-03-27T05:33:25.440551",
     "exception": false,
     "start_time": "2024-03-27T05:33:25.433822",
     "status": "completed"
    },
    "tags": []
   },
   "source": [
    "## Model"
   ]
  },
  {
   "cell_type": "code",
   "execution_count": 10,
   "id": "a388d328",
   "metadata": {
    "execution": {
     "iopub.execute_input": "2024-03-27T05:33:25.455655Z",
     "iopub.status.busy": "2024-03-27T05:33:25.455268Z",
     "iopub.status.idle": "2024-03-27T05:33:34.419172Z",
     "shell.execute_reply": "2024-03-27T05:33:34.418170Z"
    },
    "papermill": {
     "duration": 8.974354,
     "end_time": "2024-03-27T05:33:34.421682",
     "exception": false,
     "start_time": "2024-03-27T05:33:25.447328",
     "status": "completed"
    },
    "scrolled": true,
    "tags": []
   },
   "outputs": [
    {
     "name": "stderr",
     "output_type": "stream",
     "text": [
      "/home/minori/anaconda3/envs/torch/lib/python3.11/site-packages/torch/_utils.py:776: UserWarning: TypedStorage is deprecated. It will be removed in the future and UntypedStorage will be the only storage class. This should only matter to you if you are using storages directly.  To access UntypedStorage directly, use tensor.untyped_storage() instead of tensor.storage()\n",
      "  return self.fget.__get__(instance, owner)()\n",
      "Some weights of DebertaV2ForTokenClassification were not initialized from the model checkpoint at microsoft/deberta-v3-large and are newly initialized: ['classifier.bias', 'classifier.weight']\n",
      "You should probably TRAIN this model on a down-stream task to be able to use it for predictions and inference.\n"
     ]
    }
   ],
   "source": [
    "class ModelInit:\n",
    "    def __init__(\n",
    "        self,\n",
    "        checkpoint: str,\n",
    "        id2label: dict,\n",
    "        label2id: dict,\n",
    "        freeze_embedding: bool,\n",
    "        freeze_layers: int,\n",
    "    ) -> None:\n",
    "        self.model = DebertaV2ForTokenClassification.from_pretrained(\n",
    "            checkpoint,\n",
    "            num_labels=len(id2label),\n",
    "            id2label=id2label,\n",
    "            label2id=label2id,\n",
    "            ignore_mismatched_sizes=True\n",
    "        )\n",
    "        for param in self.model.deberta.embeddings.parameters():\n",
    "            param.requires_grad = False if freeze_embedding else True\n",
    "        for layer in self.model.deberta.encoder.layer[:freeze_layers]:\n",
    "            for param in layer.parameters():\n",
    "                param.requires_grad = False\n",
    "        self.weight = copy.deepcopy(self.model.state_dict())\n",
    "\n",
    "    def __call__(self) -> DebertaV2ForTokenClassification:\n",
    "        self.model.load_state_dict(self.weight)\n",
    "        return self.model\n",
    "\n",
    "model_init = ModelInit(\n",
    "    TRAINING_MODEL_PATH,\n",
    "    id2label=id2label,\n",
    "    label2id=label2id,\n",
    "    freeze_embedding=FREEZE_EMBEDDING,\n",
    "    freeze_layers=FREEZE_LAYERS,\n",
    ")"
   ]
  },
  {
   "cell_type": "markdown",
   "id": "01ee0bcb",
   "metadata": {
    "papermill": {
     "duration": 0.006901,
     "end_time": "2024-03-27T05:33:34.436425",
     "exception": false,
     "start_time": "2024-03-27T05:33:34.429524",
     "status": "completed"
    },
    "tags": []
   },
   "source": [
    "## Split \n",
    "Split the original dataset into 4 folds according to `document % 4` <br>\n",
    "Only uses the first 30% of negative samples in the training set but they are NOT excluded from the eval set to make sure cross-evalidation is done on the entire training dataset."
   ]
  },
  {
   "cell_type": "code",
   "execution_count": 11,
   "id": "a415b9d0",
   "metadata": {
    "execution": {
     "iopub.execute_input": "2024-03-27T05:33:34.452631Z",
     "iopub.status.busy": "2024-03-27T05:33:34.451603Z",
     "iopub.status.idle": "2024-03-27T05:33:42.736381Z",
     "shell.execute_reply": "2024-03-27T05:33:42.735378Z"
    },
    "papermill": {
     "duration": 8.295439,
     "end_time": "2024-03-27T05:33:42.738890",
     "exception": false,
     "start_time": "2024-03-27T05:33:34.443451",
     "status": "completed"
    },
    "tags": []
   },
   "outputs": [],
   "source": [
    "# split according to document id\n",
    "folds = [\n",
    "    (\n",
    "        np.array([i for i, d in enumerate(ds[\"original\"][\"document\"]) if int(d) % N_SPLITS != s]),\n",
    "        np.array([i for i, d in enumerate(ds[\"original\"][\"document\"]) if int(d) % N_SPLITS == s])\n",
    "    )\n",
    "    for s in range(N_SPLITS)\n",
    "]\n",
    "\n",
    "negative_idxs = [i for i, labels in enumerate(ds[\"original\"][\"provided_labels\"]) if not any(np.array(labels) != \"O\")]\n",
    "exclude_indices = negative_idxs[int(len(negative_idxs) * NEGATIVE_RATIO):]"
   ]
  },
  {
   "cell_type": "markdown",
   "id": "efe427ac",
   "metadata": {
    "papermill": {
     "duration": 0.006859,
     "end_time": "2024-03-27T05:33:42.753425",
     "exception": false,
     "start_time": "2024-03-27T05:33:42.746566",
     "status": "completed"
    },
    "tags": []
   },
   "source": [
    "## Train\n",
    "Performs cross-validation and save the best checkpoint's metrics as json."
   ]
  },
  {
   "cell_type": "code",
   "execution_count": 12,
   "id": "6b7040e6",
   "metadata": {
    "execution": {
     "iopub.execute_input": "2024-03-27T05:33:42.768812Z",
     "iopub.status.busy": "2024-03-27T05:33:42.768481Z",
     "iopub.status.idle": "2024-03-27T05:35:49.225247Z",
     "shell.execute_reply": "2024-03-27T05:35:49.224128Z"
    },
    "papermill": {
     "duration": 126.467494,
     "end_time": "2024-03-27T05:35:49.227919",
     "exception": false,
     "start_time": "2024-03-27T05:33:42.760425",
     "status": "completed"
    },
    "scrolled": true,
    "tags": []
   },
   "outputs": [
    {
     "data": {
      "application/vnd.jupyter.widget-view+json": {
       "model_id": "92cc5883e3cb47e9a92b2bd8f09dfaa8",
       "version_major": 2,
       "version_minor": 0
      },
      "text/plain": [
       "Map (num_proc=12):   0%|          | 0/4704 [00:00<?, ? examples/s]"
      ]
     },
     "metadata": {},
     "output_type": "display_data"
    },
    {
     "data": {
      "application/vnd.jupyter.widget-view+json": {
       "model_id": "07425f8779f144d89a5043af22f348a1",
       "version_major": 2,
       "version_minor": 0
      },
      "text/plain": [
       "Map (num_proc=12):   0%|          | 0/1698 [00:00<?, ? examples/s]"
      ]
     },
     "metadata": {},
     "output_type": "display_data"
    },
    {
     "data": {
      "application/vnd.jupyter.widget-view+json": {
       "model_id": "a25cb04feebf42d680b87dbb7801d226",
       "version_major": 2,
       "version_minor": 0
      },
      "text/plain": [
       "  0%|          | 0/882 [00:00<?, ?it/s]"
      ]
     },
     "metadata": {},
     "output_type": "display_data"
    },
    {
     "name": "stdout",
     "output_type": "stream",
     "text": [
      "{'loss': 2.5067, 'learning_rate': 2.5280898876404495e-06, 'epoch': 0.03}\n",
      "{'loss': 1.5901, 'learning_rate': 5.3370786516853935e-06, 'epoch': 0.07}\n",
      "{'loss': 0.3077, 'learning_rate': 8.146067415730338e-06, 'epoch': 0.1}\n",
      "{'loss': 0.0936, 'learning_rate': 1.0955056179775282e-05, 'epoch': 0.14}\n",
      "{'loss': 0.0525, 'learning_rate': 1.3764044943820225e-05, 'epoch': 0.17}\n",
      "{'loss': 0.0432, 'learning_rate': 1.657303370786517e-05, 'epoch': 0.2}\n",
      "{'loss': 0.0273, 'learning_rate': 1.9382022471910114e-05, 'epoch': 0.24}\n",
      "{'loss': 0.019, 'learning_rate': 2.2191011235955056e-05, 'epoch': 0.27}\n",
      "{'loss': 0.0132, 'learning_rate': 2.5e-05, 'epoch': 0.31}\n",
      "{'loss': 0.0088, 'learning_rate': 2.4684741488020177e-05, 'epoch': 0.34}\n"
     ]
    },
    {
     "data": {
      "application/vnd.jupyter.widget-view+json": {
       "model_id": "c5564c47f81b4584b0f44617719ce144",
       "version_major": 2,
       "version_minor": 0
      },
      "text/plain": [
       "  0%|          | 0/1698 [00:00<?, ?it/s]"
      ]
     },
     "metadata": {},
     "output_type": "display_data"
    },
    {
     "name": "stdout",
     "output_type": "stream",
     "text": [
      "{'eval_loss': 0.0020956178195774555, 'eval_precision': 0.8696925329428989, 'eval_recall': 0.9027355623100304, 'eval_f5': 0.9014183155314305, 'eval_p-PHONE_NUM': 0.0, 'eval_r-PHONE_NUM': 0.0, 'eval_f5-PHONE_NUM': 0.0, 'eval_p-USERNAME': 0.0, 'eval_r-USERNAME': 0.0, 'eval_f5-USERNAME': 0.0, 'eval_p-ID_NUM': 0.8928571428571429, 'eval_r-ID_NUM': 0.9615384615384616, 'eval_f5-ID_NUM': 0.9587020648967552, 'eval_p-STREET_ADDRESS': 0.0, 'eval_r-STREET_ADDRESS': 0.0, 'eval_f5-STREET_ADDRESS': 0.0, 'eval_p-URL_PERSONAL': 0.8947368421052632, 'eval_r-URL_PERSONAL': 0.68, 'eval_f5-URL_PERSONAL': 0.6863354037267081, 'eval_p-EMAIL': 1.0, 'eval_r-EMAIL': 1.0, 'eval_f5-EMAIL': 1.0, 'eval_p-NAME_STUDENT': 0.8745980707395499, 'eval_r-NAME_STUDENT': 0.9096989966555183, 'eval_f5-NAME_STUDENT': 0.9082969432314411, 'eval_runtime': 53.4309, 'eval_samples_per_second': 31.779, 'eval_steps_per_second': 31.779, 'epoch': 0.34}\n",
      "{'loss': 0.0105, 'learning_rate': 2.4369482976040353e-05, 'epoch': 0.37}\n",
      "{'loss': 0.0074, 'learning_rate': 2.4054224464060532e-05, 'epoch': 0.41}\n",
      "{'loss': 0.009, 'learning_rate': 2.3738965952080708e-05, 'epoch': 0.44}\n",
      "{'loss': 0.0075, 'learning_rate': 2.3423707440100884e-05, 'epoch': 0.48}\n",
      "{'loss': 0.0046, 'learning_rate': 2.310844892812106e-05, 'epoch': 0.51}\n"
     ]
    },
    {
     "data": {
      "application/vnd.jupyter.widget-view+json": {
       "model_id": "a2b68fe41b1c477ca951193bac1008a2",
       "version_major": 2,
       "version_minor": 0
      },
      "text/plain": [
       "  0%|          | 0/1698 [00:00<?, ?it/s]"
      ]
     },
     "metadata": {},
     "output_type": "display_data"
    },
    {
     "name": "stdout",
     "output_type": "stream",
     "text": [
      "{'eval_loss': 0.0010274517117068172, 'eval_precision': 0.8362652232746955, 'eval_recall': 0.939209726443769, 'eval_f5': 0.9347838734074116, 'eval_p-PHONE_NUM': 0.0, 'eval_r-PHONE_NUM': 0.0, 'eval_f5-PHONE_NUM': 0.0, 'eval_p-USERNAME': 1.0, 'eval_r-USERNAME': 1.0, 'eval_f5-USERNAME': 1.0, 'eval_p-ID_NUM': 0.9615384615384616, 'eval_r-ID_NUM': 0.9615384615384616, 'eval_f5-ID_NUM': 0.9615384615384616, 'eval_p-STREET_ADDRESS': 0.0, 'eval_r-STREET_ADDRESS': 0.0, 'eval_f5-STREET_ADDRESS': 0.0, 'eval_p-URL_PERSONAL': 0.78125, 'eval_r-URL_PERSONAL': 1.0, 'eval_f5-URL_PERSONAL': 0.989345509893455, 'eval_p-EMAIL': 1.0, 'eval_r-EMAIL': 1.0, 'eval_f5-EMAIL': 1.0, 'eval_p-NAME_STUDENT': 0.8482549317147192, 'eval_r-NAME_STUDENT': 0.9347826086956522, 'eval_f5-NAME_STUDENT': 0.9311294765840222, 'eval_runtime': 53.1235, 'eval_samples_per_second': 31.963, 'eval_steps_per_second': 31.963, 'epoch': 0.51}\n",
      "{'loss': 0.0051, 'learning_rate': 2.2793190416141236e-05, 'epoch': 0.54}\n",
      "{'loss': 0.003, 'learning_rate': 2.2477931904161415e-05, 'epoch': 0.58}\n",
      "{'loss': 0.0031, 'learning_rate': 2.216267339218159e-05, 'epoch': 0.61}\n",
      "{'loss': 0.0044, 'learning_rate': 2.1847414880201767e-05, 'epoch': 0.65}\n",
      "{'loss': 0.0055, 'learning_rate': 2.1532156368221943e-05, 'epoch': 0.68}\n"
     ]
    },
    {
     "data": {
      "application/vnd.jupyter.widget-view+json": {
       "model_id": "696168f48af74672bfbfe1f4544f785e",
       "version_major": 2,
       "version_minor": 0
      },
      "text/plain": [
       "  0%|          | 0/1698 [00:00<?, ?it/s]"
      ]
     },
     "metadata": {},
     "output_type": "display_data"
    },
    {
     "name": "stdout",
     "output_type": "stream",
     "text": [
      "{'eval_loss': 0.0014148126356303692, 'eval_precision': 0.7747183979974969, 'eval_recall': 0.9407294832826748, 'eval_f5': 0.9330395964983478, 'eval_p-PHONE_NUM': 0.0, 'eval_r-PHONE_NUM': 0.0, 'eval_f5-PHONE_NUM': 0.0, 'eval_p-USERNAME': 0.25, 'eval_r-USERNAME': 1.0, 'eval_f5-USERNAME': 0.896551724137931, 'eval_p-ID_NUM': 0.9615384615384616, 'eval_r-ID_NUM': 0.9615384615384616, 'eval_f5-ID_NUM': 0.9615384615384616, 'eval_p-STREET_ADDRESS': 0.0, 'eval_r-STREET_ADDRESS': 0.0, 'eval_f5-STREET_ADDRESS': 0.0, 'eval_p-URL_PERSONAL': 0.72, 'eval_r-URL_PERSONAL': 0.72, 'eval_f5-URL_PERSONAL': 0.72, 'eval_p-EMAIL': 1.0, 'eval_r-EMAIL': 1.0, 'eval_f5-EMAIL': 1.0, 'eval_p-NAME_STUDENT': 0.78099173553719, 'eval_r-NAME_STUDENT': 0.9481605351170569, 'eval_f5-NAME_STUDENT': 0.9404184741005359, 'eval_runtime': 53.4378, 'eval_samples_per_second': 31.775, 'eval_steps_per_second': 31.775, 'epoch': 0.68}\n",
      "{'loss': 0.0052, 'learning_rate': 2.121689785624212e-05, 'epoch': 0.71}\n",
      "{'loss': 0.0026, 'learning_rate': 2.0901639344262298e-05, 'epoch': 0.75}\n",
      "{'loss': 0.0024, 'learning_rate': 2.0586380832282474e-05, 'epoch': 0.78}\n",
      "{'loss': 0.0023, 'learning_rate': 2.027112232030265e-05, 'epoch': 0.82}\n",
      "{'loss': 0.0052, 'learning_rate': 1.9955863808322825e-05, 'epoch': 0.85}\n"
     ]
    },
    {
     "data": {
      "application/vnd.jupyter.widget-view+json": {
       "model_id": "945c701405e64eacb13d0c0b0baff18b",
       "version_major": 2,
       "version_minor": 0
      },
      "text/plain": [
       "  0%|          | 0/1698 [00:00<?, ?it/s]"
      ]
     },
     "metadata": {},
     "output_type": "display_data"
    },
    {
     "name": "stdout",
     "output_type": "stream",
     "text": [
      "{'eval_loss': 0.0015562425833195448, 'eval_precision': 0.7123595505617978, 'eval_recall': 0.9635258358662614, 'eval_f5': 0.9506343713956171, 'eval_p-PHONE_NUM': 0.0, 'eval_r-PHONE_NUM': 0.0, 'eval_f5-PHONE_NUM': 0.0, 'eval_p-USERNAME': 1.0, 'eval_r-USERNAME': 1.0, 'eval_f5-USERNAME': 1.0, 'eval_p-ID_NUM': 0.6666666666666666, 'eval_r-ID_NUM': 0.9230769230769231, 'eval_f5-ID_NUM': 0.9096209912536444, 'eval_p-STREET_ADDRESS': 0.0, 'eval_r-STREET_ADDRESS': 0.0, 'eval_f5-STREET_ADDRESS': 0.0, 'eval_p-URL_PERSONAL': 0.7352941176470589, 'eval_r-URL_PERSONAL': 1.0, 'eval_f5-URL_PERSONAL': 0.9863429438543246, 'eval_p-EMAIL': 1.0, 'eval_r-EMAIL': 1.0, 'eval_f5-EMAIL': 1.0, 'eval_p-NAME_STUDENT': 0.7227101631116688, 'eval_r-NAME_STUDENT': 0.9632107023411371, 'eval_f5-NAME_STUDENT': 0.9510382930081921, 'eval_runtime': 52.9727, 'eval_samples_per_second': 32.054, 'eval_steps_per_second': 32.054, 'epoch': 0.85}\n",
      "{'loss': 0.0038, 'learning_rate': 1.9640605296343e-05, 'epoch': 0.88}\n",
      "{'loss': 0.0027, 'learning_rate': 1.932534678436318e-05, 'epoch': 0.92}\n",
      "{'loss': 0.0049, 'learning_rate': 1.9010088272383356e-05, 'epoch': 0.95}\n",
      "{'loss': 0.0024, 'learning_rate': 1.8694829760403532e-05, 'epoch': 0.99}\n",
      "{'loss': 0.0028, 'learning_rate': 1.8379571248423708e-05, 'epoch': 1.02}\n"
     ]
    },
    {
     "data": {
      "application/vnd.jupyter.widget-view+json": {
       "model_id": "4e21467217a7445bb0593bf0e48ac32b",
       "version_major": 2,
       "version_minor": 0
      },
      "text/plain": [
       "  0%|          | 0/1698 [00:00<?, ?it/s]"
      ]
     },
     "metadata": {},
     "output_type": "display_data"
    },
    {
     "name": "stdout",
     "output_type": "stream",
     "text": [
      "{'eval_loss': 0.0011634572874754667, 'eval_precision': 0.7230590961761297, 'eval_recall': 0.9483282674772037, 'eval_f5': 0.9370992895512041, 'eval_p-PHONE_NUM': 0.0, 'eval_r-PHONE_NUM': 0.0, 'eval_f5-PHONE_NUM': 0.0, 'eval_p-USERNAME': 0.5, 'eval_r-USERNAME': 1.0, 'eval_f5-USERNAME': 0.9629629629629629, 'eval_p-ID_NUM': 0.9230769230769231, 'eval_r-ID_NUM': 0.9230769230769231, 'eval_f5-ID_NUM': 0.923076923076923, 'eval_p-STREET_ADDRESS': 0.0, 'eval_r-STREET_ADDRESS': 0.0, 'eval_f5-STREET_ADDRESS': 0.0, 'eval_p-URL_PERSONAL': 0.7333333333333333, 'eval_r-URL_PERSONAL': 0.88, 'eval_f5-URL_PERSONAL': 0.8732824427480916, 'eval_p-EMAIL': 1.0, 'eval_r-EMAIL': 1.0, 'eval_f5-EMAIL': 1.0, 'eval_p-NAME_STUDENT': 0.7266922094508301, 'eval_r-NAME_STUDENT': 0.9515050167224081, 'eval_f5-NAME_STUDENT': 0.9403165321299182, 'eval_runtime': 53.1118, 'eval_samples_per_second': 31.97, 'eval_steps_per_second': 31.97, 'epoch': 1.02}\n",
      "{'loss': 0.0017, 'learning_rate': 1.8064312736443884e-05, 'epoch': 1.05}\n",
      "{'loss': 0.0017, 'learning_rate': 1.7749054224464063e-05, 'epoch': 1.09}\n",
      "{'loss': 0.0013, 'learning_rate': 1.743379571248424e-05, 'epoch': 1.12}\n",
      "{'loss': 0.0014, 'learning_rate': 1.7118537200504415e-05, 'epoch': 1.16}\n",
      "{'loss': 0.0015, 'learning_rate': 1.680327868852459e-05, 'epoch': 1.19}\n"
     ]
    },
    {
     "data": {
      "application/vnd.jupyter.widget-view+json": {
       "model_id": "6371a3ca6b394c87888c8c2f9e1018a3",
       "version_major": 2,
       "version_minor": 0
      },
      "text/plain": [
       "  0%|          | 0/1698 [00:00<?, ?it/s]"
      ]
     },
     "metadata": {},
     "output_type": "display_data"
    },
    {
     "name": "stdout",
     "output_type": "stream",
     "text": [
      "{'eval_loss': 0.001113023841753602, 'eval_precision': 0.7858048162230672, 'eval_recall': 0.9422492401215805, 'eval_f5': 0.9350890422878357, 'eval_p-PHONE_NUM': 0.0, 'eval_r-PHONE_NUM': 0.0, 'eval_f5-PHONE_NUM': 0.0, 'eval_p-USERNAME': 0.5, 'eval_r-USERNAME': 1.0, 'eval_f5-USERNAME': 0.9629629629629629, 'eval_p-ID_NUM': 0.8275862068965517, 'eval_r-ID_NUM': 0.9230769230769231, 'eval_f5-ID_NUM': 0.9189985272459499, 'eval_p-STREET_ADDRESS': 0.0, 'eval_r-STREET_ADDRESS': 0.0, 'eval_f5-STREET_ADDRESS': 0.0, 'eval_p-URL_PERSONAL': 0.7741935483870968, 'eval_r-URL_PERSONAL': 0.96, 'eval_f5-URL_PERSONAL': 0.9512195121951219, 'eval_p-EMAIL': 1.0, 'eval_r-EMAIL': 1.0, 'eval_f5-EMAIL': 1.0, 'eval_p-NAME_STUDENT': 0.798581560283688, 'eval_r-NAME_STUDENT': 0.9414715719063546, 'eval_f5-NAME_STUDENT': 0.9350367294793996, 'eval_runtime': 52.7955, 'eval_samples_per_second': 32.162, 'eval_steps_per_second': 32.162, 'epoch': 1.19}\n",
      "{'loss': 0.0008, 'learning_rate': 1.6488020176544767e-05, 'epoch': 1.22}\n",
      "{'loss': 0.001, 'learning_rate': 1.6172761664564946e-05, 'epoch': 1.26}\n",
      "{'loss': 0.0016, 'learning_rate': 1.585750315258512e-05, 'epoch': 1.29}\n",
      "{'loss': 0.0008, 'learning_rate': 1.5542244640605298e-05, 'epoch': 1.33}\n",
      "{'loss': 0.0007, 'learning_rate': 1.5226986128625473e-05, 'epoch': 1.36}\n"
     ]
    },
    {
     "data": {
      "application/vnd.jupyter.widget-view+json": {
       "model_id": "2e6ba6c81e9d434593d470b3b9b45ecc",
       "version_major": 2,
       "version_minor": 0
      },
      "text/plain": [
       "  0%|          | 0/1698 [00:00<?, ?it/s]"
      ]
     },
     "metadata": {},
     "output_type": "display_data"
    },
    {
     "name": "stdout",
     "output_type": "stream",
     "text": [
      "{'eval_loss': 0.0009527240763418376, 'eval_precision': 0.8344370860927153, 'eval_recall': 0.9574468085106383, 'eval_f5': 0.952048823016565, 'eval_p-PHONE_NUM': 0.0, 'eval_r-PHONE_NUM': 0.0, 'eval_f5-PHONE_NUM': 0.0, 'eval_p-USERNAME': 1.0, 'eval_r-USERNAME': 1.0, 'eval_f5-USERNAME': 1.0, 'eval_p-ID_NUM': 0.8620689655172413, 'eval_r-ID_NUM': 0.9615384615384616, 'eval_f5-ID_NUM': 0.9572901325478645, 'eval_p-STREET_ADDRESS': 0.0, 'eval_r-STREET_ADDRESS': 0.0, 'eval_f5-STREET_ADDRESS': 0.0, 'eval_p-URL_PERSONAL': 0.8461538461538461, 'eval_r-URL_PERSONAL': 0.88, 'eval_f5-URL_PERSONAL': 0.8786482334869432, 'eval_p-EMAIL': 1.0, 'eval_r-EMAIL': 1.0, 'eval_f5-EMAIL': 1.0, 'eval_p-NAME_STUDENT': 0.8428781204111601, 'eval_r-NAME_STUDENT': 0.959866220735786, 'eval_f5-NAME_STUDENT': 0.9547693685624717, 'eval_runtime': 53.4402, 'eval_samples_per_second': 31.774, 'eval_steps_per_second': 31.774, 'epoch': 1.36}\n",
      "{'loss': 0.0011, 'learning_rate': 1.491172761664565e-05, 'epoch': 1.39}\n",
      "{'loss': 0.0008, 'learning_rate': 1.4596469104665827e-05, 'epoch': 1.43}\n",
      "{'loss': 0.0039, 'learning_rate': 1.4281210592686003e-05, 'epoch': 1.46}\n",
      "{'loss': 0.0015, 'learning_rate': 1.396595208070618e-05, 'epoch': 1.5}\n",
      "{'loss': 0.0012, 'learning_rate': 1.3650693568726356e-05, 'epoch': 1.53}\n"
     ]
    },
    {
     "data": {
      "application/vnd.jupyter.widget-view+json": {
       "model_id": "f6b2a3ce05f34ae798e0e61d5f0b2a58",
       "version_major": 2,
       "version_minor": 0
      },
      "text/plain": [
       "  0%|          | 0/1698 [00:00<?, ?it/s]"
      ]
     },
     "metadata": {},
     "output_type": "display_data"
    },
    {
     "name": "stdout",
     "output_type": "stream",
     "text": [
      "{'eval_loss': 0.001018580631352961, 'eval_precision': 0.8119325551232166, 'eval_recall': 0.9513677811550152, 'eval_f5': 0.9451251379130133, 'eval_p-PHONE_NUM': 0.0, 'eval_r-PHONE_NUM': 0.0, 'eval_f5-PHONE_NUM': 0.0, 'eval_p-USERNAME': 0.3333333333333333, 'eval_r-USERNAME': 1.0, 'eval_f5-USERNAME': 0.9285714285714286, 'eval_p-ID_NUM': 0.8064516129032258, 'eval_r-ID_NUM': 0.9615384615384616, 'eval_f5-ID_NUM': 0.9544787077826726, 'eval_p-STREET_ADDRESS': 0.0, 'eval_r-STREET_ADDRESS': 0.0, 'eval_f5-STREET_ADDRESS': 0.0, 'eval_p-URL_PERSONAL': 0.7575757575757576, 'eval_r-URL_PERSONAL': 1.0, 'eval_f5-URL_PERSONAL': 0.9878419452887538, 'eval_p-EMAIL': 1.0, 'eval_r-EMAIL': 1.0, 'eval_f5-EMAIL': 1.0, 'eval_p-NAME_STUDENT': 0.8313782991202346, 'eval_r-NAME_STUDENT': 0.9481605351170569, 'eval_f5-NAME_STUDENT': 0.9430655066530195, 'eval_runtime': 53.3289, 'eval_samples_per_second': 31.84, 'eval_steps_per_second': 31.84, 'epoch': 1.53}\n",
      "{'loss': 0.0011, 'learning_rate': 1.3335435056746534e-05, 'epoch': 1.56}\n",
      "{'loss': 0.0022, 'learning_rate': 1.302017654476671e-05, 'epoch': 1.6}\n",
      "{'loss': 0.001, 'learning_rate': 1.2704918032786885e-05, 'epoch': 1.63}\n",
      "{'loss': 0.0005, 'learning_rate': 1.2389659520807061e-05, 'epoch': 1.67}\n",
      "{'loss': 0.0007, 'learning_rate': 1.2074401008827239e-05, 'epoch': 1.7}\n"
     ]
    },
    {
     "data": {
      "application/vnd.jupyter.widget-view+json": {
       "model_id": "d14263924613440d9bd945585a58e4f5",
       "version_major": 2,
       "version_minor": 0
      },
      "text/plain": [
       "  0%|          | 0/1698 [00:00<?, ?it/s]"
      ]
     },
     "metadata": {},
     "output_type": "display_data"
    },
    {
     "name": "stdout",
     "output_type": "stream",
     "text": [
      "{'eval_loss': 0.00106418423820287, 'eval_precision': 0.7658536585365854, 'eval_recall': 0.9544072948328267, 'eval_f5': 0.9454545454545454, 'eval_p-PHONE_NUM': 0.0, 'eval_r-PHONE_NUM': 0.0, 'eval_f5-PHONE_NUM': 0.0, 'eval_p-USERNAME': 1.0, 'eval_r-USERNAME': 1.0, 'eval_f5-USERNAME': 1.0, 'eval_p-ID_NUM': 0.9615384615384616, 'eval_r-ID_NUM': 0.9615384615384616, 'eval_f5-ID_NUM': 0.9615384615384616, 'eval_p-STREET_ADDRESS': 0.0, 'eval_r-STREET_ADDRESS': 0.0, 'eval_f5-STREET_ADDRESS': 0.0, 'eval_p-URL_PERSONAL': 1.0, 'eval_r-URL_PERSONAL': 0.72, 'eval_f5-URL_PERSONAL': 0.7278382581648523, 'eval_p-EMAIL': 1.0, 'eval_r-EMAIL': 1.0, 'eval_f5-EMAIL': 1.0, 'eval_p-NAME_STUDENT': 0.7639257294429708, 'eval_r-NAME_STUDENT': 0.9632107023411371, 'eval_f5-NAME_STUDENT': 0.9536423841059603, 'eval_runtime': 53.1863, 'eval_samples_per_second': 31.926, 'eval_steps_per_second': 31.926, 'epoch': 1.7}\n",
      "{'loss': 0.0007, 'learning_rate': 1.1759142496847415e-05, 'epoch': 1.73}\n",
      "{'loss': 0.0007, 'learning_rate': 1.144388398486759e-05, 'epoch': 1.77}\n",
      "{'loss': 0.0004, 'learning_rate': 1.1128625472887768e-05, 'epoch': 1.8}\n",
      "{'loss': 0.0013, 'learning_rate': 1.0813366960907944e-05, 'epoch': 1.84}\n",
      "{'loss': 0.0008, 'learning_rate': 1.0498108448928122e-05, 'epoch': 1.87}\n"
     ]
    },
    {
     "data": {
      "application/vnd.jupyter.widget-view+json": {
       "model_id": "9ffa49c9ed674a748f793daa63e42413",
       "version_major": 2,
       "version_minor": 0
      },
      "text/plain": [
       "  0%|          | 0/1698 [00:00<?, ?it/s]"
      ]
     },
     "metadata": {},
     "output_type": "display_data"
    },
    {
     "name": "stdout",
     "output_type": "stream",
     "text": [
      "{'eval_loss': 0.0012362874113023281, 'eval_precision': 0.7086092715231788, 'eval_recall': 0.9756838905775076, 'eval_f5': 0.9617423369439964, 'eval_p-PHONE_NUM': 0.0, 'eval_r-PHONE_NUM': 0.0, 'eval_f5-PHONE_NUM': 0.0, 'eval_p-USERNAME': 0.3333333333333333, 'eval_r-USERNAME': 1.0, 'eval_f5-USERNAME': 0.9285714285714286, 'eval_p-ID_NUM': 0.8275862068965517, 'eval_r-ID_NUM': 0.9230769230769231, 'eval_f5-ID_NUM': 0.9189985272459499, 'eval_p-STREET_ADDRESS': 0.0, 'eval_r-STREET_ADDRESS': 0.0, 'eval_f5-STREET_ADDRESS': 0.0, 'eval_p-URL_PERSONAL': 0.7741935483870968, 'eval_r-URL_PERSONAL': 0.96, 'eval_f5-URL_PERSONAL': 0.9512195121951219, 'eval_p-EMAIL': 1.0, 'eval_r-EMAIL': 1.0, 'eval_f5-EMAIL': 1.0, 'eval_p-NAME_STUDENT': 0.7125456760048721, 'eval_r-NAME_STUDENT': 0.9782608695652174, 'eval_f5-NAME_STUDENT': 0.964428381206011, 'eval_runtime': 52.961, 'eval_samples_per_second': 32.061, 'eval_steps_per_second': 32.061, 'epoch': 1.87}\n",
      "{'loss': 0.001, 'learning_rate': 1.0182849936948297e-05, 'epoch': 1.9}\n",
      "{'loss': 0.0006, 'learning_rate': 9.867591424968473e-06, 'epoch': 1.94}\n",
      "{'loss': 0.0005, 'learning_rate': 9.552332912988651e-06, 'epoch': 1.97}\n",
      "{'loss': 0.0033, 'learning_rate': 9.237074401008827e-06, 'epoch': 2.01}\n",
      "{'loss': 0.0009, 'learning_rate': 8.921815889029004e-06, 'epoch': 2.04}\n"
     ]
    },
    {
     "data": {
      "application/vnd.jupyter.widget-view+json": {
       "model_id": "699c4d46333943e19f700e71759310f8",
       "version_major": 2,
       "version_minor": 0
      },
      "text/plain": [
       "  0%|          | 0/1698 [00:00<?, ?it/s]"
      ]
     },
     "metadata": {},
     "output_type": "display_data"
    },
    {
     "name": "stdout",
     "output_type": "stream",
     "text": [
      "{'eval_loss': 0.0008639008738100529, 'eval_precision': 0.8166449934980494, 'eval_recall': 0.9544072948328267, 'eval_f5': 0.9482548347755386, 'eval_p-PHONE_NUM': 0.0, 'eval_r-PHONE_NUM': 0.0, 'eval_f5-PHONE_NUM': 0.0, 'eval_p-USERNAME': 0.5, 'eval_r-USERNAME': 1.0, 'eval_f5-USERNAME': 0.9629629629629629, 'eval_p-ID_NUM': 0.8571428571428571, 'eval_r-ID_NUM': 0.9230769230769231, 'eval_f5-ID_NUM': 0.920353982300885, 'eval_p-STREET_ADDRESS': 0.0, 'eval_r-STREET_ADDRESS': 0.0, 'eval_f5-STREET_ADDRESS': 0.0, 'eval_p-URL_PERSONAL': 0.8461538461538461, 'eval_r-URL_PERSONAL': 0.88, 'eval_f5-URL_PERSONAL': 0.8786482334869432, 'eval_p-EMAIL': 1.0, 'eval_r-EMAIL': 1.0, 'eval_f5-EMAIL': 1.0, 'eval_p-NAME_STUDENT': 0.8280346820809249, 'eval_r-NAME_STUDENT': 0.9581939799331104, 'eval_f5-NAME_STUDENT': 0.9524357499041043, 'eval_runtime': 52.8752, 'eval_samples_per_second': 32.113, 'eval_steps_per_second': 32.113, 'epoch': 2.04}\n",
      "{'loss': 0.0006, 'learning_rate': 8.60655737704918e-06, 'epoch': 2.07}\n",
      "{'loss': 0.0003, 'learning_rate': 8.291298865069358e-06, 'epoch': 2.11}\n",
      "{'loss': 0.0003, 'learning_rate': 7.976040353089534e-06, 'epoch': 2.14}\n",
      "{'loss': 0.0006, 'learning_rate': 7.66078184110971e-06, 'epoch': 2.18}\n",
      "{'loss': 0.0004, 'learning_rate': 7.345523329129887e-06, 'epoch': 2.21}\n"
     ]
    },
    {
     "data": {
      "application/vnd.jupyter.widget-view+json": {
       "model_id": "b27501e626f5484cb54b05af7050c9b3",
       "version_major": 2,
       "version_minor": 0
      },
      "text/plain": [
       "  0%|          | 0/1698 [00:00<?, ?it/s]"
      ]
     },
     "metadata": {},
     "output_type": "display_data"
    },
    {
     "name": "stdout",
     "output_type": "stream",
     "text": [
      "{'eval_loss': 0.0008024873095564544, 'eval_precision': 0.8441734417344173, 'eval_recall': 0.9468085106382979, 'eval_f5': 0.9424016755876191, 'eval_p-PHONE_NUM': 0.0, 'eval_r-PHONE_NUM': 0.0, 'eval_f5-PHONE_NUM': 0.0, 'eval_p-USERNAME': 0.5, 'eval_r-USERNAME': 1.0, 'eval_f5-USERNAME': 0.9629629629629629, 'eval_p-ID_NUM': 0.9230769230769231, 'eval_r-ID_NUM': 0.9230769230769231, 'eval_f5-ID_NUM': 0.923076923076923, 'eval_p-STREET_ADDRESS': 0.0, 'eval_r-STREET_ADDRESS': 0.0, 'eval_f5-STREET_ADDRESS': 0.0, 'eval_p-URL_PERSONAL': 0.7931034482758621, 'eval_r-URL_PERSONAL': 0.92, 'eval_f5-URL_PERSONAL': 0.9143730886850153, 'eval_p-EMAIL': 1.0, 'eval_r-EMAIL': 1.0, 'eval_f5-EMAIL': 1.0, 'eval_p-NAME_STUDENT': 0.8590909090909091, 'eval_r-NAME_STUDENT': 0.9481605351170569, 'eval_f5-NAME_STUDENT': 0.9443946188340807, 'eval_runtime': 53.6941, 'eval_samples_per_second': 31.624, 'eval_steps_per_second': 31.624, 'epoch': 2.21}\n",
      "{'loss': 0.0007, 'learning_rate': 7.030264817150063e-06, 'epoch': 2.24}\n",
      "{'loss': 0.0003, 'learning_rate': 6.7150063051702405e-06, 'epoch': 2.28}\n",
      "{'loss': 0.0006, 'learning_rate': 6.399747793190416e-06, 'epoch': 2.31}\n",
      "{'loss': 0.0007, 'learning_rate': 6.084489281210593e-06, 'epoch': 2.35}\n",
      "{'loss': 0.0006, 'learning_rate': 5.76923076923077e-06, 'epoch': 2.38}\n"
     ]
    },
    {
     "data": {
      "application/vnd.jupyter.widget-view+json": {
       "model_id": "d4f71f74c3db4078a61866fb06ebfb70",
       "version_major": 2,
       "version_minor": 0
      },
      "text/plain": [
       "  0%|          | 0/1698 [00:00<?, ?it/s]"
      ]
     },
     "metadata": {},
     "output_type": "display_data"
    },
    {
     "name": "stdout",
     "output_type": "stream",
     "text": [
      "{'eval_loss': 0.0010302276350557804, 'eval_precision': 0.7779141104294478, 'eval_recall': 0.9635258358662614, 'eval_f5': 0.9547639733565015, 'eval_p-PHONE_NUM': 0.0, 'eval_r-PHONE_NUM': 0.0, 'eval_f5-PHONE_NUM': 0.0, 'eval_p-USERNAME': 0.5, 'eval_r-USERNAME': 1.0, 'eval_f5-USERNAME': 0.9629629629629629, 'eval_p-ID_NUM': 0.8571428571428571, 'eval_r-ID_NUM': 0.9230769230769231, 'eval_f5-ID_NUM': 0.920353982300885, 'eval_p-STREET_ADDRESS': 0.0, 'eval_r-STREET_ADDRESS': 0.0, 'eval_f5-STREET_ADDRESS': 0.0, 'eval_p-URL_PERSONAL': 0.78125, 'eval_r-URL_PERSONAL': 1.0, 'eval_f5-URL_PERSONAL': 0.989345509893455, 'eval_p-EMAIL': 1.0, 'eval_r-EMAIL': 1.0, 'eval_f5-EMAIL': 1.0, 'eval_p-NAME_STUDENT': 0.7879616963064295, 'eval_r-NAME_STUDENT': 0.9632107023411371, 'eval_f5-NAME_STUDENT': 0.9550411325808303, 'eval_runtime': 52.999, 'eval_samples_per_second': 32.038, 'eval_steps_per_second': 32.038, 'epoch': 2.38}\n",
      "{'loss': 0.0002, 'learning_rate': 5.453972257250946e-06, 'epoch': 2.41}\n",
      "{'loss': 0.0006, 'learning_rate': 5.138713745271122e-06, 'epoch': 2.45}\n",
      "{'loss': 0.0004, 'learning_rate': 4.823455233291299e-06, 'epoch': 2.48}\n",
      "{'loss': 0.0004, 'learning_rate': 4.508196721311476e-06, 'epoch': 2.52}\n",
      "{'loss': 0.0005, 'learning_rate': 4.1929382093316525e-06, 'epoch': 2.55}\n"
     ]
    },
    {
     "data": {
      "application/vnd.jupyter.widget-view+json": {
       "model_id": "4f1a9a61396d473b97aacc2670b06dfc",
       "version_major": 2,
       "version_minor": 0
      },
      "text/plain": [
       "  0%|          | 0/1698 [00:00<?, ?it/s]"
      ]
     },
     "metadata": {},
     "output_type": "display_data"
    },
    {
     "name": "stdout",
     "output_type": "stream",
     "text": [
      "{'eval_loss': 0.0010808567749336362, 'eval_precision': 0.7791411042944786, 'eval_recall': 0.9650455927051672, 'eval_f5': 0.9562699102229945, 'eval_p-PHONE_NUM': 0.0, 'eval_r-PHONE_NUM': 0.0, 'eval_f5-PHONE_NUM': 0.0, 'eval_p-USERNAME': 0.5, 'eval_r-USERNAME': 1.0, 'eval_f5-USERNAME': 0.9629629629629629, 'eval_p-ID_NUM': 0.8888888888888888, 'eval_r-ID_NUM': 0.9230769230769231, 'eval_f5-ID_NUM': 0.9217134416543575, 'eval_p-STREET_ADDRESS': 0.0, 'eval_r-STREET_ADDRESS': 0.0, 'eval_f5-STREET_ADDRESS': 0.0, 'eval_p-URL_PERSONAL': 0.78125, 'eval_r-URL_PERSONAL': 1.0, 'eval_f5-URL_PERSONAL': 0.989345509893455, 'eval_p-EMAIL': 1.0, 'eval_r-EMAIL': 1.0, 'eval_f5-EMAIL': 1.0, 'eval_p-NAME_STUDENT': 0.7882513661202186, 'eval_r-NAME_STUDENT': 0.9648829431438127, 'eval_f5-NAME_STUDENT': 0.9566381839051141, 'eval_runtime': 52.989, 'eval_samples_per_second': 32.044, 'eval_steps_per_second': 32.044, 'epoch': 2.55}\n",
      "{'loss': 0.0005, 'learning_rate': 3.877679697351828e-06, 'epoch': 2.59}\n",
      "{'loss': 0.0003, 'learning_rate': 3.562421185372005e-06, 'epoch': 2.62}\n",
      "{'loss': 0.0004, 'learning_rate': 3.247162673392182e-06, 'epoch': 2.65}\n",
      "{'loss': 0.0003, 'learning_rate': 2.9319041614123585e-06, 'epoch': 2.69}\n",
      "{'loss': 0.0008, 'learning_rate': 2.616645649432535e-06, 'epoch': 2.72}\n"
     ]
    },
    {
     "data": {
      "application/vnd.jupyter.widget-view+json": {
       "model_id": "7ce1b639be66433f898b3d655bfd9108",
       "version_major": 2,
       "version_minor": 0
      },
      "text/plain": [
       "  0%|          | 0/1698 [00:00<?, ?it/s]"
      ]
     },
     "metadata": {},
     "output_type": "display_data"
    },
    {
     "name": "stdout",
     "output_type": "stream",
     "text": [
      "{'eval_loss': 0.0008767778635956347, 'eval_precision': 0.8148631029986962, 'eval_recall': 0.9498480243161094, 'eval_f5': 0.9438345820990881, 'eval_p-PHONE_NUM': 0.0, 'eval_r-PHONE_NUM': 0.0, 'eval_f5-PHONE_NUM': 0.0, 'eval_p-USERNAME': 0.5, 'eval_r-USERNAME': 1.0, 'eval_f5-USERNAME': 0.9629629629629629, 'eval_p-ID_NUM': 0.9259259259259259, 'eval_r-ID_NUM': 0.9615384615384616, 'eval_f5-ID_NUM': 0.9601181683899558, 'eval_p-STREET_ADDRESS': 0.0, 'eval_r-STREET_ADDRESS': 0.0, 'eval_f5-STREET_ADDRESS': 0.0, 'eval_p-URL_PERSONAL': 0.78125, 'eval_r-URL_PERSONAL': 1.0, 'eval_f5-URL_PERSONAL': 0.989345509893455, 'eval_p-EMAIL': 1.0, 'eval_r-EMAIL': 1.0, 'eval_f5-EMAIL': 1.0, 'eval_p-NAME_STUDENT': 0.827485380116959, 'eval_r-NAME_STUDENT': 0.9464882943143813, 'eval_f5-NAME_STUDENT': 0.9412818216707177, 'eval_runtime': 53.4681, 'eval_samples_per_second': 31.757, 'eval_steps_per_second': 31.757, 'epoch': 2.72}\n",
      "{'loss': 0.0005, 'learning_rate': 2.3013871374527115e-06, 'epoch': 2.76}\n",
      "{'loss': 0.0003, 'learning_rate': 1.9861286254728882e-06, 'epoch': 2.79}\n",
      "{'loss': 0.0005, 'learning_rate': 1.6708701134930643e-06, 'epoch': 2.82}\n",
      "{'loss': 0.0004, 'learning_rate': 1.355611601513241e-06, 'epoch': 2.86}\n",
      "{'loss': 0.0003, 'learning_rate': 1.0403530895334175e-06, 'epoch': 2.89}\n"
     ]
    },
    {
     "data": {
      "application/vnd.jupyter.widget-view+json": {
       "model_id": "9e4eae2569b04810aa8312e46ae4e616",
       "version_major": 2,
       "version_minor": 0
      },
      "text/plain": [
       "  0%|          | 0/1698 [00:00<?, ?it/s]"
      ]
     },
     "metadata": {},
     "output_type": "display_data"
    },
    {
     "name": "stdout",
     "output_type": "stream",
     "text": [
      "{'eval_loss': 0.0008890742319636047, 'eval_precision': 0.8110539845758354, 'eval_recall': 0.958966565349544, 'eval_f5': 0.9522869746923612, 'eval_p-PHONE_NUM': 0.0, 'eval_r-PHONE_NUM': 0.0, 'eval_f5-PHONE_NUM': 0.0, 'eval_p-USERNAME': 0.5, 'eval_r-USERNAME': 1.0, 'eval_f5-USERNAME': 0.9629629629629629, 'eval_p-ID_NUM': 0.9615384615384616, 'eval_r-ID_NUM': 0.9615384615384616, 'eval_f5-ID_NUM': 0.9615384615384616, 'eval_p-STREET_ADDRESS': 0.0, 'eval_r-STREET_ADDRESS': 0.0, 'eval_f5-STREET_ADDRESS': 0.0, 'eval_p-URL_PERSONAL': 0.8275862068965517, 'eval_r-URL_PERSONAL': 0.96, 'eval_f5-URL_PERSONAL': 0.9541284403669724, 'eval_p-EMAIL': 1.0, 'eval_r-EMAIL': 1.0, 'eval_f5-EMAIL': 1.0, 'eval_p-NAME_STUDENT': 0.8197424892703863, 'eval_r-NAME_STUDENT': 0.9581939799331104, 'eval_f5-NAME_STUDENT': 0.9520097130807079, 'eval_runtime': 53.0311, 'eval_samples_per_second': 32.019, 'eval_steps_per_second': 32.019, 'epoch': 2.89}\n",
      "{'loss': 0.0002, 'learning_rate': 7.250945775535939e-07, 'epoch': 2.93}\n",
      "{'loss': 0.0004, 'learning_rate': 4.098360655737705e-07, 'epoch': 2.96}\n",
      "{'loss': 0.0007, 'learning_rate': 9.457755359394704e-08, 'epoch': 2.99}\n",
      "{'train_runtime': 2850.8895, 'train_samples_per_second': 4.95, 'train_steps_per_second': 0.309, 'train_loss': 0.05449709764422, 'epoch': 3.0}\n"
     ]
    },
    {
     "data": {
      "application/vnd.jupyter.widget-view+json": {
       "model_id": "7af3e8f20d0a42f792551cafed211d07",
       "version_major": 2,
       "version_minor": 0
      },
      "text/plain": [
       "  0%|          | 0/1698 [00:00<?, ?it/s]"
      ]
     },
     "metadata": {},
     "output_type": "display_data"
    },
    {
     "data": {
      "application/vnd.jupyter.widget-view+json": {
       "model_id": "f357506aa230405fa278c836075b9668",
       "version_major": 2,
       "version_minor": 0
      },
      "text/plain": [
       "Map (num_proc=12):   0%|          | 0/4714 [00:00<?, ? examples/s]"
      ]
     },
     "metadata": {},
     "output_type": "display_data"
    },
    {
     "data": {
      "application/vnd.jupyter.widget-view+json": {
       "model_id": "d8c9781614fe4c07a5fcb2c1ed1a167f",
       "version_major": 2,
       "version_minor": 0
      },
      "text/plain": [
       "Map (num_proc=12):   0%|          | 0/1714 [00:00<?, ? examples/s]"
      ]
     },
     "metadata": {},
     "output_type": "display_data"
    },
    {
     "data": {
      "application/vnd.jupyter.widget-view+json": {
       "model_id": "fa4c23f5f9ca490cbd3583eeaca1e184",
       "version_major": 2,
       "version_minor": 0
      },
      "text/plain": [
       "  0%|          | 0/882 [00:00<?, ?it/s]"
      ]
     },
     "metadata": {},
     "output_type": "display_data"
    },
    {
     "name": "stdout",
     "output_type": "stream",
     "text": [
      "{'loss': 2.5191, 'learning_rate': 2.5280898876404495e-06, 'epoch': 0.03}\n",
      "{'loss': 1.5837, 'learning_rate': 5.3370786516853935e-06, 'epoch': 0.07}\n",
      "{'loss': 0.3097, 'learning_rate': 8.146067415730338e-06, 'epoch': 0.1}\n",
      "{'loss': 0.1008, 'learning_rate': 1.0955056179775282e-05, 'epoch': 0.14}\n",
      "{'loss': 0.0509, 'learning_rate': 1.3764044943820225e-05, 'epoch': 0.17}\n",
      "{'loss': 0.0424, 'learning_rate': 1.657303370786517e-05, 'epoch': 0.2}\n",
      "{'loss': 0.0277, 'learning_rate': 1.9382022471910114e-05, 'epoch': 0.24}\n",
      "{'loss': 0.0237, 'learning_rate': 2.2191011235955056e-05, 'epoch': 0.27}\n",
      "{'loss': 0.0118, 'learning_rate': 2.5e-05, 'epoch': 0.31}\n",
      "{'loss': 0.0132, 'learning_rate': 2.4684741488020177e-05, 'epoch': 0.34}\n"
     ]
    },
    {
     "data": {
      "application/vnd.jupyter.widget-view+json": {
       "model_id": "5e999021f4144b48b69a742fde48a9af",
       "version_major": 2,
       "version_minor": 0
      },
      "text/plain": [
       "  0%|          | 0/1714 [00:00<?, ?it/s]"
      ]
     },
     "metadata": {},
     "output_type": "display_data"
    },
    {
     "name": "stdout",
     "output_type": "stream",
     "text": [
      "{'eval_loss': 0.0038712820969522, 'eval_precision': 0.5344827586206896, 'eval_recall': 0.8942307692307693, 'eval_f5': 0.8716654650324441, 'eval_p-PHONE_NUM': 1.0, 'eval_r-PHONE_NUM': 1.0, 'eval_f5-PHONE_NUM': 1.0, 'eval_p-USERNAME': 0.0, 'eval_r-USERNAME': 0.0, 'eval_f5-USERNAME': 0.0, 'eval_p-ID_NUM': 0.5416666666666666, 'eval_r-ID_NUM': 0.9629629629629629, 'eval_f5-ID_NUM': 0.9349930843706775, 'eval_p-STREET_ADDRESS': 0.0, 'eval_r-STREET_ADDRESS': 0.0, 'eval_f5-STREET_ADDRESS': 0.0, 'eval_p-URL_PERSONAL': 0.5409836065573771, 'eval_r-URL_PERSONAL': 1.0, 'eval_f5-URL_PERSONAL': 0.9683972911963883, 'eval_p-EMAIL': 1.0, 'eval_r-EMAIL': 1.0, 'eval_f5-EMAIL': 1.0, 'eval_p-NAME_STUDENT': 0.5322128851540616, 'eval_r-NAME_STUDENT': 0.8823529411764706, 'eval_f5-NAME_STUDENT': 0.8605772022530631, 'eval_runtime': 54.4506, 'eval_samples_per_second': 31.478, 'eval_steps_per_second': 31.478, 'epoch': 0.34}\n",
      "{'loss': 0.0098, 'learning_rate': 2.4369482976040353e-05, 'epoch': 0.37}\n",
      "{'loss': 0.0075, 'learning_rate': 2.4054224464060532e-05, 'epoch': 0.41}\n",
      "{'loss': 0.0091, 'learning_rate': 2.3738965952080708e-05, 'epoch': 0.44}\n",
      "{'loss': 0.0071, 'learning_rate': 2.3423707440100884e-05, 'epoch': 0.48}\n",
      "{'loss': 0.0053, 'learning_rate': 2.310844892812106e-05, 'epoch': 0.51}\n"
     ]
    },
    {
     "data": {
      "application/vnd.jupyter.widget-view+json": {
       "model_id": "19c1bf0ed55a4b0b9b510735436954a7",
       "version_major": 2,
       "version_minor": 0
      },
      "text/plain": [
       "  0%|          | 0/1714 [00:00<?, ?it/s]"
      ]
     },
     "metadata": {},
     "output_type": "display_data"
    },
    {
     "name": "stdout",
     "output_type": "stream",
     "text": [
      "{'eval_loss': 0.00235686800442636, 'eval_precision': 0.7145877378435518, 'eval_recall': 0.9285714285714286, 'eval_f5': 0.917998537553536, 'eval_p-PHONE_NUM': 1.0, 'eval_r-PHONE_NUM': 1.0, 'eval_f5-PHONE_NUM': 1.0, 'eval_p-USERNAME': 0.0, 'eval_r-USERNAME': 0.0, 'eval_f5-USERNAME': 0.0, 'eval_p-ID_NUM': 0.6666666666666666, 'eval_r-ID_NUM': 0.9629629629629629, 'eval_f5-ID_NUM': 0.946778711484594, 'eval_p-STREET_ADDRESS': 0.0, 'eval_r-STREET_ADDRESS': 0.0, 'eval_f5-STREET_ADDRESS': 0.0, 'eval_p-URL_PERSONAL': 0.6206896551724138, 'eval_r-URL_PERSONAL': 0.5454545454545454, 'eval_f5-URL_PERSONAL': 0.5480093676814987, 'eval_p-EMAIL': 1.0, 'eval_r-EMAIL': 1.0, 'eval_f5-EMAIL': 1.0, 'eval_p-NAME_STUDENT': 0.71849234393404, 'eval_r-NAME_STUDENT': 0.9442724458204335, 'eval_f5-NAME_STUDENT': 0.9329960585916819, 'eval_runtime': 53.7818, 'eval_samples_per_second': 31.87, 'eval_steps_per_second': 31.87, 'epoch': 0.51}\n",
      "{'loss': 0.0047, 'learning_rate': 2.2793190416141236e-05, 'epoch': 0.54}\n",
      "{'loss': 0.0056, 'learning_rate': 2.2477931904161415e-05, 'epoch': 0.58}\n",
      "{'loss': 0.0057, 'learning_rate': 2.216267339218159e-05, 'epoch': 0.61}\n",
      "{'loss': 0.0046, 'learning_rate': 2.1847414880201767e-05, 'epoch': 0.64}\n",
      "{'loss': 0.0044, 'learning_rate': 2.1532156368221943e-05, 'epoch': 0.68}\n"
     ]
    },
    {
     "data": {
      "application/vnd.jupyter.widget-view+json": {
       "model_id": "a9eecaacdf9f4119b7ad3816dff21950",
       "version_major": 2,
       "version_minor": 0
      },
      "text/plain": [
       "  0%|          | 0/1714 [00:00<?, ?it/s]"
      ]
     },
     "metadata": {},
     "output_type": "display_data"
    },
    {
     "name": "stdout",
     "output_type": "stream",
     "text": [
      "{'eval_loss': 0.0020340532064437866, 'eval_precision': 0.652963671128107, 'eval_recall': 0.9381868131868132, 'eval_f5': 0.9226852332952302, 'eval_p-PHONE_NUM': 1.0, 'eval_r-PHONE_NUM': 1.0, 'eval_f5-PHONE_NUM': 1.0, 'eval_p-USERNAME': 0.0, 'eval_r-USERNAME': 0.0, 'eval_f5-USERNAME': 0.0, 'eval_p-ID_NUM': 0.5882352941176471, 'eval_r-ID_NUM': 0.7407407407407407, 'eval_f5-ID_NUM': 0.7334273624823695, 'eval_p-STREET_ADDRESS': 0.0, 'eval_r-STREET_ADDRESS': 0.0, 'eval_f5-STREET_ADDRESS': 0.0, 'eval_p-URL_PERSONAL': 0.4852941176470588, 'eval_r-URL_PERSONAL': 1.0, 'eval_f5-URL_PERSONAL': 0.9608062709966405, 'eval_p-EMAIL': 1.0, 'eval_r-EMAIL': 1.0, 'eval_f5-EMAIL': 1.0, 'eval_p-NAME_STUDENT': 0.6659364731653888, 'eval_r-NAME_STUDENT': 0.9411764705882353, 'eval_f5-NAME_STUDENT': 0.9264490417863214, 'eval_runtime': 54.5547, 'eval_samples_per_second': 31.418, 'eval_steps_per_second': 31.418, 'epoch': 0.68}\n",
      "{'loss': 0.0036, 'learning_rate': 2.121689785624212e-05, 'epoch': 0.71}\n",
      "{'loss': 0.005, 'learning_rate': 2.0901639344262298e-05, 'epoch': 0.75}\n",
      "{'loss': 0.0021, 'learning_rate': 2.0586380832282474e-05, 'epoch': 0.78}\n",
      "{'loss': 0.0031, 'learning_rate': 2.027112232030265e-05, 'epoch': 0.81}\n",
      "{'loss': 0.0016, 'learning_rate': 1.9955863808322825e-05, 'epoch': 0.85}\n"
     ]
    },
    {
     "data": {
      "application/vnd.jupyter.widget-view+json": {
       "model_id": "7a7191e3794e4c84a4345766bf682b7b",
       "version_major": 2,
       "version_minor": 0
      },
      "text/plain": [
       "  0%|          | 0/1714 [00:00<?, ?it/s]"
      ]
     },
     "metadata": {},
     "output_type": "display_data"
    },
    {
     "name": "stdout",
     "output_type": "stream",
     "text": [
      "{'eval_loss': 0.0015167933888733387, 'eval_precision': 0.7857142857142857, 'eval_recall': 0.9368131868131868, 'eval_f5': 0.9299349695825466, 'eval_p-PHONE_NUM': 1.0, 'eval_r-PHONE_NUM': 1.0, 'eval_f5-PHONE_NUM': 1.0, 'eval_p-USERNAME': 0.0, 'eval_r-USERNAME': 0.0, 'eval_f5-USERNAME': 0.0, 'eval_p-ID_NUM': 0.6097560975609756, 'eval_r-ID_NUM': 0.9259259259259259, 'eval_f5-ID_NUM': 0.9078212290502793, 'eval_p-STREET_ADDRESS': 0.0, 'eval_r-STREET_ADDRESS': 0.0, 'eval_f5-STREET_ADDRESS': 0.0, 'eval_p-URL_PERSONAL': 0.717391304347826, 'eval_r-URL_PERSONAL': 1.0, 'eval_f5-URL_PERSONAL': 0.9850746268656716, 'eval_p-EMAIL': 1.0, 'eval_r-EMAIL': 1.0, 'eval_f5-EMAIL': 1.0, 'eval_p-NAME_STUDENT': 0.8037383177570093, 'eval_r-NAME_STUDENT': 0.9318885448916409, 'eval_f5-NAME_STUDENT': 0.926208651399491, 'eval_runtime': 54.2331, 'eval_samples_per_second': 31.604, 'eval_steps_per_second': 31.604, 'epoch': 0.85}\n",
      "{'loss': 0.0018, 'learning_rate': 1.9640605296343e-05, 'epoch': 0.88}\n",
      "{'loss': 0.0017, 'learning_rate': 1.932534678436318e-05, 'epoch': 0.92}\n",
      "{'loss': 0.0014, 'learning_rate': 1.9010088272383356e-05, 'epoch': 0.95}\n",
      "{'loss': 0.0014, 'learning_rate': 1.8694829760403532e-05, 'epoch': 0.98}\n",
      "{'loss': 0.0015, 'learning_rate': 1.8379571248423708e-05, 'epoch': 1.02}\n"
     ]
    },
    {
     "data": {
      "application/vnd.jupyter.widget-view+json": {
       "model_id": "c6ff0440d5f94ab4b2cce4d69a7812be",
       "version_major": 2,
       "version_minor": 0
      },
      "text/plain": [
       "  0%|          | 0/1714 [00:00<?, ?it/s]"
      ]
     },
     "metadata": {},
     "output_type": "display_data"
    },
    {
     "name": "stdout",
     "output_type": "stream",
     "text": [
      "{'eval_loss': 0.0012661706423386931, 'eval_precision': 0.828009828009828, 'eval_recall': 0.9258241758241759, 'eval_f5': 0.9216366887556537, 'eval_p-PHONE_NUM': 1.0, 'eval_r-PHONE_NUM': 1.0, 'eval_f5-PHONE_NUM': 1.0, 'eval_p-USERNAME': 0.0, 'eval_r-USERNAME': 0.0, 'eval_f5-USERNAME': 0.0, 'eval_p-ID_NUM': 0.6578947368421053, 'eval_r-ID_NUM': 0.9259259259259259, 'eval_f5-ID_NUM': 0.91164095371669, 'eval_p-STREET_ADDRESS': 0.0, 'eval_r-STREET_ADDRESS': 0.0, 'eval_f5-STREET_ADDRESS': 0.0, 'eval_p-URL_PERSONAL': 0.75, 'eval_r-URL_PERSONAL': 1.0, 'eval_f5-URL_PERSONAL': 0.9873417721518988, 'eval_p-EMAIL': 1.0, 'eval_r-EMAIL': 1.0, 'eval_f5-EMAIL': 1.0, 'eval_p-NAME_STUDENT': 0.8401697312588402, 'eval_r-NAME_STUDENT': 0.9195046439628483, 'eval_f5-NAME_STUDENT': 0.9161772557394554, 'eval_runtime': 54.0156, 'eval_samples_per_second': 31.732, 'eval_steps_per_second': 31.732, 'epoch': 1.02}\n",
      "{'loss': 0.0016, 'learning_rate': 1.8064312736443884e-05, 'epoch': 1.05}\n",
      "{'loss': 0.0008, 'learning_rate': 1.7749054224464063e-05, 'epoch': 1.09}\n",
      "{'loss': 0.0008, 'learning_rate': 1.743379571248424e-05, 'epoch': 1.12}\n",
      "{'loss': 0.0011, 'learning_rate': 1.7118537200504415e-05, 'epoch': 1.15}\n",
      "{'loss': 0.0012, 'learning_rate': 1.680327868852459e-05, 'epoch': 1.19}\n"
     ]
    },
    {
     "data": {
      "application/vnd.jupyter.widget-view+json": {
       "model_id": "2a0145c7bdf143a1baf10e8dd819e4b4",
       "version_major": 2,
       "version_minor": 0
      },
      "text/plain": [
       "  0%|          | 0/1714 [00:00<?, ?it/s]"
      ]
     },
     "metadata": {},
     "output_type": "display_data"
    },
    {
     "name": "stdout",
     "output_type": "stream",
     "text": [
      "{'eval_loss': 0.0012480069417506456, 'eval_precision': 0.8672086720867209, 'eval_recall': 0.8791208791208791, 'eval_f5': 0.8786566691308481, 'eval_p-PHONE_NUM': 1.0, 'eval_r-PHONE_NUM': 1.0, 'eval_f5-PHONE_NUM': 1.0, 'eval_p-USERNAME': 0.0, 'eval_r-USERNAME': 0.0, 'eval_f5-USERNAME': 0.0, 'eval_p-ID_NUM': 0.5526315789473685, 'eval_r-ID_NUM': 0.7777777777777778, 'eval_f5-ID_NUM': 0.7657784011220196, 'eval_p-STREET_ADDRESS': 0.0, 'eval_r-STREET_ADDRESS': 0.0, 'eval_f5-STREET_ADDRESS': 0.0, 'eval_p-URL_PERSONAL': 0.75, 'eval_r-URL_PERSONAL': 1.0, 'eval_f5-URL_PERSONAL': 0.9873417721518988, 'eval_p-EMAIL': 1.0, 'eval_r-EMAIL': 1.0, 'eval_f5-EMAIL': 1.0, 'eval_p-NAME_STUDENT': 0.8995215311004785, 'eval_r-NAME_STUDENT': 0.8730650154798761, 'eval_f5-NAME_STUDENT': 0.8740537640817787, 'eval_runtime': 54.592, 'eval_samples_per_second': 31.397, 'eval_steps_per_second': 31.397, 'epoch': 1.19}\n",
      "{'loss': 0.0013, 'learning_rate': 1.6488020176544767e-05, 'epoch': 1.22}\n",
      "{'loss': 0.0013, 'learning_rate': 1.6172761664564946e-05, 'epoch': 1.26}\n",
      "{'loss': 0.0026, 'learning_rate': 1.585750315258512e-05, 'epoch': 1.29}\n",
      "{'loss': 0.0011, 'learning_rate': 1.5542244640605298e-05, 'epoch': 1.32}\n",
      "{'loss': 0.0009, 'learning_rate': 1.5226986128625473e-05, 'epoch': 1.36}\n"
     ]
    },
    {
     "data": {
      "application/vnd.jupyter.widget-view+json": {
       "model_id": "bab62e027559468f8f6612df808a5fd7",
       "version_major": 2,
       "version_minor": 0
      },
      "text/plain": [
       "  0%|          | 0/1714 [00:00<?, ?it/s]"
      ]
     },
     "metadata": {},
     "output_type": "display_data"
    },
    {
     "name": "stdout",
     "output_type": "stream",
     "text": [
      "{'eval_loss': 0.0010915239108726382, 'eval_precision': 0.8621134020618557, 'eval_recall': 0.9189560439560439, 'eval_f5': 0.9166315345699831, 'eval_p-PHONE_NUM': 1.0, 'eval_r-PHONE_NUM': 1.0, 'eval_f5-PHONE_NUM': 1.0, 'eval_p-USERNAME': 0.0, 'eval_r-USERNAME': 0.0, 'eval_f5-USERNAME': 0.0, 'eval_p-ID_NUM': 0.6285714285714286, 'eval_r-ID_NUM': 0.8148148148148148, 'eval_f5-ID_NUM': 0.8056338028169013, 'eval_p-STREET_ADDRESS': 0.0, 'eval_r-STREET_ADDRESS': 0.0, 'eval_f5-STREET_ADDRESS': 0.0, 'eval_p-URL_PERSONAL': 0.673469387755102, 'eval_r-URL_PERSONAL': 1.0, 'eval_f5-URL_PERSONAL': 0.9816933638443935, 'eval_p-EMAIL': 1.0, 'eval_r-EMAIL': 1.0, 'eval_f5-EMAIL': 1.0, 'eval_p-NAME_STUDENT': 0.8849028400597907, 'eval_r-NAME_STUDENT': 0.9164086687306502, 'eval_f5-NAME_STUDENT': 0.915155478922647, 'eval_runtime': 53.585, 'eval_samples_per_second': 31.987, 'eval_steps_per_second': 31.987, 'epoch': 1.36}\n",
      "{'loss': 0.0011, 'learning_rate': 1.491172761664565e-05, 'epoch': 1.39}\n",
      "{'loss': 0.001, 'learning_rate': 1.4596469104665827e-05, 'epoch': 1.43}\n",
      "{'loss': 0.0011, 'learning_rate': 1.4281210592686003e-05, 'epoch': 1.46}\n",
      "{'loss': 0.0017, 'learning_rate': 1.396595208070618e-05, 'epoch': 1.49}\n",
      "{'loss': 0.0015, 'learning_rate': 1.3650693568726356e-05, 'epoch': 1.53}\n"
     ]
    },
    {
     "data": {
      "application/vnd.jupyter.widget-view+json": {
       "model_id": "42e254fcd139473e88ad77dfbe1b1dda",
       "version_major": 2,
       "version_minor": 0
      },
      "text/plain": [
       "  0%|          | 0/1714 [00:00<?, ?it/s]"
      ]
     },
     "metadata": {},
     "output_type": "display_data"
    },
    {
     "name": "stdout",
     "output_type": "stream",
     "text": [
      "{'eval_loss': 0.0008985201129689813, 'eval_precision': 0.82875, 'eval_recall': 0.9107142857142857, 'eval_f5': 0.9072631578947369, 'eval_p-PHONE_NUM': 1.0, 'eval_r-PHONE_NUM': 1.0, 'eval_f5-PHONE_NUM': 1.0, 'eval_p-USERNAME': 0.0, 'eval_r-USERNAME': 0.0, 'eval_f5-USERNAME': 0.0, 'eval_p-ID_NUM': 0.6764705882352942, 'eval_r-ID_NUM': 0.8518518518518519, 'eval_f5-ID_NUM': 0.843441466854725, 'eval_p-STREET_ADDRESS': 0.0, 'eval_r-STREET_ADDRESS': 0.0, 'eval_f5-STREET_ADDRESS': 0.0, 'eval_p-URL_PERSONAL': 1.0, 'eval_r-URL_PERSONAL': 0.7575757575757576, 'eval_f5-URL_PERSONAL': 0.7647058823529411, 'eval_p-EMAIL': 1.0, 'eval_r-EMAIL': 1.0, 'eval_f5-EMAIL': 1.0, 'eval_p-NAME_STUDENT': 0.8270571827057183, 'eval_r-NAME_STUDENT': 0.9179566563467493, 'eval_f5-NAME_STUDENT': 0.9140926068654771, 'eval_runtime': 54.4157, 'eval_samples_per_second': 31.498, 'eval_steps_per_second': 31.498, 'epoch': 1.53}\n",
      "{'loss': 0.0009, 'learning_rate': 1.3335435056746534e-05, 'epoch': 1.56}\n",
      "{'loss': 0.0017, 'learning_rate': 1.302017654476671e-05, 'epoch': 1.6}\n",
      "{'loss': 0.0006, 'learning_rate': 1.2704918032786885e-05, 'epoch': 1.63}\n",
      "{'loss': 0.0008, 'learning_rate': 1.2389659520807061e-05, 'epoch': 1.66}\n",
      "{'loss': 0.0006, 'learning_rate': 1.2074401008827239e-05, 'epoch': 1.7}\n"
     ]
    },
    {
     "data": {
      "application/vnd.jupyter.widget-view+json": {
       "model_id": "a7ceb40016f84e588f7425170233c1dc",
       "version_major": 2,
       "version_minor": 0
      },
      "text/plain": [
       "  0%|          | 0/1714 [00:00<?, ?it/s]"
      ]
     },
     "metadata": {},
     "output_type": "display_data"
    },
    {
     "name": "stdout",
     "output_type": "stream",
     "text": [
      "{'eval_loss': 0.001682151691056788, 'eval_precision': 0.7505494505494505, 'eval_recall': 0.9381868131868132, 'eval_f5': 0.9292517006802721, 'eval_p-PHONE_NUM': 1.0, 'eval_r-PHONE_NUM': 1.0, 'eval_f5-PHONE_NUM': 1.0, 'eval_p-USERNAME': 0.0, 'eval_r-USERNAME': 0.0, 'eval_f5-USERNAME': 0.0, 'eval_p-ID_NUM': 0.6060606060606061, 'eval_r-ID_NUM': 0.7407407407407407, 'eval_f5-ID_NUM': 0.7344632768361582, 'eval_p-STREET_ADDRESS': 0.0, 'eval_r-STREET_ADDRESS': 0.0, 'eval_f5-STREET_ADDRESS': 0.0, 'eval_p-URL_PERSONAL': 0.717391304347826, 'eval_r-URL_PERSONAL': 1.0, 'eval_f5-URL_PERSONAL': 0.9850746268656716, 'eval_p-EMAIL': 1.0, 'eval_r-EMAIL': 1.0, 'eval_f5-EMAIL': 1.0, 'eval_p-NAME_STUDENT': 0.7590511860174781, 'eval_r-NAME_STUDENT': 0.9411764705882353, 'eval_f5-NAME_STUDENT': 0.9325703498318682, 'eval_runtime': 53.5569, 'eval_samples_per_second': 32.003, 'eval_steps_per_second': 32.003, 'epoch': 1.7}\n",
      "{'loss': 0.001, 'learning_rate': 1.1759142496847415e-05, 'epoch': 1.73}\n",
      "{'loss': 0.0006, 'learning_rate': 1.144388398486759e-05, 'epoch': 1.76}\n",
      "{'loss': 0.0009, 'learning_rate': 1.1128625472887768e-05, 'epoch': 1.8}\n",
      "{'loss': 0.001, 'learning_rate': 1.0813366960907944e-05, 'epoch': 1.83}\n",
      "{'loss': 0.0005, 'learning_rate': 1.0498108448928122e-05, 'epoch': 1.87}\n"
     ]
    },
    {
     "data": {
      "application/vnd.jupyter.widget-view+json": {
       "model_id": "d685a742ba1e45d28e2cb0a120918086",
       "version_major": 2,
       "version_minor": 0
      },
      "text/plain": [
       "  0%|          | 0/1714 [00:00<?, ?it/s]"
      ]
     },
     "metadata": {},
     "output_type": "display_data"
    },
    {
     "name": "stdout",
     "output_type": "stream",
     "text": [
      "{'eval_loss': 0.0010156100615859032, 'eval_precision': 0.8126491646778043, 'eval_recall': 0.9354395604395604, 'eval_f5': 0.9300346675070911, 'eval_p-PHONE_NUM': 1.0, 'eval_r-PHONE_NUM': 1.0, 'eval_f5-PHONE_NUM': 1.0, 'eval_p-USERNAME': 0.0, 'eval_r-USERNAME': 0.0, 'eval_f5-USERNAME': 0.0, 'eval_p-ID_NUM': 0.6756756756756757, 'eval_r-ID_NUM': 0.9259259259259259, 'eval_f5-ID_NUM': 0.9129213483146068, 'eval_p-STREET_ADDRESS': 0.0, 'eval_r-STREET_ADDRESS': 0.0, 'eval_f5-STREET_ADDRESS': 0.0, 'eval_p-URL_PERSONAL': 0.7441860465116279, 'eval_r-URL_PERSONAL': 0.9696969696969697, 'eval_f5-URL_PERSONAL': 0.9585253456221197, 'eval_p-EMAIL': 1.0, 'eval_r-EMAIL': 1.0, 'eval_f5-EMAIL': 1.0, 'eval_p-NAME_STUDENT': 0.8201634877384196, 'eval_r-NAME_STUDENT': 0.9318885448916409, 'eval_f5-NAME_STUDENT': 0.9270315091210612, 'eval_runtime': 54.5363, 'eval_samples_per_second': 31.429, 'eval_steps_per_second': 31.429, 'epoch': 1.87}\n",
      "{'loss': 0.0014, 'learning_rate': 1.0182849936948297e-05, 'epoch': 1.9}\n",
      "{'loss': 0.0004, 'learning_rate': 9.867591424968473e-06, 'epoch': 1.93}\n",
      "{'loss': 0.0007, 'learning_rate': 9.552332912988651e-06, 'epoch': 1.97}\n",
      "{'loss': 0.0019, 'learning_rate': 9.237074401008827e-06, 'epoch': 2.0}\n",
      "{'loss': 0.0006, 'learning_rate': 8.921815889029004e-06, 'epoch': 2.04}\n"
     ]
    },
    {
     "data": {
      "application/vnd.jupyter.widget-view+json": {
       "model_id": "5d7b772f0b71457597757ee669b57b33",
       "version_major": 2,
       "version_minor": 0
      },
      "text/plain": [
       "  0%|          | 0/1714 [00:00<?, ?it/s]"
      ]
     },
     "metadata": {},
     "output_type": "display_data"
    },
    {
     "name": "stdout",
     "output_type": "stream",
     "text": [
      "{'eval_loss': 0.0009696885826997459, 'eval_precision': 0.8016528925619835, 'eval_recall': 0.9326923076923077, 'eval_f5': 0.9268651231165013, 'eval_p-PHONE_NUM': 1.0, 'eval_r-PHONE_NUM': 1.0, 'eval_f5-PHONE_NUM': 1.0, 'eval_p-USERNAME': 0.0, 'eval_r-USERNAME': 0.0, 'eval_f5-USERNAME': 0.0, 'eval_p-ID_NUM': 0.7428571428571429, 'eval_r-ID_NUM': 0.9629629629629629, 'eval_f5-ID_NUM': 0.9521126760563381, 'eval_p-STREET_ADDRESS': 0.0, 'eval_r-STREET_ADDRESS': 0.0, 'eval_f5-STREET_ADDRESS': 0.0, 'eval_p-URL_PERSONAL': 0.7567567567567568, 'eval_r-URL_PERSONAL': 0.8484848484848485, 'eval_f5-URL_PERSONAL': 0.8445475638051045, 'eval_p-EMAIL': 1.0, 'eval_r-EMAIL': 1.0, 'eval_f5-EMAIL': 1.0, 'eval_p-NAME_STUDENT': 0.8007968127490039, 'eval_r-NAME_STUDENT': 0.93343653250774, 'eval_f5-NAME_STUDENT': 0.9275276578122225, 'eval_runtime': 54.0819, 'eval_samples_per_second': 31.693, 'eval_steps_per_second': 31.693, 'epoch': 2.04}\n",
      "{'loss': 0.0008, 'learning_rate': 8.60655737704918e-06, 'epoch': 2.07}\n",
      "{'loss': 0.0006, 'learning_rate': 8.291298865069358e-06, 'epoch': 2.1}\n",
      "{'loss': 0.0003, 'learning_rate': 7.976040353089534e-06, 'epoch': 2.14}\n",
      "{'loss': 0.0002, 'learning_rate': 7.66078184110971e-06, 'epoch': 2.17}\n",
      "{'loss': 0.0013, 'learning_rate': 7.345523329129887e-06, 'epoch': 2.21}\n"
     ]
    },
    {
     "data": {
      "application/vnd.jupyter.widget-view+json": {
       "model_id": "df07b135735e4a698cad985a13a046ff",
       "version_major": 2,
       "version_minor": 0
      },
      "text/plain": [
       "  0%|          | 0/1714 [00:00<?, ?it/s]"
      ]
     },
     "metadata": {},
     "output_type": "display_data"
    },
    {
     "name": "stdout",
     "output_type": "stream",
     "text": [
      "{'eval_loss': 0.0014954755315557122, 'eval_precision': 0.8282950423216445, 'eval_recall': 0.9409340659340659, 'eval_f5': 0.936038261417985, 'eval_p-PHONE_NUM': 1.0, 'eval_r-PHONE_NUM': 1.0, 'eval_f5-PHONE_NUM': 1.0, 'eval_p-USERNAME': 0.0, 'eval_r-USERNAME': 0.0, 'eval_f5-USERNAME': 0.0, 'eval_p-ID_NUM': 0.6578947368421053, 'eval_r-ID_NUM': 0.9259259259259259, 'eval_f5-ID_NUM': 0.91164095371669, 'eval_p-STREET_ADDRESS': 0.0, 'eval_r-STREET_ADDRESS': 0.0, 'eval_f5-STREET_ADDRESS': 0.0, 'eval_p-URL_PERSONAL': 0.75, 'eval_r-URL_PERSONAL': 1.0, 'eval_f5-URL_PERSONAL': 0.9873417721518988, 'eval_p-EMAIL': 1.0, 'eval_r-EMAIL': 1.0, 'eval_f5-EMAIL': 1.0, 'eval_p-NAME_STUDENT': 0.8391123439667129, 'eval_r-NAME_STUDENT': 0.9365325077399381, 'eval_f5-NAME_STUDENT': 0.9323691541698772, 'eval_runtime': 53.7374, 'eval_samples_per_second': 31.896, 'eval_steps_per_second': 31.896, 'epoch': 2.21}\n",
      "{'loss': 0.0005, 'learning_rate': 7.030264817150063e-06, 'epoch': 2.24}\n",
      "{'loss': 0.001, 'learning_rate': 6.7150063051702405e-06, 'epoch': 2.27}\n",
      "{'loss': 0.0006, 'learning_rate': 6.399747793190416e-06, 'epoch': 2.31}\n",
      "{'loss': 0.0007, 'learning_rate': 6.084489281210593e-06, 'epoch': 2.34}\n",
      "{'loss': 0.0004, 'learning_rate': 5.76923076923077e-06, 'epoch': 2.38}\n"
     ]
    },
    {
     "data": {
      "application/vnd.jupyter.widget-view+json": {
       "model_id": "ac7c445756c24e04aeb8a0658d5482c8",
       "version_major": 2,
       "version_minor": 0
      },
      "text/plain": [
       "  0%|          | 0/1714 [00:00<?, ?it/s]"
      ]
     },
     "metadata": {},
     "output_type": "display_data"
    },
    {
     "name": "stdout",
     "output_type": "stream",
     "text": [
      "{'eval_loss': 0.0008133295341394842, 'eval_precision': 0.84472049689441, 'eval_recall': 0.9340659340659341, 'eval_f5': 0.9302815048671403, 'eval_p-PHONE_NUM': 1.0, 'eval_r-PHONE_NUM': 1.0, 'eval_f5-PHONE_NUM': 1.0, 'eval_p-USERNAME': 0.0, 'eval_r-USERNAME': 0.0, 'eval_f5-USERNAME': 0.0, 'eval_p-ID_NUM': 0.7647058823529411, 'eval_r-ID_NUM': 0.9629629629629629, 'eval_f5-ID_NUM': 0.9534555712270804, 'eval_p-STREET_ADDRESS': 0.0, 'eval_r-STREET_ADDRESS': 0.0, 'eval_f5-STREET_ADDRESS': 0.0, 'eval_p-URL_PERSONAL': 0.7674418604651163, 'eval_r-URL_PERSONAL': 1.0, 'eval_f5-URL_PERSONAL': 0.988479262672811, 'eval_p-EMAIL': 1.0, 'eval_r-EMAIL': 1.0, 'eval_f5-EMAIL': 1.0, 'eval_p-NAME_STUDENT': 0.8508522727272727, 'eval_r-NAME_STUDENT': 0.9272445820433437, 'eval_f5-NAME_STUDENT': 0.924053637118785, 'eval_runtime': 54.4058, 'eval_samples_per_second': 31.504, 'eval_steps_per_second': 31.504, 'epoch': 2.38}\n",
      "{'loss': 0.0002, 'learning_rate': 5.453972257250946e-06, 'epoch': 2.41}\n",
      "{'loss': 0.0005, 'learning_rate': 5.138713745271122e-06, 'epoch': 2.44}\n",
      "{'loss': 0.0003, 'learning_rate': 4.823455233291299e-06, 'epoch': 2.48}\n",
      "{'loss': 0.0001, 'learning_rate': 4.508196721311476e-06, 'epoch': 2.51}\n",
      "{'loss': 0.0005, 'learning_rate': 4.1929382093316525e-06, 'epoch': 2.55}\n"
     ]
    },
    {
     "data": {
      "application/vnd.jupyter.widget-view+json": {
       "model_id": "a0c2262d2e734059896f557c22a3a972",
       "version_major": 2,
       "version_minor": 0
      },
      "text/plain": [
       "  0%|          | 0/1714 [00:00<?, ?it/s]"
      ]
     },
     "metadata": {},
     "output_type": "display_data"
    },
    {
     "name": "stdout",
     "output_type": "stream",
     "text": [
      "{'eval_loss': 0.0008116228273138404, 'eval_precision': 0.8363858363858364, 'eval_recall': 0.9409340659340659, 'eval_f5': 0.9364319890635681, 'eval_p-PHONE_NUM': 1.0, 'eval_r-PHONE_NUM': 1.0, 'eval_f5-PHONE_NUM': 1.0, 'eval_p-USERNAME': 0.0, 'eval_r-USERNAME': 0.0, 'eval_f5-USERNAME': 0.0, 'eval_p-ID_NUM': 0.7575757575757576, 'eval_r-ID_NUM': 0.9259259259259259, 'eval_f5-ID_NUM': 0.9180790960451977, 'eval_p-STREET_ADDRESS': 0.0, 'eval_r-STREET_ADDRESS': 0.0, 'eval_f5-STREET_ADDRESS': 0.0, 'eval_p-URL_PERSONAL': 0.8205128205128205, 'eval_r-URL_PERSONAL': 0.9696969696969697, 'eval_f5-URL_PERSONAL': 0.962962962962963, 'eval_p-EMAIL': 1.0, 'eval_r-EMAIL': 1.0, 'eval_f5-EMAIL': 1.0, 'eval_p-NAME_STUDENT': 0.8370165745856354, 'eval_r-NAME_STUDENT': 0.9380804953560371, 'eval_f5-NAME_STUDENT': 0.933744221879815, 'eval_runtime': 54.1234, 'eval_samples_per_second': 31.668, 'eval_steps_per_second': 31.668, 'epoch': 2.55}\n",
      "{'loss': 0.0003, 'learning_rate': 3.877679697351828e-06, 'epoch': 2.58}\n",
      "{'loss': 0.0011, 'learning_rate': 3.562421185372005e-06, 'epoch': 2.61}\n",
      "{'loss': 0.0005, 'learning_rate': 3.247162673392182e-06, 'epoch': 2.65}\n",
      "{'loss': 0.0002, 'learning_rate': 2.9319041614123585e-06, 'epoch': 2.68}\n",
      "{'loss': 0.0005, 'learning_rate': 2.616645649432535e-06, 'epoch': 2.72}\n"
     ]
    },
    {
     "data": {
      "application/vnd.jupyter.widget-view+json": {
       "model_id": "bb85b2fafac5468e8faacecefe146381",
       "version_major": 2,
       "version_minor": 0
      },
      "text/plain": [
       "  0%|          | 0/1714 [00:00<?, ?it/s]"
      ]
     },
     "metadata": {},
     "output_type": "display_data"
    },
    {
     "name": "stdout",
     "output_type": "stream",
     "text": [
      "{'eval_loss': 0.0009317489457316697, 'eval_precision': 0.8388683886838868, 'eval_recall': 0.9368131868131868, 'eval_f5': 0.9326250460211435, 'eval_p-PHONE_NUM': 1.0, 'eval_r-PHONE_NUM': 1.0, 'eval_f5-PHONE_NUM': 1.0, 'eval_p-USERNAME': 0.0, 'eval_r-USERNAME': 0.0, 'eval_f5-USERNAME': 0.0, 'eval_p-ID_NUM': 0.7222222222222222, 'eval_r-ID_NUM': 0.9629629629629629, 'eval_f5-ID_NUM': 0.9507735583684952, 'eval_p-STREET_ADDRESS': 0.0, 'eval_r-STREET_ADDRESS': 0.0, 'eval_f5-STREET_ADDRESS': 0.0, 'eval_p-URL_PERSONAL': 0.75, 'eval_r-URL_PERSONAL': 1.0, 'eval_f5-URL_PERSONAL': 0.9873417721518988, 'eval_p-EMAIL': 1.0, 'eval_r-EMAIL': 1.0, 'eval_f5-EMAIL': 1.0, 'eval_p-NAME_STUDENT': 0.8464788732394366, 'eval_r-NAME_STUDENT': 0.9303405572755418, 'eval_f5-NAME_STUDENT': 0.9268090154211152, 'eval_runtime': 54.1277, 'eval_samples_per_second': 31.666, 'eval_steps_per_second': 31.666, 'epoch': 2.72}\n",
      "{'loss': 0.0005, 'learning_rate': 2.3013871374527115e-06, 'epoch': 2.75}\n",
      "{'loss': 0.0003, 'learning_rate': 1.9861286254728882e-06, 'epoch': 2.78}\n",
      "{'loss': 0.0003, 'learning_rate': 1.6708701134930643e-06, 'epoch': 2.82}\n",
      "{'loss': 0.0002, 'learning_rate': 1.355611601513241e-06, 'epoch': 2.85}\n",
      "{'loss': 0.0003, 'learning_rate': 1.0403530895334175e-06, 'epoch': 2.89}\n"
     ]
    },
    {
     "data": {
      "application/vnd.jupyter.widget-view+json": {
       "model_id": "89d3309161884a988aa43886fb34327d",
       "version_major": 2,
       "version_minor": 0
      },
      "text/plain": [
       "  0%|          | 0/1714 [00:00<?, ?it/s]"
      ]
     },
     "metadata": {},
     "output_type": "display_data"
    },
    {
     "name": "stdout",
     "output_type": "stream",
     "text": [
      "{'eval_loss': 0.0010035918094217777, 'eval_precision': 0.8200238379022646, 'eval_recall': 0.945054945054945, 'eval_f5': 0.9395451441777404, 'eval_p-PHONE_NUM': 1.0, 'eval_r-PHONE_NUM': 1.0, 'eval_f5-PHONE_NUM': 1.0, 'eval_p-USERNAME': 0.0, 'eval_r-USERNAME': 0.0, 'eval_f5-USERNAME': 0.0, 'eval_p-ID_NUM': 0.7142857142857143, 'eval_r-ID_NUM': 0.9259259259259259, 'eval_f5-ID_NUM': 0.9154929577464788, 'eval_p-STREET_ADDRESS': 0.0, 'eval_r-STREET_ADDRESS': 0.0, 'eval_f5-STREET_ADDRESS': 0.0, 'eval_p-URL_PERSONAL': 0.75, 'eval_r-URL_PERSONAL': 1.0, 'eval_f5-URL_PERSONAL': 0.9873417721518988, 'eval_p-EMAIL': 1.0, 'eval_r-EMAIL': 1.0, 'eval_f5-EMAIL': 1.0, 'eval_p-NAME_STUDENT': 0.824966078697422, 'eval_r-NAME_STUDENT': 0.9411764705882353, 'eval_f5-NAME_STUDENT': 0.9361046959199384, 'eval_runtime': 54.5581, 'eval_samples_per_second': 31.416, 'eval_steps_per_second': 31.416, 'epoch': 2.89}\n",
      "{'loss': 0.0002, 'learning_rate': 7.250945775535939e-07, 'epoch': 2.92}\n",
      "{'loss': 0.0003, 'learning_rate': 4.098360655737705e-07, 'epoch': 2.95}\n",
      "{'loss': 0.0002, 'learning_rate': 9.457755359394704e-08, 'epoch': 2.99}\n",
      "{'train_runtime': 2867.042, 'train_samples_per_second': 4.933, 'train_steps_per_second': 0.308, 'train_loss': 0.054606361714452545, 'epoch': 2.99}\n"
     ]
    },
    {
     "data": {
      "application/vnd.jupyter.widget-view+json": {
       "model_id": "5f70ebd2f56d4feba10c75548c69f105",
       "version_major": 2,
       "version_minor": 0
      },
      "text/plain": [
       "  0%|          | 0/1714 [00:00<?, ?it/s]"
      ]
     },
     "metadata": {},
     "output_type": "display_data"
    },
    {
     "data": {
      "application/vnd.jupyter.widget-view+json": {
       "model_id": "2d279c65f3364f18906cc6871820fdb7",
       "version_major": 2,
       "version_minor": 0
      },
      "text/plain": [
       "Map (num_proc=12):   0%|          | 0/4736 [00:00<?, ? examples/s]"
      ]
     },
     "metadata": {},
     "output_type": "display_data"
    },
    {
     "data": {
      "application/vnd.jupyter.widget-view+json": {
       "model_id": "df9f35af27304321a906628a43326b8b",
       "version_major": 2,
       "version_minor": 0
      },
      "text/plain": [
       "Map (num_proc=12):   0%|          | 0/1689 [00:00<?, ? examples/s]"
      ]
     },
     "metadata": {},
     "output_type": "display_data"
    },
    {
     "data": {
      "application/vnd.jupyter.widget-view+json": {
       "model_id": "df42e3fb69b345dc9a543b1a4f7d225e",
       "version_major": 2,
       "version_minor": 0
      },
      "text/plain": [
       "  0%|          | 0/888 [00:00<?, ?it/s]"
      ]
     },
     "metadata": {},
     "output_type": "display_data"
    },
    {
     "name": "stdout",
     "output_type": "stream",
     "text": [
      "{'loss': 2.5133, 'learning_rate': 2.5280898876404495e-06, 'epoch': 0.03}\n",
      "{'loss': 1.5828, 'learning_rate': 5.3370786516853935e-06, 'epoch': 0.07}\n",
      "{'loss': 0.3047, 'learning_rate': 8.146067415730338e-06, 'epoch': 0.1}\n",
      "{'loss': 0.1062, 'learning_rate': 1.0955056179775282e-05, 'epoch': 0.14}\n",
      "{'loss': 0.0688, 'learning_rate': 1.3764044943820225e-05, 'epoch': 0.17}\n",
      "{'loss': 0.0387, 'learning_rate': 1.657303370786517e-05, 'epoch': 0.2}\n",
      "{'loss': 0.0237, 'learning_rate': 1.9382022471910114e-05, 'epoch': 0.24}\n",
      "{'loss': 0.0134, 'learning_rate': 2.2191011235955056e-05, 'epoch': 0.27}\n",
      "{'loss': 0.012, 'learning_rate': 2.5e-05, 'epoch': 0.3}\n",
      "{'loss': 0.0158, 'learning_rate': 2.4687108886107636e-05, 'epoch': 0.34}\n"
     ]
    },
    {
     "data": {
      "application/vnd.jupyter.widget-view+json": {
       "model_id": "8ec95fccae584c7ea24aed5bd6493468",
       "version_major": 2,
       "version_minor": 0
      },
      "text/plain": [
       "  0%|          | 0/1689 [00:00<?, ?it/s]"
      ]
     },
     "metadata": {},
     "output_type": "display_data"
    },
    {
     "name": "stdout",
     "output_type": "stream",
     "text": [
      "{'eval_loss': 0.0018785007996484637, 'eval_precision': 0.787531806615776, 'eval_recall': 0.8387533875338753, 'eval_f5': 0.8366604283634852, 'eval_p-PHONE_NUM': 1.0, 'eval_r-PHONE_NUM': 1.0, 'eval_f5-PHONE_NUM': 1.0, 'eval_p-USERNAME': 1.0, 'eval_r-USERNAME': 0.25, 'eval_f5-USERNAME': 0.25742574257425743, 'eval_p-ID_NUM': 1.0, 'eval_r-ID_NUM': 0.8571428571428571, 'eval_f5-ID_NUM': 0.8618784530386739, 'eval_p-STREET_ADDRESS': 0.8571428571428571, 'eval_r-STREET_ADDRESS': 0.8181818181818182, 'eval_f5-STREET_ADDRESS': 0.819614711033275, 'eval_p-URL_PERSONAL': 0.7096774193548387, 'eval_r-URL_PERSONAL': 0.7857142857142857, 'eval_f5-URL_PERSONAL': 0.7824897400820794, 'eval_p-EMAIL': 0.8888888888888888, 'eval_r-EMAIL': 1.0, 'eval_f5-EMAIL': 0.9952153110047847, 'eval_p-NAME_STUDENT': 0.7834036568213784, 'eval_r-NAME_STUDENT': 0.8426626323751891, 'eval_f5-NAME_STUDENT': 0.8402181480621956, 'eval_runtime': 51.9652, 'eval_samples_per_second': 32.503, 'eval_steps_per_second': 32.503, 'epoch': 0.34}\n",
      "{'loss': 0.0069, 'learning_rate': 2.437421777221527e-05, 'epoch': 0.37}\n",
      "{'loss': 0.0072, 'learning_rate': 2.4061326658322904e-05, 'epoch': 0.41}\n",
      "{'loss': 0.0062, 'learning_rate': 2.374843554443054e-05, 'epoch': 0.44}\n",
      "{'loss': 0.0053, 'learning_rate': 2.3435544430538173e-05, 'epoch': 0.47}\n",
      "{'loss': 0.0052, 'learning_rate': 2.3122653316645808e-05, 'epoch': 0.51}\n"
     ]
    },
    {
     "data": {
      "application/vnd.jupyter.widget-view+json": {
       "model_id": "1f50ca50c376419295476403832f0b76",
       "version_major": 2,
       "version_minor": 0
      },
      "text/plain": [
       "  0%|          | 0/1689 [00:00<?, ?it/s]"
      ]
     },
     "metadata": {},
     "output_type": "display_data"
    },
    {
     "name": "stdout",
     "output_type": "stream",
     "text": [
      "{'eval_loss': 0.0020587865728884935, 'eval_precision': 0.8923766816143498, 'eval_recall': 0.8089430894308943, 'eval_f5': 0.8118625451121921, 'eval_p-PHONE_NUM': 1.0, 'eval_r-PHONE_NUM': 1.0, 'eval_f5-PHONE_NUM': 1.0, 'eval_p-USERNAME': 1.0, 'eval_r-USERNAME': 0.5, 'eval_f5-USERNAME': 0.5098039215686274, 'eval_p-ID_NUM': 0.875, 'eval_r-ID_NUM': 1.0, 'eval_f5-ID_NUM': 0.994535519125683, 'eval_p-STREET_ADDRESS': 0.8333333333333334, 'eval_r-STREET_ADDRESS': 0.9090909090909091, 'eval_f5-STREET_ADDRESS': 0.9059233449477352, 'eval_p-URL_PERSONAL': 1.0, 'eval_r-URL_PERSONAL': 0.42857142857142855, 'eval_f5-URL_PERSONAL': 0.43820224719101125, 'eval_p-EMAIL': 0.8888888888888888, 'eval_r-EMAIL': 1.0, 'eval_f5-EMAIL': 0.9952153110047847, 'eval_p-NAME_STUDENT': 0.8925619834710744, 'eval_r-NAME_STUDENT': 0.8169440242057489, 'eval_f5-NAME_STUDENT': 0.8196147110332749, 'eval_runtime': 51.5895, 'eval_samples_per_second': 32.739, 'eval_steps_per_second': 32.739, 'epoch': 0.51}\n",
      "{'loss': 0.0054, 'learning_rate': 2.2809762202753442e-05, 'epoch': 0.54}\n",
      "{'loss': 0.0034, 'learning_rate': 2.2496871088861077e-05, 'epoch': 0.57}\n",
      "{'loss': 0.0022, 'learning_rate': 2.2183979974968714e-05, 'epoch': 0.61}\n",
      "{'loss': 0.003, 'learning_rate': 2.1871088861076345e-05, 'epoch': 0.64}\n",
      "{'loss': 0.004, 'learning_rate': 2.155819774718398e-05, 'epoch': 0.68}\n"
     ]
    },
    {
     "data": {
      "application/vnd.jupyter.widget-view+json": {
       "model_id": "efb06d4770364c91948f0eba56d67b25",
       "version_major": 2,
       "version_minor": 0
      },
      "text/plain": [
       "  0%|          | 0/1689 [00:00<?, ?it/s]"
      ]
     },
     "metadata": {},
     "output_type": "display_data"
    },
    {
     "name": "stdout",
     "output_type": "stream",
     "text": [
      "{'eval_loss': 0.0011181195732206106, 'eval_precision': 0.8558786346396966, 'eval_recall': 0.9173441734417345, 'eval_f5': 0.9148173171872565, 'eval_p-PHONE_NUM': 1.0, 'eval_r-PHONE_NUM': 1.0, 'eval_f5-PHONE_NUM': 1.0, 'eval_p-USERNAME': 0.8, 'eval_r-USERNAME': 1.0, 'eval_f5-USERNAME': 0.9904761904761905, 'eval_p-ID_NUM': 1.0, 'eval_r-ID_NUM': 1.0, 'eval_f5-ID_NUM': 1.0, 'eval_p-STREET_ADDRESS': 1.0, 'eval_r-STREET_ADDRESS': 0.9090909090909091, 'eval_f5-STREET_ADDRESS': 0.9122807017543859, 'eval_p-URL_PERSONAL': 0.6585365853658537, 'eval_r-URL_PERSONAL': 0.9642857142857143, 'eval_f5-URL_PERSONAL': 0.9473684210526314, 'eval_p-EMAIL': 0.8888888888888888, 'eval_r-EMAIL': 1.0, 'eval_f5-EMAIL': 0.9952153110047847, 'eval_p-NAME_STUDENT': 0.8601997146932953, 'eval_r-NAME_STUDENT': 0.9122541603630863, 'eval_f5-NAME_STUDENT': 0.9101358411703241, 'eval_runtime': 52.2943, 'eval_samples_per_second': 32.298, 'eval_steps_per_second': 32.298, 'epoch': 0.68}\n",
      "{'loss': 0.0045, 'learning_rate': 2.1245306633291614e-05, 'epoch': 0.71}\n",
      "{'loss': 0.0031, 'learning_rate': 2.0932415519399252e-05, 'epoch': 0.74}\n",
      "{'loss': 0.0179, 'learning_rate': 2.0619524405506883e-05, 'epoch': 0.78}\n",
      "{'loss': 0.0019, 'learning_rate': 2.0306633291614518e-05, 'epoch': 0.81}\n",
      "{'loss': 0.0091, 'learning_rate': 1.9993742177722152e-05, 'epoch': 0.84}\n"
     ]
    },
    {
     "data": {
      "application/vnd.jupyter.widget-view+json": {
       "model_id": "234950fce33f49efb1a13f3aa73ee38d",
       "version_major": 2,
       "version_minor": 0
      },
      "text/plain": [
       "  0%|          | 0/1689 [00:00<?, ?it/s]"
      ]
     },
     "metadata": {},
     "output_type": "display_data"
    },
    {
     "name": "stdout",
     "output_type": "stream",
     "text": [
      "{'eval_loss': 0.001330066006630659, 'eval_precision': 0.9261538461538461, 'eval_recall': 0.8157181571815718, 'eval_f5': 0.8194764397905759, 'eval_p-PHONE_NUM': 1.0, 'eval_r-PHONE_NUM': 1.0, 'eval_f5-PHONE_NUM': 1.0, 'eval_p-USERNAME': 0.5, 'eval_r-USERNAME': 0.75, 'eval_f5-USERNAME': 0.7358490566037735, 'eval_p-ID_NUM': 1.0, 'eval_r-ID_NUM': 0.7857142857142857, 'eval_f5-ID_NUM': 0.7922437673130194, 'eval_p-STREET_ADDRESS': 0.9090909090909091, 'eval_r-STREET_ADDRESS': 0.9090909090909091, 'eval_f5-STREET_ADDRESS': 0.9090909090909092, 'eval_p-URL_PERSONAL': 1.0, 'eval_r-URL_PERSONAL': 0.6785714285714286, 'eval_f5-URL_PERSONAL': 0.6870653685674548, 'eval_p-EMAIL': 0.8888888888888888, 'eval_r-EMAIL': 1.0, 'eval_f5-EMAIL': 0.9952153110047847, 'eval_p-NAME_STUDENT': 0.9278350515463918, 'eval_r-NAME_STUDENT': 0.8169440242057489, 'eval_f5-NAME_STUDENT': 0.8207166656924066, 'eval_runtime': 51.7433, 'eval_samples_per_second': 32.642, 'eval_steps_per_second': 32.642, 'epoch': 0.84}\n",
      "{'loss': 0.0035, 'learning_rate': 1.968085106382979e-05, 'epoch': 0.88}\n",
      "{'loss': 0.0014, 'learning_rate': 1.9367959949937424e-05, 'epoch': 0.91}\n",
      "{'loss': 0.0016, 'learning_rate': 1.9055068836045055e-05, 'epoch': 0.95}\n",
      "{'loss': 0.0023, 'learning_rate': 1.8742177722152693e-05, 'epoch': 0.98}\n",
      "{'loss': 0.001, 'learning_rate': 1.8429286608260328e-05, 'epoch': 1.01}\n"
     ]
    },
    {
     "data": {
      "application/vnd.jupyter.widget-view+json": {
       "model_id": "1b94744eeca64dc9ba19696802d95ab5",
       "version_major": 2,
       "version_minor": 0
      },
      "text/plain": [
       "  0%|          | 0/1689 [00:00<?, ?it/s]"
      ]
     },
     "metadata": {},
     "output_type": "display_data"
    },
    {
     "name": "stdout",
     "output_type": "stream",
     "text": [
      "{'eval_loss': 0.0012854061787948012, 'eval_precision': 0.8753462603878116, 'eval_recall': 0.8563685636856369, 'eval_f5': 0.8570832464010014, 'eval_p-PHONE_NUM': 1.0, 'eval_r-PHONE_NUM': 1.0, 'eval_f5-PHONE_NUM': 1.0, 'eval_p-USERNAME': 1.0, 'eval_r-USERNAME': 1.0, 'eval_f5-USERNAME': 1.0, 'eval_p-ID_NUM': 1.0, 'eval_r-ID_NUM': 1.0, 'eval_f5-ID_NUM': 1.0, 'eval_p-STREET_ADDRESS': 0.7916666666666666, 'eval_r-STREET_ADDRESS': 0.8636363636363636, 'eval_f5-STREET_ADDRESS': 0.8606271777003486, 'eval_p-URL_PERSONAL': 0.627906976744186, 'eval_r-URL_PERSONAL': 0.9642857142857143, 'eval_f5-URL_PERSONAL': 0.9448183041722747, 'eval_p-EMAIL': 0.8888888888888888, 'eval_r-EMAIL': 1.0, 'eval_f5-EMAIL': 0.9952153110047847, 'eval_p-NAME_STUDENT': 0.8915470494417863, 'eval_r-NAME_STUDENT': 0.8456883509833586, 'eval_f5-NAME_STUDENT': 0.8473647388059703, 'eval_runtime': 51.9312, 'eval_samples_per_second': 32.524, 'eval_steps_per_second': 32.524, 'epoch': 1.01}\n",
      "{'loss': 0.0012, 'learning_rate': 1.8116395494367962e-05, 'epoch': 1.05}\n",
      "{'loss': 0.0018, 'learning_rate': 1.7803504380475593e-05, 'epoch': 1.08}\n",
      "{'loss': 0.0011, 'learning_rate': 1.749061326658323e-05, 'epoch': 1.11}\n",
      "{'loss': 0.0023, 'learning_rate': 1.7177722152690865e-05, 'epoch': 1.15}\n",
      "{'loss': 0.0007, 'learning_rate': 1.68648310387985e-05, 'epoch': 1.18}\n"
     ]
    },
    {
     "data": {
      "application/vnd.jupyter.widget-view+json": {
       "model_id": "b77dd6c1aa1f4721b8926a6671a0cf64",
       "version_major": 2,
       "version_minor": 0
      },
      "text/plain": [
       "  0%|          | 0/1689 [00:00<?, ?it/s]"
      ]
     },
     "metadata": {},
     "output_type": "display_data"
    },
    {
     "name": "stdout",
     "output_type": "stream",
     "text": [
      "{'eval_loss': 0.001734858495183289, 'eval_precision': 0.6773888363292336, 'eval_recall': 0.9701897018970189, 'eval_f5': 0.9543240887886401, 'eval_p-PHONE_NUM': 1.0, 'eval_r-PHONE_NUM': 1.0, 'eval_f5-PHONE_NUM': 1.0, 'eval_p-USERNAME': 0.6666666666666666, 'eval_r-USERNAME': 1.0, 'eval_f5-USERNAME': 0.9811320754716982, 'eval_p-ID_NUM': 0.8125, 'eval_r-ID_NUM': 0.9285714285714286, 'eval_f5-ID_NUM': 0.923497267759563, 'eval_p-STREET_ADDRESS': 0.6785714285714286, 'eval_r-STREET_ADDRESS': 0.8636363636363636, 'eval_f5-STREET_ADDRESS': 0.8546712802768166, 'eval_p-URL_PERSONAL': 0.88, 'eval_r-URL_PERSONAL': 0.7857142857142857, 'eval_f5-URL_PERSONAL': 0.7889655172413793, 'eval_p-EMAIL': 0.8888888888888888, 'eval_r-EMAIL': 1.0, 'eval_f5-EMAIL': 0.9952153110047847, 'eval_p-NAME_STUDENT': 0.6676954732510288, 'eval_r-NAME_STUDENT': 0.9818456883509834, 'eval_f5-NAME_STUDENT': 0.9643938960964736, 'eval_runtime': 52.3299, 'eval_samples_per_second': 32.276, 'eval_steps_per_second': 32.276, 'epoch': 1.18}\n",
      "{'loss': 0.0013, 'learning_rate': 1.6551939924906134e-05, 'epoch': 1.22}\n",
      "{'loss': 0.001, 'learning_rate': 1.623904881101377e-05, 'epoch': 1.25}\n",
      "{'loss': 0.0015, 'learning_rate': 1.5926157697121403e-05, 'epoch': 1.28}\n",
      "{'loss': 0.0025, 'learning_rate': 1.5613266583229037e-05, 'epoch': 1.32}\n",
      "{'loss': 0.0013, 'learning_rate': 1.5300375469336672e-05, 'epoch': 1.35}\n"
     ]
    },
    {
     "data": {
      "application/vnd.jupyter.widget-view+json": {
       "model_id": "3e09d540177842b5b390ff331e89359b",
       "version_major": 2,
       "version_minor": 0
      },
      "text/plain": [
       "  0%|          | 0/1689 [00:00<?, ?it/s]"
      ]
     },
     "metadata": {},
     "output_type": "display_data"
    },
    {
     "name": "stdout",
     "output_type": "stream",
     "text": [
      "{'eval_loss': 0.000959223136305809, 'eval_precision': 0.8923959827833573, 'eval_recall': 0.8428184281842819, 'eval_f5': 0.8446231785658328, 'eval_p-PHONE_NUM': 1.0, 'eval_r-PHONE_NUM': 1.0, 'eval_f5-PHONE_NUM': 1.0, 'eval_p-USERNAME': 1.0, 'eval_r-USERNAME': 1.0, 'eval_f5-USERNAME': 1.0, 'eval_p-ID_NUM': 0.875, 'eval_r-ID_NUM': 1.0, 'eval_f5-ID_NUM': 0.994535519125683, 'eval_p-STREET_ADDRESS': 0.9090909090909091, 'eval_r-STREET_ADDRESS': 0.9090909090909091, 'eval_f5-STREET_ADDRESS': 0.9090909090909092, 'eval_p-URL_PERSONAL': 0.6428571428571429, 'eval_r-URL_PERSONAL': 0.9642857142857143, 'eval_f5-URL_PERSONAL': 0.9460916442048517, 'eval_p-EMAIL': 0.8888888888888888, 'eval_r-EMAIL': 1.0, 'eval_f5-EMAIL': 0.9952153110047847, 'eval_p-NAME_STUDENT': 0.9087893864013267, 'eval_r-NAME_STUDENT': 0.8290468986384266, 'eval_f5-NAME_STUDENT': 0.8318542737038767, 'eval_runtime': 52.2168, 'eval_samples_per_second': 32.346, 'eval_steps_per_second': 32.346, 'epoch': 1.35}\n",
      "{'loss': 0.0008, 'learning_rate': 1.4987484355444306e-05, 'epoch': 1.39}\n",
      "{'loss': 0.001, 'learning_rate': 1.467459324155194e-05, 'epoch': 1.42}\n",
      "{'loss': 0.0016, 'learning_rate': 1.4361702127659577e-05, 'epoch': 1.45}\n",
      "{'loss': 0.0011, 'learning_rate': 1.404881101376721e-05, 'epoch': 1.49}\n",
      "{'loss': 0.0007, 'learning_rate': 1.3735919899874844e-05, 'epoch': 1.52}\n"
     ]
    },
    {
     "data": {
      "application/vnd.jupyter.widget-view+json": {
       "model_id": "ba4e4fac5f2a4251ad862b71fc69f9d4",
       "version_major": 2,
       "version_minor": 0
      },
      "text/plain": [
       "  0%|          | 0/1689 [00:00<?, ?it/s]"
      ]
     },
     "metadata": {},
     "output_type": "display_data"
    },
    {
     "name": "stdout",
     "output_type": "stream",
     "text": [
      "{'eval_loss': 0.0013964541722089052, 'eval_precision': 0.8184143222506394, 'eval_recall': 0.8672086720867209, 'eval_f5': 0.8652246256239601, 'eval_p-PHONE_NUM': 1.0, 'eval_r-PHONE_NUM': 1.0, 'eval_f5-PHONE_NUM': 1.0, 'eval_p-USERNAME': 0.6666666666666666, 'eval_r-USERNAME': 1.0, 'eval_f5-USERNAME': 0.9811320754716982, 'eval_p-ID_NUM': 1.0, 'eval_r-ID_NUM': 0.8571428571428571, 'eval_f5-ID_NUM': 0.8618784530386739, 'eval_p-STREET_ADDRESS': 0.8695652173913043, 'eval_r-STREET_ADDRESS': 0.9090909090909091, 'eval_f5-STREET_ADDRESS': 0.9075043630017451, 'eval_p-URL_PERSONAL': 0.6428571428571429, 'eval_r-URL_PERSONAL': 0.9642857142857143, 'eval_f5-URL_PERSONAL': 0.9460916442048517, 'eval_p-EMAIL': 0.8888888888888888, 'eval_r-EMAIL': 1.0, 'eval_f5-EMAIL': 0.9952153110047847, 'eval_p-NAME_STUDENT': 0.8243831640058055, 'eval_r-NAME_STUDENT': 0.859304084720121, 'eval_f5-NAME_STUDENT': 0.8579063552922039, 'eval_runtime': 51.614, 'eval_samples_per_second': 32.724, 'eval_steps_per_second': 32.724, 'epoch': 1.52}\n",
      "{'loss': 0.001, 'learning_rate': 1.3423028785982478e-05, 'epoch': 1.55}\n",
      "{'loss': 0.0011, 'learning_rate': 1.3110137672090114e-05, 'epoch': 1.59}\n",
      "{'loss': 0.0052, 'learning_rate': 1.2797246558197747e-05, 'epoch': 1.62}\n",
      "{'loss': 0.0011, 'learning_rate': 1.2484355444305382e-05, 'epoch': 1.66}\n",
      "{'loss': 0.0007, 'learning_rate': 1.2171464330413016e-05, 'epoch': 1.69}\n"
     ]
    },
    {
     "data": {
      "application/vnd.jupyter.widget-view+json": {
       "model_id": "e7ea627f0fba46f4a13082c415431c2a",
       "version_major": 2,
       "version_minor": 0
      },
      "text/plain": [
       "  0%|          | 0/1689 [00:00<?, ?it/s]"
      ]
     },
     "metadata": {},
     "output_type": "display_data"
    },
    {
     "name": "stdout",
     "output_type": "stream",
     "text": [
      "{'eval_loss': 0.001606619800440967, 'eval_precision': 0.668241965973535, 'eval_recall': 0.9579945799457995, 'eval_f5': 0.9422800902193972, 'eval_p-PHONE_NUM': 1.0, 'eval_r-PHONE_NUM': 1.0, 'eval_f5-PHONE_NUM': 1.0, 'eval_p-USERNAME': 0.6666666666666666, 'eval_r-USERNAME': 1.0, 'eval_f5-USERNAME': 0.9811320754716982, 'eval_p-ID_NUM': 1.0, 'eval_r-ID_NUM': 0.8571428571428571, 'eval_f5-ID_NUM': 0.8618784530386739, 'eval_p-STREET_ADDRESS': 0.8695652173913043, 'eval_r-STREET_ADDRESS': 0.9090909090909091, 'eval_f5-STREET_ADDRESS': 0.9075043630017451, 'eval_p-URL_PERSONAL': 0.6842105263157895, 'eval_r-URL_PERSONAL': 0.9285714285714286, 'eval_f5-URL_PERSONAL': 0.915989159891599, 'eval_p-EMAIL': 0.8888888888888888, 'eval_r-EMAIL': 1.0, 'eval_f5-EMAIL': 0.9952153110047847, 'eval_p-NAME_STUDENT': 0.6563467492260062, 'eval_r-NAME_STUDENT': 0.962178517397882, 'eval_f5-NAME_STUDENT': 0.9452383674402652, 'eval_runtime': 52.0258, 'eval_samples_per_second': 32.465, 'eval_steps_per_second': 32.465, 'epoch': 1.69}\n",
      "{'loss': 0.0007, 'learning_rate': 1.1858573216520652e-05, 'epoch': 1.72}\n",
      "{'loss': 0.0012, 'learning_rate': 1.1545682102628285e-05, 'epoch': 1.76}\n",
      "{'loss': 0.0007, 'learning_rate': 1.1232790988735921e-05, 'epoch': 1.79}\n",
      "{'loss': 0.0005, 'learning_rate': 1.0919899874843555e-05, 'epoch': 1.82}\n",
      "{'loss': 0.0093, 'learning_rate': 1.060700876095119e-05, 'epoch': 1.86}\n"
     ]
    },
    {
     "data": {
      "application/vnd.jupyter.widget-view+json": {
       "model_id": "37d07831172b4d82aff595c66560f224",
       "version_major": 2,
       "version_minor": 0
      },
      "text/plain": [
       "  0%|          | 0/1689 [00:00<?, ?it/s]"
      ]
     },
     "metadata": {},
     "output_type": "display_data"
    },
    {
     "name": "stdout",
     "output_type": "stream",
     "text": [
      "{'eval_loss': 0.0010481404606252909, 'eval_precision': 0.8171641791044776, 'eval_recall': 0.8902439024390244, 'eval_f5': 0.8871922717357432, 'eval_p-PHONE_NUM': 1.0, 'eval_r-PHONE_NUM': 1.0, 'eval_f5-PHONE_NUM': 1.0, 'eval_p-USERNAME': 1.0, 'eval_r-USERNAME': 1.0, 'eval_f5-USERNAME': 1.0, 'eval_p-ID_NUM': 0.8235294117647058, 'eval_r-ID_NUM': 1.0, 'eval_f5-ID_NUM': 0.9918256130790191, 'eval_p-STREET_ADDRESS': 0.8, 'eval_r-STREET_ADDRESS': 0.9090909090909091, 'eval_f5-STREET_ADDRESS': 0.9043478260869565, 'eval_p-URL_PERSONAL': 0.7647058823529411, 'eval_r-URL_PERSONAL': 0.9285714285714286, 'eval_f5-URL_PERSONAL': 0.9209809264305179, 'eval_p-EMAIL': 0.8888888888888888, 'eval_r-EMAIL': 1.0, 'eval_f5-EMAIL': 0.9952153110047847, 'eval_p-NAME_STUDENT': 0.8179271708683473, 'eval_r-NAME_STUDENT': 0.8835098335854765, 'eval_f5-NAME_STUDENT': 0.8807935495098324, 'eval_runtime': 52.2813, 'eval_samples_per_second': 32.306, 'eval_steps_per_second': 32.306, 'epoch': 1.86}\n",
      "{'loss': 0.0014, 'learning_rate': 1.0294117647058824e-05, 'epoch': 1.89}\n",
      "{'loss': 0.001, 'learning_rate': 9.981226533166459e-06, 'epoch': 1.93}\n",
      "{'loss': 0.0006, 'learning_rate': 9.668335419274093e-06, 'epoch': 1.96}\n",
      "{'loss': 0.0008, 'learning_rate': 9.355444305381728e-06, 'epoch': 1.99}\n",
      "{'loss': 0.0004, 'learning_rate': 9.042553191489362e-06, 'epoch': 2.03}\n"
     ]
    },
    {
     "data": {
      "application/vnd.jupyter.widget-view+json": {
       "model_id": "9f0c22ee22994a73acf5b0d02bf311e5",
       "version_major": 2,
       "version_minor": 0
      },
      "text/plain": [
       "  0%|          | 0/1689 [00:00<?, ?it/s]"
      ]
     },
     "metadata": {},
     "output_type": "display_data"
    },
    {
     "name": "stdout",
     "output_type": "stream",
     "text": [
      "{'eval_loss': 0.0010781948221847415, 'eval_precision': 0.826362484157161, 'eval_recall': 0.8834688346883469, 'eval_f5': 0.881126877696346, 'eval_p-PHONE_NUM': 1.0, 'eval_r-PHONE_NUM': 1.0, 'eval_f5-PHONE_NUM': 1.0, 'eval_p-USERNAME': 0.8, 'eval_r-USERNAME': 1.0, 'eval_f5-USERNAME': 0.9904761904761905, 'eval_p-ID_NUM': 0.8666666666666667, 'eval_r-ID_NUM': 0.9285714285714286, 'eval_f5-ID_NUM': 0.9260273972602742, 'eval_p-STREET_ADDRESS': 0.7037037037037037, 'eval_r-STREET_ADDRESS': 0.8636363636363636, 'eval_f5-STREET_ADDRESS': 0.856152512998267, 'eval_p-URL_PERSONAL': 0.8666666666666667, 'eval_r-URL_PERSONAL': 0.9285714285714286, 'eval_f5-URL_PERSONAL': 0.9260273972602742, 'eval_p-EMAIL': 0.8888888888888888, 'eval_r-EMAIL': 1.0, 'eval_f5-EMAIL': 0.9952153110047847, 'eval_p-NAME_STUDENT': 0.8276353276353277, 'eval_r-NAME_STUDENT': 0.8789712556732224, 'eval_f5-NAME_STUDENT': 0.8768793173506706, 'eval_runtime': 51.8877, 'eval_samples_per_second': 32.551, 'eval_steps_per_second': 32.551, 'epoch': 2.03}\n",
      "{'loss': 0.0004, 'learning_rate': 8.729662077596996e-06, 'epoch': 2.06}\n",
      "{'loss': 0.0005, 'learning_rate': 8.416770963704631e-06, 'epoch': 2.09}\n",
      "{'loss': 0.0002, 'learning_rate': 8.103879849812265e-06, 'epoch': 2.13}\n",
      "{'loss': 0.0005, 'learning_rate': 7.7909887359199e-06, 'epoch': 2.16}\n",
      "{'loss': 0.0015, 'learning_rate': 7.478097622027534e-06, 'epoch': 2.2}\n"
     ]
    },
    {
     "data": {
      "application/vnd.jupyter.widget-view+json": {
       "model_id": "0ca1437bcebe474785a1904738b427ce",
       "version_major": 2,
       "version_minor": 0
      },
      "text/plain": [
       "  0%|          | 0/1689 [00:00<?, ?it/s]"
      ]
     },
     "metadata": {},
     "output_type": "display_data"
    },
    {
     "name": "stdout",
     "output_type": "stream",
     "text": [
      "{'eval_loss': 0.0012677829945459962, 'eval_precision': 0.7975609756097561, 'eval_recall': 0.8861788617886179, 'eval_f5': 0.8824078879086664, 'eval_p-PHONE_NUM': 1.0, 'eval_r-PHONE_NUM': 1.0, 'eval_f5-PHONE_NUM': 1.0, 'eval_p-USERNAME': 0.6666666666666666, 'eval_r-USERNAME': 1.0, 'eval_f5-USERNAME': 0.9811320754716982, 'eval_p-ID_NUM': 0.8571428571428571, 'eval_r-ID_NUM': 0.8571428571428571, 'eval_f5-ID_NUM': 0.8571428571428571, 'eval_p-STREET_ADDRESS': 0.8695652173913043, 'eval_r-STREET_ADDRESS': 0.9090909090909091, 'eval_f5-STREET_ADDRESS': 0.9075043630017451, 'eval_p-URL_PERSONAL': 0.6585365853658537, 'eval_r-URL_PERSONAL': 0.9642857142857143, 'eval_f5-URL_PERSONAL': 0.9473684210526314, 'eval_p-EMAIL': 0.8888888888888888, 'eval_r-EMAIL': 1.0, 'eval_f5-EMAIL': 0.9952153110047847, 'eval_p-NAME_STUDENT': 0.8016528925619835, 'eval_r-NAME_STUDENT': 0.8804841149773072, 'eval_f5-NAME_STUDENT': 0.8771665410700829, 'eval_runtime': 52.3045, 'eval_samples_per_second': 32.292, 'eval_steps_per_second': 32.292, 'epoch': 2.2}\n",
      "{'loss': 0.0002, 'learning_rate': 7.1652065081351694e-06, 'epoch': 2.23}\n",
      "{'loss': 0.0004, 'learning_rate': 6.852315394242805e-06, 'epoch': 2.26}\n",
      "{'loss': 0.0007, 'learning_rate': 6.539424280350438e-06, 'epoch': 2.3}\n",
      "{'loss': 0.0003, 'learning_rate': 6.226533166458073e-06, 'epoch': 2.33}\n",
      "{'loss': 0.0008, 'learning_rate': 5.913642052565707e-06, 'epoch': 2.36}\n"
     ]
    },
    {
     "data": {
      "application/vnd.jupyter.widget-view+json": {
       "model_id": "46b52d0be46744f4918b0ccbd8c5fcf5",
       "version_major": 2,
       "version_minor": 0
      },
      "text/plain": [
       "  0%|          | 0/1689 [00:00<?, ?it/s]"
      ]
     },
     "metadata": {},
     "output_type": "display_data"
    },
    {
     "name": "stdout",
     "output_type": "stream",
     "text": [
      "{'eval_loss': 0.0010749534703791142, 'eval_precision': 0.806060606060606, 'eval_recall': 0.9010840108401084, 'eval_f5': 0.8970168612191958, 'eval_p-PHONE_NUM': 1.0, 'eval_r-PHONE_NUM': 1.0, 'eval_f5-PHONE_NUM': 1.0, 'eval_p-USERNAME': 0.8, 'eval_r-USERNAME': 1.0, 'eval_f5-USERNAME': 0.9904761904761905, 'eval_p-ID_NUM': 0.8666666666666667, 'eval_r-ID_NUM': 0.9285714285714286, 'eval_f5-ID_NUM': 0.9260273972602742, 'eval_p-STREET_ADDRESS': 0.8695652173913043, 'eval_r-STREET_ADDRESS': 0.9090909090909091, 'eval_f5-STREET_ADDRESS': 0.9075043630017451, 'eval_p-URL_PERSONAL': 0.8125, 'eval_r-URL_PERSONAL': 0.9285714285714286, 'eval_f5-URL_PERSONAL': 0.923497267759563, 'eval_p-EMAIL': 0.8888888888888888, 'eval_r-EMAIL': 1.0, 'eval_f5-EMAIL': 0.9952153110047847, 'eval_p-NAME_STUDENT': 0.8013513513513514, 'eval_r-NAME_STUDENT': 0.897125567322239, 'eval_f5-NAME_STUDENT': 0.8930205618302924, 'eval_runtime': 51.7432, 'eval_samples_per_second': 32.642, 'eval_steps_per_second': 32.642, 'epoch': 2.36}\n",
      "{'loss': 0.0003, 'learning_rate': 5.600750938673342e-06, 'epoch': 2.4}\n",
      "{'loss': 0.0002, 'learning_rate': 5.287859824780977e-06, 'epoch': 2.43}\n",
      "{'loss': 0.0005, 'learning_rate': 4.974968710888611e-06, 'epoch': 2.47}\n",
      "{'loss': 0.0005, 'learning_rate': 4.662077596996246e-06, 'epoch': 2.5}\n",
      "{'loss': 0.0006, 'learning_rate': 4.34918648310388e-06, 'epoch': 2.53}\n"
     ]
    },
    {
     "data": {
      "application/vnd.jupyter.widget-view+json": {
       "model_id": "01afedf1b98b44988fc23e32c9b89787",
       "version_major": 2,
       "version_minor": 0
      },
      "text/plain": [
       "  0%|          | 0/1689 [00:00<?, ?it/s]"
      ]
     },
     "metadata": {},
     "output_type": "display_data"
    },
    {
     "name": "stdout",
     "output_type": "stream",
     "text": [
      "{'eval_loss': 0.0009519105078652501, 'eval_precision': 0.879286694101509, 'eval_recall': 0.8685636856368564, 'eval_f5': 0.8689712706606184, 'eval_p-PHONE_NUM': 1.0, 'eval_r-PHONE_NUM': 1.0, 'eval_f5-PHONE_NUM': 1.0, 'eval_p-USERNAME': 0.6666666666666666, 'eval_r-USERNAME': 1.0, 'eval_f5-USERNAME': 0.9811320754716982, 'eval_p-ID_NUM': 0.8571428571428571, 'eval_r-ID_NUM': 0.8571428571428571, 'eval_f5-ID_NUM': 0.8571428571428571, 'eval_p-STREET_ADDRESS': 0.8333333333333334, 'eval_r-STREET_ADDRESS': 0.9090909090909091, 'eval_f5-STREET_ADDRESS': 0.9059233449477352, 'eval_p-URL_PERSONAL': 0.8125, 'eval_r-URL_PERSONAL': 0.9285714285714286, 'eval_f5-URL_PERSONAL': 0.923497267759563, 'eval_p-EMAIL': 0.8888888888888888, 'eval_r-EMAIL': 1.0, 'eval_f5-EMAIL': 0.9952153110047847, 'eval_p-NAME_STUDENT': 0.8864696734059098, 'eval_r-NAME_STUDENT': 0.8623298033282905, 'eval_f5-NAME_STUDENT': 0.8632339235787512, 'eval_runtime': 52.544, 'eval_samples_per_second': 32.145, 'eval_steps_per_second': 32.145, 'epoch': 2.53}\n",
      "{'loss': 0.0002, 'learning_rate': 4.0362953692115145e-06, 'epoch': 2.57}\n",
      "{'loss': 0.0009, 'learning_rate': 3.723404255319149e-06, 'epoch': 2.6}\n",
      "{'loss': 0.0003, 'learning_rate': 3.4105131414267834e-06, 'epoch': 2.64}\n",
      "{'loss': 0.0002, 'learning_rate': 3.0976220275344182e-06, 'epoch': 2.67}\n",
      "{'loss': 0.0015, 'learning_rate': 2.7847309136420527e-06, 'epoch': 2.7}\n"
     ]
    },
    {
     "data": {
      "application/vnd.jupyter.widget-view+json": {
       "model_id": "d3481bce38b6472c8595abea486d5ad6",
       "version_major": 2,
       "version_minor": 0
      },
      "text/plain": [
       "  0%|          | 0/1689 [00:00<?, ?it/s]"
      ]
     },
     "metadata": {},
     "output_type": "display_data"
    },
    {
     "name": "stdout",
     "output_type": "stream",
     "text": [
      "{'eval_loss': 0.0009518184815533459, 'eval_precision': 0.8844566712517193, 'eval_recall': 0.8712737127371274, 'eval_f5': 0.871773478646295, 'eval_p-PHONE_NUM': 1.0, 'eval_r-PHONE_NUM': 1.0, 'eval_f5-PHONE_NUM': 1.0, 'eval_p-USERNAME': 0.8, 'eval_r-USERNAME': 1.0, 'eval_f5-USERNAME': 0.9904761904761905, 'eval_p-ID_NUM': 0.8666666666666667, 'eval_r-ID_NUM': 0.9285714285714286, 'eval_f5-ID_NUM': 0.9260273972602742, 'eval_p-STREET_ADDRESS': 0.8695652173913043, 'eval_r-STREET_ADDRESS': 0.9090909090909091, 'eval_f5-STREET_ADDRESS': 0.9075043630017451, 'eval_p-URL_PERSONAL': 0.8387096774193549, 'eval_r-URL_PERSONAL': 0.9285714285714286, 'eval_f5-URL_PERSONAL': 0.9247606019151848, 'eval_p-EMAIL': 0.8888888888888888, 'eval_r-EMAIL': 1.0, 'eval_f5-EMAIL': 0.9952153110047847, 'eval_p-NAME_STUDENT': 0.8880248833592534, 'eval_r-NAME_STUDENT': 0.8638426626323752, 'eval_f5-NAME_STUDENT': 0.8647483690587139, 'eval_runtime': 51.8597, 'eval_samples_per_second': 32.569, 'eval_steps_per_second': 32.569, 'epoch': 2.7}\n",
      "{'loss': 0.0002, 'learning_rate': 2.471839799749687e-06, 'epoch': 2.74}\n",
      "{'loss': 0.0005, 'learning_rate': 2.158948685857322e-06, 'epoch': 2.77}\n",
      "{'loss': 0.0007, 'learning_rate': 1.8460575719649564e-06, 'epoch': 2.8}\n",
      "{'loss': 0.0003, 'learning_rate': 1.5331664580725908e-06, 'epoch': 2.84}\n",
      "{'loss': 0.0002, 'learning_rate': 1.2202753441802254e-06, 'epoch': 2.87}\n"
     ]
    },
    {
     "data": {
      "application/vnd.jupyter.widget-view+json": {
       "model_id": "eda215247ed04093be411600e9f63b45",
       "version_major": 2,
       "version_minor": 0
      },
      "text/plain": [
       "  0%|          | 0/1689 [00:00<?, ?it/s]"
      ]
     },
     "metadata": {},
     "output_type": "display_data"
    },
    {
     "name": "stdout",
     "output_type": "stream",
     "text": [
      "{'eval_loss': 0.0010469290427863598, 'eval_precision': 0.8238993710691824, 'eval_recall': 0.8875338753387534, 'eval_f5': 0.8849051701740712, 'eval_p-PHONE_NUM': 1.0, 'eval_r-PHONE_NUM': 1.0, 'eval_f5-PHONE_NUM': 1.0, 'eval_p-USERNAME': 0.8, 'eval_r-USERNAME': 1.0, 'eval_f5-USERNAME': 0.9904761904761905, 'eval_p-ID_NUM': 0.8666666666666667, 'eval_r-ID_NUM': 0.9285714285714286, 'eval_f5-ID_NUM': 0.9260273972602742, 'eval_p-STREET_ADDRESS': 0.8333333333333334, 'eval_r-STREET_ADDRESS': 0.9090909090909091, 'eval_f5-STREET_ADDRESS': 0.9059233449477352, 'eval_p-URL_PERSONAL': 0.7647058823529411, 'eval_r-URL_PERSONAL': 0.9285714285714286, 'eval_f5-URL_PERSONAL': 0.9209809264305179, 'eval_p-EMAIL': 0.8888888888888888, 'eval_r-EMAIL': 1.0, 'eval_f5-EMAIL': 0.9952153110047847, 'eval_p-NAME_STUDENT': 0.8246110325318247, 'eval_r-NAME_STUDENT': 0.8819969742813918, 'eval_f5-NAME_STUDENT': 0.8796425255338902, 'eval_runtime': 52.2656, 'eval_samples_per_second': 32.316, 'eval_steps_per_second': 32.316, 'epoch': 2.87}\n",
      "{'loss': 0.0004, 'learning_rate': 9.073842302878598e-07, 'epoch': 2.91}\n",
      "{'loss': 0.0002, 'learning_rate': 5.944931163954944e-07, 'epoch': 2.94}\n",
      "{'loss': 0.0004, 'learning_rate': 2.816020025031289e-07, 'epoch': 2.97}\n",
      "{'train_runtime': 2863.6304, 'train_samples_per_second': 4.962, 'train_steps_per_second': 0.31, 'train_loss': 0.054436258202275004, 'epoch': 3.0}\n"
     ]
    },
    {
     "data": {
      "application/vnd.jupyter.widget-view+json": {
       "model_id": "df205ac18a9144bb94edca1a91ad1cc5",
       "version_major": 2,
       "version_minor": 0
      },
      "text/plain": [
       "  0%|          | 0/1689 [00:00<?, ?it/s]"
      ]
     },
     "metadata": {},
     "output_type": "display_data"
    },
    {
     "data": {
      "application/vnd.jupyter.widget-view+json": {
       "model_id": "e44bbd9ae8d645449f80f10aff3a86cc",
       "version_major": 2,
       "version_minor": 0
      },
      "text/plain": [
       "Map (num_proc=12):   0%|          | 0/4723 [00:00<?, ? examples/s]"
      ]
     },
     "metadata": {},
     "output_type": "display_data"
    },
    {
     "data": {
      "application/vnd.jupyter.widget-view+json": {
       "model_id": "f72fea1cd059446caf09a9074185c5f4",
       "version_major": 2,
       "version_minor": 0
      },
      "text/plain": [
       "Map (num_proc=12):   0%|          | 0/1706 [00:00<?, ? examples/s]"
      ]
     },
     "metadata": {},
     "output_type": "display_data"
    },
    {
     "data": {
      "application/vnd.jupyter.widget-view+json": {
       "model_id": "3bc19b379cce40fe9f99f8307c8d5b35",
       "version_major": 2,
       "version_minor": 0
      },
      "text/plain": [
       "  0%|          | 0/885 [00:00<?, ?it/s]"
      ]
     },
     "metadata": {},
     "output_type": "display_data"
    },
    {
     "name": "stdout",
     "output_type": "stream",
     "text": [
      "{'loss': 2.5476, 'learning_rate': 2.5280898876404495e-06, 'epoch': 0.03}\n",
      "{'loss': 1.5838, 'learning_rate': 5.3370786516853935e-06, 'epoch': 0.07}\n"
     ]
    }
   ],
   "source": [
    "for fold_idx, (train_idx, eval_idx) in enumerate(folds):\n",
    "    args.run_name = f\"fold-{fold_idx}\"\n",
    "    args.output_dir = os.path.join(OUTPUT_DIR, f\"fold_{fold_idx}\")\n",
    "    original_ds = ds[\"original\"].select([i for i in train_idx if i not in exclude_indices])\n",
    "    train_ds = concatenate_datasets([original_ds, ds[\"extra\"]])\n",
    "    train_ds = train_ds.map(train_encoder, num_proc=os.cpu_count())\n",
    "    eval_ds = ds[\"original\"].select(eval_idx)\n",
    "    eval_ds = eval_ds.map(eval_encoder, num_proc=os.cpu_count())\n",
    "    trainer = Trainer(\n",
    "        args=args,\n",
    "        model_init=model_init,\n",
    "        train_dataset=train_ds,\n",
    "        eval_dataset=eval_ds,\n",
    "        tokenizer=tokenizer,\n",
    "        compute_metrics=MetricsComputer(eval_ds=eval_ds, label2id=label2id),\n",
    "        data_collator=DataCollatorForTokenClassification(tokenizer, pad_to_multiple_of=16),\n",
    "    )\n",
    "    # break # delete this line to reproduce the result.\n",
    "    trainer.train()\n",
    "    eval_res = trainer.evaluate(eval_dataset=eval_ds)\n",
    "    with open(os.path.join(args.output_dir, \"eval_result.json\"), \"w\") as f:\n",
    "        json.dump(eval_res, f)\n",
    "    del trainer\n",
    "    gc.collect()\n",
    "    torch.cuda.empty_cache()"
   ]
  },
  {
   "cell_type": "code",
   "execution_count": null,
   "id": "7283a6e9",
   "metadata": {
    "papermill": {
     "duration": 0.009991,
     "end_time": "2024-03-27T05:35:49.248431",
     "exception": false,
     "start_time": "2024-03-27T05:35:49.238440",
     "status": "completed"
    },
    "tags": []
   },
   "outputs": [
    {
     "name": "stdout",
     "output_type": "stream",
     "text": [
      "1355\n",
      "1040\n",
      "586\n",
      "966\n",
      "763\n",
      "572\n",
      "438\n",
      "543\n",
      "635\n",
      "940\n",
      "875\n",
      "421\n",
      "916\n",
      "920\n",
      "515\n"
     ]
    }
   ],
   "source": [
    "\n",
    "# train_ds[70]['length']\n",
    "for i in range(60, 75):\n",
    "    print(train_ds[i]['length'])"
   ]
  },
  {
   "cell_type": "code",
   "execution_count": null,
   "id": "f1d63d0b",
   "metadata": {},
   "outputs": [
    {
     "data": {
      "text/plain": [
       "940"
      ]
     },
     "execution_count": 19,
     "metadata": {},
     "output_type": "execute_result"
    }
   ],
   "source": [
    "train_ds[69]['length']\n"
   ]
  },
  {
   "cell_type": "code",
   "execution_count": null,
   "id": "f8384259",
   "metadata": {},
   "outputs": [],
   "source": []
  }
 ],
 "metadata": {
  "kaggle": {
   "accelerator": "gpu",
   "dataSources": [
    {
     "databundleVersionId": 7500999,
     "sourceId": 66653,
     "sourceType": "competition"
    },
    {
     "datasetId": 4459964,
     "sourceId": 7659420,
     "sourceType": "datasetVersion"
    }
   ],
   "dockerImageVersionId": 30674,
   "isGpuEnabled": true,
   "isInternetEnabled": true,
   "language": "python",
   "sourceType": "notebook"
  },
  "kernelspec": {
   "display_name": "Python 3",
   "language": "python",
   "name": "python3"
  },
  "language_info": {
   "codemirror_mode": {
    "name": "ipython",
    "version": 3
   },
   "file_extension": ".py",
   "mimetype": "text/x-python",
   "name": "python",
   "nbconvert_exporter": "python",
   "pygments_lexer": "ipython3",
   "version": "3.11.4"
  },
  "papermill": {
   "default_parameters": {},
   "duration": 183.243385,
   "end_time": "2024-03-27T05:35:52.950234",
   "environment_variables": {},
   "exception": null,
   "input_path": "__notebook__.ipynb",
   "output_path": "__notebook__.ipynb",
   "parameters": {},
   "start_time": "2024-03-27T05:32:49.706849",
   "version": "2.5.0"
  },
  "widgets": {
   "application/vnd.jupyter.widget-state+json": {
    "state": {
     "0506ba0a173d4354acbe199d4b051d70": {
      "model_module": "@jupyter-widgets/controls",
      "model_module_version": "1.5.0",
      "model_name": "HBoxModel",
      "state": {
       "_dom_classes": [],
       "_model_module": "@jupyter-widgets/controls",
       "_model_module_version": "1.5.0",
       "_model_name": "HBoxModel",
       "_view_count": null,
       "_view_module": "@jupyter-widgets/controls",
       "_view_module_version": "1.5.0",
       "_view_name": "HBoxView",
       "box_style": "",
       "children": [
        "IPY_MODEL_f60b09f137ce489689936e7c31143b35",
        "IPY_MODEL_3a0a1ba83fdf4fb1bf129ca1df9178e5",
        "IPY_MODEL_67dfcb9d65c84162a43b99311e47881d"
       ],
       "layout": "IPY_MODEL_f84b899436d74f1299997fa35e9c8f8b"
      }
     },
     "073d50964c5748c281a1f6e5ed4a6c18": {
      "model_module": "@jupyter-widgets/controls",
      "model_module_version": "1.5.0",
      "model_name": "HBoxModel",
      "state": {
       "_dom_classes": [],
       "_model_module": "@jupyter-widgets/controls",
       "_model_module_version": "1.5.0",
       "_model_name": "HBoxModel",
       "_view_count": null,
       "_view_module": "@jupyter-widgets/controls",
       "_view_module_version": "1.5.0",
       "_view_name": "HBoxView",
       "box_style": "",
       "children": [
        "IPY_MODEL_0ee240cdb52246c8be167ac2dff60265",
        "IPY_MODEL_622d40349d504ad992abd5993fc7e97c",
        "IPY_MODEL_4193015db8014021b68278458a721a06"
       ],
       "layout": "IPY_MODEL_d27c9fe95de249b18764056a80e686bb"
      }
     },
     "0a30bdabdbdf49dfa22e7e7c4a0b8172": {
      "model_module": "@jupyter-widgets/controls",
      "model_module_version": "1.5.0",
      "model_name": "ProgressStyleModel",
      "state": {
       "_model_module": "@jupyter-widgets/controls",
       "_model_module_version": "1.5.0",
       "_model_name": "ProgressStyleModel",
       "_view_count": null,
       "_view_module": "@jupyter-widgets/base",
       "_view_module_version": "1.2.0",
       "_view_name": "StyleView",
       "bar_color": null,
       "description_width": ""
      }
     },
     "0b17b3524f88428e819adf9357df74f8": {
      "model_module": "@jupyter-widgets/controls",
      "model_module_version": "1.5.0",
      "model_name": "ProgressStyleModel",
      "state": {
       "_model_module": "@jupyter-widgets/controls",
       "_model_module_version": "1.5.0",
       "_model_name": "ProgressStyleModel",
       "_view_count": null,
       "_view_module": "@jupyter-widgets/base",
       "_view_module_version": "1.2.0",
       "_view_name": "StyleView",
       "bar_color": null,
       "description_width": ""
      }
     },
     "0c43da9e291648aa9a72564dfb45afbb": {
      "model_module": "@jupyter-widgets/controls",
      "model_module_version": "1.5.0",
      "model_name": "DescriptionStyleModel",
      "state": {
       "_model_module": "@jupyter-widgets/controls",
       "_model_module_version": "1.5.0",
       "_model_name": "DescriptionStyleModel",
       "_view_count": null,
       "_view_module": "@jupyter-widgets/base",
       "_view_module_version": "1.2.0",
       "_view_name": "StyleView",
       "description_width": ""
      }
     },
     "0d62555d467f4f4fa5bfd670039b665b": {
      "model_module": "@jupyter-widgets/base",
      "model_module_version": "1.2.0",
      "model_name": "LayoutModel",
      "state": {
       "_model_module": "@jupyter-widgets/base",
       "_model_module_version": "1.2.0",
       "_model_name": "LayoutModel",
       "_view_count": null,
       "_view_module": "@jupyter-widgets/base",
       "_view_module_version": "1.2.0",
       "_view_name": "LayoutView",
       "align_content": null,
       "align_items": null,
       "align_self": null,
       "border": null,
       "bottom": null,
       "display": null,
       "flex": null,
       "flex_flow": null,
       "grid_area": null,
       "grid_auto_columns": null,
       "grid_auto_flow": null,
       "grid_auto_rows": null,
       "grid_column": null,
       "grid_gap": null,
       "grid_row": null,
       "grid_template_areas": null,
       "grid_template_columns": null,
       "grid_template_rows": null,
       "height": null,
       "justify_content": null,
       "justify_items": null,
       "left": null,
       "margin": null,
       "max_height": null,
       "max_width": null,
       "min_height": null,
       "min_width": null,
       "object_fit": null,
       "object_position": null,
       "order": null,
       "overflow": null,
       "overflow_x": null,
       "overflow_y": null,
       "padding": null,
       "right": null,
       "top": null,
       "visibility": null,
       "width": null
      }
     },
     "0ee240cdb52246c8be167ac2dff60265": {
      "model_module": "@jupyter-widgets/controls",
      "model_module_version": "1.5.0",
      "model_name": "HTMLModel",
      "state": {
       "_dom_classes": [],
       "_model_module": "@jupyter-widgets/controls",
       "_model_module_version": "1.5.0",
       "_model_name": "HTMLModel",
       "_view_count": null,
       "_view_module": "@jupyter-widgets/controls",
       "_view_module_version": "1.5.0",
       "_view_name": "HTMLView",
       "description": "",
       "description_tooltip": null,
       "layout": "IPY_MODEL_18cff04914984630910c1c5241de4402",
       "placeholder": "​",
       "style": "IPY_MODEL_2a655310b639485da06331399a6c021e",
       "value": "#3: 100%"
      }
     },
     "0f414c0fed17493a92be2e3bc4376b9b": {
      "model_module": "@jupyter-widgets/base",
      "model_module_version": "1.2.0",
      "model_name": "LayoutModel",
      "state": {
       "_model_module": "@jupyter-widgets/base",
       "_model_module_version": "1.2.0",
       "_model_name": "LayoutModel",
       "_view_count": null,
       "_view_module": "@jupyter-widgets/base",
       "_view_module_version": "1.2.0",
       "_view_name": "LayoutView",
       "align_content": null,
       "align_items": null,
       "align_self": null,
       "border": null,
       "bottom": null,
       "display": null,
       "flex": null,
       "flex_flow": null,
       "grid_area": null,
       "grid_auto_columns": null,
       "grid_auto_flow": null,
       "grid_auto_rows": null,
       "grid_column": null,
       "grid_gap": null,
       "grid_row": null,
       "grid_template_areas": null,
       "grid_template_columns": null,
       "grid_template_rows": null,
       "height": null,
       "justify_content": null,
       "justify_items": null,
       "left": null,
       "margin": null,
       "max_height": null,
       "max_width": null,
       "min_height": null,
       "min_width": null,
       "object_fit": null,
       "object_position": null,
       "order": null,
       "overflow": null,
       "overflow_x": null,
       "overflow_y": null,
       "padding": null,
       "right": null,
       "top": null,
       "visibility": null,
       "width": null
      }
     },
     "112d3918b3344972a870971a585b54ed": {
      "model_module": "@jupyter-widgets/controls",
      "model_module_version": "1.5.0",
      "model_name": "FloatProgressModel",
      "state": {
       "_dom_classes": [],
       "_model_module": "@jupyter-widgets/controls",
       "_model_module_version": "1.5.0",
       "_model_name": "FloatProgressModel",
       "_view_count": null,
       "_view_module": "@jupyter-widgets/controls",
       "_view_module_version": "1.5.0",
       "_view_name": "ProgressView",
       "bar_style": "success",
       "description": "",
       "description_tooltip": null,
       "layout": "IPY_MODEL_674b7e1bfe4c477586bf309f23449cf5",
       "max": 2464616,
       "min": 0,
       "orientation": "horizontal",
       "style": "IPY_MODEL_99368351eb1b4cdcb91049cdf4499639",
       "value": 2464616
      }
     },
     "12332dad6fa6434e86779e78fe9b2032": {
      "model_module": "@jupyter-widgets/base",
      "model_module_version": "1.2.0",
      "model_name": "LayoutModel",
      "state": {
       "_model_module": "@jupyter-widgets/base",
       "_model_module_version": "1.2.0",
       "_model_name": "LayoutModel",
       "_view_count": null,
       "_view_module": "@jupyter-widgets/base",
       "_view_module_version": "1.2.0",
       "_view_name": "LayoutView",
       "align_content": null,
       "align_items": null,
       "align_self": null,
       "border": null,
       "bottom": null,
       "display": null,
       "flex": null,
       "flex_flow": null,
       "grid_area": null,
       "grid_auto_columns": null,
       "grid_auto_flow": null,
       "grid_auto_rows": null,
       "grid_column": null,
       "grid_gap": null,
       "grid_row": null,
       "grid_template_areas": null,
       "grid_template_columns": null,
       "grid_template_rows": null,
       "height": null,
       "justify_content": null,
       "justify_items": null,
       "left": null,
       "margin": null,
       "max_height": null,
       "max_width": null,
       "min_height": null,
       "min_width": null,
       "object_fit": null,
       "object_position": null,
       "order": null,
       "overflow": null,
       "overflow_x": null,
       "overflow_y": null,
       "padding": null,
       "right": null,
       "top": null,
       "visibility": null,
       "width": null
      }
     },
     "14aee1acb9434b5d8ac847c2956a1605": {
      "model_module": "@jupyter-widgets/controls",
      "model_module_version": "1.5.0",
      "model_name": "ProgressStyleModel",
      "state": {
       "_model_module": "@jupyter-widgets/controls",
       "_model_module_version": "1.5.0",
       "_model_name": "ProgressStyleModel",
       "_view_count": null,
       "_view_module": "@jupyter-widgets/base",
       "_view_module_version": "1.2.0",
       "_view_name": "StyleView",
       "bar_color": null,
       "description_width": ""
      }
     },
     "18cff04914984630910c1c5241de4402": {
      "model_module": "@jupyter-widgets/base",
      "model_module_version": "1.2.0",
      "model_name": "LayoutModel",
      "state": {
       "_model_module": "@jupyter-widgets/base",
       "_model_module_version": "1.2.0",
       "_model_name": "LayoutModel",
       "_view_count": null,
       "_view_module": "@jupyter-widgets/base",
       "_view_module_version": "1.2.0",
       "_view_name": "LayoutView",
       "align_content": null,
       "align_items": null,
       "align_self": null,
       "border": null,
       "bottom": null,
       "display": null,
       "flex": null,
       "flex_flow": null,
       "grid_area": null,
       "grid_auto_columns": null,
       "grid_auto_flow": null,
       "grid_auto_rows": null,
       "grid_column": null,
       "grid_gap": null,
       "grid_row": null,
       "grid_template_areas": null,
       "grid_template_columns": null,
       "grid_template_rows": null,
       "height": null,
       "justify_content": null,
       "justify_items": null,
       "left": null,
       "margin": null,
       "max_height": null,
       "max_width": null,
       "min_height": null,
       "min_width": null,
       "object_fit": null,
       "object_position": null,
       "order": null,
       "overflow": null,
       "overflow_x": null,
       "overflow_y": null,
       "padding": null,
       "right": null,
       "top": null,
       "visibility": null,
       "width": null
      }
     },
     "19fc6d12b78c47d88ec565ddf91feb84": {
      "model_module": "@jupyter-widgets/controls",
      "model_module_version": "1.5.0",
      "model_name": "DescriptionStyleModel",
      "state": {
       "_model_module": "@jupyter-widgets/controls",
       "_model_module_version": "1.5.0",
       "_model_name": "DescriptionStyleModel",
       "_view_count": null,
       "_view_module": "@jupyter-widgets/base",
       "_view_module_version": "1.2.0",
       "_view_name": "StyleView",
       "description_width": ""
      }
     },
     "1c0df4eca625475c99b79901d80ceb1e": {
      "model_module": "@jupyter-widgets/base",
      "model_module_version": "1.2.0",
      "model_name": "LayoutModel",
      "state": {
       "_model_module": "@jupyter-widgets/base",
       "_model_module_version": "1.2.0",
       "_model_name": "LayoutModel",
       "_view_count": null,
       "_view_module": "@jupyter-widgets/base",
       "_view_module_version": "1.2.0",
       "_view_name": "LayoutView",
       "align_content": null,
       "align_items": null,
       "align_self": null,
       "border": null,
       "bottom": null,
       "display": null,
       "flex": null,
       "flex_flow": null,
       "grid_area": null,
       "grid_auto_columns": null,
       "grid_auto_flow": null,
       "grid_auto_rows": null,
       "grid_column": null,
       "grid_gap": null,
       "grid_row": null,
       "grid_template_areas": null,
       "grid_template_columns": null,
       "grid_template_rows": null,
       "height": null,
       "justify_content": null,
       "justify_items": null,
       "left": null,
       "margin": null,
       "max_height": null,
       "max_width": null,
       "min_height": null,
       "min_width": null,
       "object_fit": null,
       "object_position": null,
       "order": null,
       "overflow": null,
       "overflow_x": null,
       "overflow_y": null,
       "padding": null,
       "right": null,
       "top": null,
       "visibility": null,
       "width": null
      }
     },
     "1fb51cdf82ba40e18cda8fd28c953830": {
      "model_module": "@jupyter-widgets/controls",
      "model_module_version": "1.5.0",
      "model_name": "HTMLModel",
      "state": {
       "_dom_classes": [],
       "_model_module": "@jupyter-widgets/controls",
       "_model_module_version": "1.5.0",
       "_model_name": "HTMLModel",
       "_view_count": null,
       "_view_module": "@jupyter-widgets/controls",
       "_view_module_version": "1.5.0",
       "_view_name": "HTMLView",
       "description": "",
       "description_tooltip": null,
       "layout": "IPY_MODEL_5314735db3f444978b3ceb4418c45fd6",
       "placeholder": "​",
       "style": "IPY_MODEL_6492e846f45148a79688a1ec3a9112f8",
       "value": "#1: 100%"
      }
     },
     "21866721e36e44d49e357d648186b85d": {
      "model_module": "@jupyter-widgets/base",
      "model_module_version": "1.2.0",
      "model_name": "LayoutModel",
      "state": {
       "_model_module": "@jupyter-widgets/base",
       "_model_module_version": "1.2.0",
       "_model_name": "LayoutModel",
       "_view_count": null,
       "_view_module": "@jupyter-widgets/base",
       "_view_module_version": "1.2.0",
       "_view_name": "LayoutView",
       "align_content": null,
       "align_items": null,
       "align_self": null,
       "border": null,
       "bottom": null,
       "display": null,
       "flex": null,
       "flex_flow": null,
       "grid_area": null,
       "grid_auto_columns": null,
       "grid_auto_flow": null,
       "grid_auto_rows": null,
       "grid_column": null,
       "grid_gap": null,
       "grid_row": null,
       "grid_template_areas": null,
       "grid_template_columns": null,
       "grid_template_rows": null,
       "height": null,
       "justify_content": null,
       "justify_items": null,
       "left": null,
       "margin": null,
       "max_height": null,
       "max_width": null,
       "min_height": null,
       "min_width": null,
       "object_fit": null,
       "object_position": null,
       "order": null,
       "overflow": null,
       "overflow_x": null,
       "overflow_y": null,
       "padding": null,
       "right": null,
       "top": null,
       "visibility": null,
       "width": null
      }
     },
     "218bffc465754234afe23184151f29c5": {
      "model_module": "@jupyter-widgets/controls",
      "model_module_version": "1.5.0",
      "model_name": "DescriptionStyleModel",
      "state": {
       "_model_module": "@jupyter-widgets/controls",
       "_model_module_version": "1.5.0",
       "_model_name": "DescriptionStyleModel",
       "_view_count": null,
       "_view_module": "@jupyter-widgets/base",
       "_view_module_version": "1.2.0",
       "_view_name": "StyleView",
       "description_width": ""
      }
     },
     "223ad690f76544b8b5774c251e4bb935": {
      "model_module": "@jupyter-widgets/controls",
      "model_module_version": "1.5.0",
      "model_name": "ProgressStyleModel",
      "state": {
       "_model_module": "@jupyter-widgets/controls",
       "_model_module_version": "1.5.0",
       "_model_name": "ProgressStyleModel",
       "_view_count": null,
       "_view_module": "@jupyter-widgets/base",
       "_view_module_version": "1.2.0",
       "_view_name": "StyleView",
       "bar_color": null,
       "description_width": ""
      }
     },
     "227f0db68bb64d6f8d9cc5544fd0096c": {
      "model_module": "@jupyter-widgets/base",
      "model_module_version": "1.2.0",
      "model_name": "LayoutModel",
      "state": {
       "_model_module": "@jupyter-widgets/base",
       "_model_module_version": "1.2.0",
       "_model_name": "LayoutModel",
       "_view_count": null,
       "_view_module": "@jupyter-widgets/base",
       "_view_module_version": "1.2.0",
       "_view_name": "LayoutView",
       "align_content": null,
       "align_items": null,
       "align_self": null,
       "border": null,
       "bottom": null,
       "display": null,
       "flex": null,
       "flex_flow": null,
       "grid_area": null,
       "grid_auto_columns": null,
       "grid_auto_flow": null,
       "grid_auto_rows": null,
       "grid_column": null,
       "grid_gap": null,
       "grid_row": null,
       "grid_template_areas": null,
       "grid_template_columns": null,
       "grid_template_rows": null,
       "height": null,
       "justify_content": null,
       "justify_items": null,
       "left": null,
       "margin": null,
       "max_height": null,
       "max_width": null,
       "min_height": null,
       "min_width": null,
       "object_fit": null,
       "object_position": null,
       "order": null,
       "overflow": null,
       "overflow_x": null,
       "overflow_y": null,
       "padding": null,
       "right": null,
       "top": null,
       "visibility": null,
       "width": null
      }
     },
     "254da5f500ec482b8acf169238ce0c2d": {
      "model_module": "@jupyter-widgets/base",
      "model_module_version": "1.2.0",
      "model_name": "LayoutModel",
      "state": {
       "_model_module": "@jupyter-widgets/base",
       "_model_module_version": "1.2.0",
       "_model_name": "LayoutModel",
       "_view_count": null,
       "_view_module": "@jupyter-widgets/base",
       "_view_module_version": "1.2.0",
       "_view_name": "LayoutView",
       "align_content": null,
       "align_items": null,
       "align_self": null,
       "border": null,
       "bottom": null,
       "display": null,
       "flex": null,
       "flex_flow": null,
       "grid_area": null,
       "grid_auto_columns": null,
       "grid_auto_flow": null,
       "grid_auto_rows": null,
       "grid_column": null,
       "grid_gap": null,
       "grid_row": null,
       "grid_template_areas": null,
       "grid_template_columns": null,
       "grid_template_rows": null,
       "height": null,
       "justify_content": null,
       "justify_items": null,
       "left": null,
       "margin": null,
       "max_height": null,
       "max_width": null,
       "min_height": null,
       "min_width": null,
       "object_fit": null,
       "object_position": null,
       "order": null,
       "overflow": null,
       "overflow_x": null,
       "overflow_y": null,
       "padding": null,
       "right": null,
       "top": null,
       "visibility": null,
       "width": null
      }
     },
     "291d93fb3bcd437794e0d665aa00a691": {
      "model_module": "@jupyter-widgets/base",
      "model_module_version": "1.2.0",
      "model_name": "LayoutModel",
      "state": {
       "_model_module": "@jupyter-widgets/base",
       "_model_module_version": "1.2.0",
       "_model_name": "LayoutModel",
       "_view_count": null,
       "_view_module": "@jupyter-widgets/base",
       "_view_module_version": "1.2.0",
       "_view_name": "LayoutView",
       "align_content": null,
       "align_items": null,
       "align_self": null,
       "border": null,
       "bottom": null,
       "display": null,
       "flex": null,
       "flex_flow": null,
       "grid_area": null,
       "grid_auto_columns": null,
       "grid_auto_flow": null,
       "grid_auto_rows": null,
       "grid_column": null,
       "grid_gap": null,
       "grid_row": null,
       "grid_template_areas": null,
       "grid_template_columns": null,
       "grid_template_rows": null,
       "height": null,
       "justify_content": null,
       "justify_items": null,
       "left": null,
       "margin": null,
       "max_height": null,
       "max_width": null,
       "min_height": null,
       "min_width": null,
       "object_fit": null,
       "object_position": null,
       "order": null,
       "overflow": null,
       "overflow_x": null,
       "overflow_y": null,
       "padding": null,
       "right": null,
       "top": null,
       "visibility": null,
       "width": null
      }
     },
     "2a655310b639485da06331399a6c021e": {
      "model_module": "@jupyter-widgets/controls",
      "model_module_version": "1.5.0",
      "model_name": "DescriptionStyleModel",
      "state": {
       "_model_module": "@jupyter-widgets/controls",
       "_model_module_version": "1.5.0",
       "_model_name": "DescriptionStyleModel",
       "_view_count": null,
       "_view_module": "@jupyter-widgets/base",
       "_view_module_version": "1.2.0",
       "_view_name": "StyleView",
       "description_width": ""
      }
     },
     "2bb8db6bd30840efa446d0e621648ec1": {
      "model_module": "@jupyter-widgets/controls",
      "model_module_version": "1.5.0",
      "model_name": "HTMLModel",
      "state": {
       "_dom_classes": [],
       "_model_module": "@jupyter-widgets/controls",
       "_model_module_version": "1.5.0",
       "_model_name": "HTMLModel",
       "_view_count": null,
       "_view_module": "@jupyter-widgets/controls",
       "_view_module_version": "1.5.0",
       "_view_name": "HTMLView",
       "description": "",
       "description_tooltip": null,
       "layout": "IPY_MODEL_21866721e36e44d49e357d648186b85d",
       "placeholder": "​",
       "style": "IPY_MODEL_c727b5552b824bd0b7020035b51da0a7",
       "value": "#2: 100%"
      }
     },
     "2f16a5050617425c87e9f0b3b387816a": {
      "model_module": "@jupyter-widgets/base",
      "model_module_version": "1.2.0",
      "model_name": "LayoutModel",
      "state": {
       "_model_module": "@jupyter-widgets/base",
       "_model_module_version": "1.2.0",
       "_model_name": "LayoutModel",
       "_view_count": null,
       "_view_module": "@jupyter-widgets/base",
       "_view_module_version": "1.2.0",
       "_view_name": "LayoutView",
       "align_content": null,
       "align_items": null,
       "align_self": null,
       "border": null,
       "bottom": null,
       "display": null,
       "flex": null,
       "flex_flow": null,
       "grid_area": null,
       "grid_auto_columns": null,
       "grid_auto_flow": null,
       "grid_auto_rows": null,
       "grid_column": null,
       "grid_gap": null,
       "grid_row": null,
       "grid_template_areas": null,
       "grid_template_columns": null,
       "grid_template_rows": null,
       "height": null,
       "justify_content": null,
       "justify_items": null,
       "left": null,
       "margin": null,
       "max_height": null,
       "max_width": null,
       "min_height": null,
       "min_width": null,
       "object_fit": null,
       "object_position": null,
       "order": null,
       "overflow": null,
       "overflow_x": null,
       "overflow_y": null,
       "padding": null,
       "right": null,
       "top": null,
       "visibility": null,
       "width": null
      }
     },
     "2f2bf002334e4ba18c9cff9ce661be26": {
      "model_module": "@jupyter-widgets/controls",
      "model_module_version": "1.5.0",
      "model_name": "FloatProgressModel",
      "state": {
       "_dom_classes": [],
       "_model_module": "@jupyter-widgets/controls",
       "_model_module_version": "1.5.0",
       "_model_name": "FloatProgressModel",
       "_view_count": null,
       "_view_module": "@jupyter-widgets/controls",
       "_view_module_version": "1.5.0",
       "_view_name": "ProgressView",
       "bar_style": "success",
       "description": "",
       "description_tooltip": null,
       "layout": "IPY_MODEL_b692dcaf3391402f80f7ea423ce1fffe",
       "max": 52,
       "min": 0,
       "orientation": "horizontal",
       "style": "IPY_MODEL_d614c6ed43174756a46851f7c7aa6f66",
       "value": 52
      }
     },
     "30fa485fd4a74038a8c0c04b807dab33": {
      "model_module": "@jupyter-widgets/base",
      "model_module_version": "1.2.0",
      "model_name": "LayoutModel",
      "state": {
       "_model_module": "@jupyter-widgets/base",
       "_model_module_version": "1.2.0",
       "_model_name": "LayoutModel",
       "_view_count": null,
       "_view_module": "@jupyter-widgets/base",
       "_view_module_version": "1.2.0",
       "_view_name": "LayoutView",
       "align_content": null,
       "align_items": null,
       "align_self": null,
       "border": null,
       "bottom": null,
       "display": null,
       "flex": null,
       "flex_flow": null,
       "grid_area": null,
       "grid_auto_columns": null,
       "grid_auto_flow": null,
       "grid_auto_rows": null,
       "grid_column": null,
       "grid_gap": null,
       "grid_row": null,
       "grid_template_areas": null,
       "grid_template_columns": null,
       "grid_template_rows": null,
       "height": null,
       "justify_content": null,
       "justify_items": null,
       "left": null,
       "margin": null,
       "max_height": null,
       "max_width": null,
       "min_height": null,
       "min_width": null,
       "object_fit": null,
       "object_position": null,
       "order": null,
       "overflow": null,
       "overflow_x": null,
       "overflow_y": null,
       "padding": null,
       "right": null,
       "top": null,
       "visibility": null,
       "width": null
      }
     },
     "31bf0f8bb2ec477b84c57a8c191f8357": {
      "model_module": "@jupyter-widgets/base",
      "model_module_version": "1.2.0",
      "model_name": "LayoutModel",
      "state": {
       "_model_module": "@jupyter-widgets/base",
       "_model_module_version": "1.2.0",
       "_model_name": "LayoutModel",
       "_view_count": null,
       "_view_module": "@jupyter-widgets/base",
       "_view_module_version": "1.2.0",
       "_view_name": "LayoutView",
       "align_content": null,
       "align_items": null,
       "align_self": null,
       "border": null,
       "bottom": null,
       "display": null,
       "flex": null,
       "flex_flow": null,
       "grid_area": null,
       "grid_auto_columns": null,
       "grid_auto_flow": null,
       "grid_auto_rows": null,
       "grid_column": null,
       "grid_gap": null,
       "grid_row": null,
       "grid_template_areas": null,
       "grid_template_columns": null,
       "grid_template_rows": null,
       "height": null,
       "justify_content": null,
       "justify_items": null,
       "left": null,
       "margin": null,
       "max_height": null,
       "max_width": null,
       "min_height": null,
       "min_width": null,
       "object_fit": null,
       "object_position": null,
       "order": null,
       "overflow": null,
       "overflow_x": null,
       "overflow_y": null,
       "padding": null,
       "right": null,
       "top": null,
       "visibility": null,
       "width": null
      }
     },
     "32070f75821a42c0ae78c7411633dc2a": {
      "model_module": "@jupyter-widgets/base",
      "model_module_version": "1.2.0",
      "model_name": "LayoutModel",
      "state": {
       "_model_module": "@jupyter-widgets/base",
       "_model_module_version": "1.2.0",
       "_model_name": "LayoutModel",
       "_view_count": null,
       "_view_module": "@jupyter-widgets/base",
       "_view_module_version": "1.2.0",
       "_view_name": "LayoutView",
       "align_content": null,
       "align_items": null,
       "align_self": null,
       "border": null,
       "bottom": null,
       "display": null,
       "flex": null,
       "flex_flow": null,
       "grid_area": null,
       "grid_auto_columns": null,
       "grid_auto_flow": null,
       "grid_auto_rows": null,
       "grid_column": null,
       "grid_gap": null,
       "grid_row": null,
       "grid_template_areas": null,
       "grid_template_columns": null,
       "grid_template_rows": null,
       "height": null,
       "justify_content": null,
       "justify_items": null,
       "left": null,
       "margin": null,
       "max_height": null,
       "max_width": null,
       "min_height": null,
       "min_width": null,
       "object_fit": null,
       "object_position": null,
       "order": null,
       "overflow": null,
       "overflow_x": null,
       "overflow_y": null,
       "padding": null,
       "right": null,
       "top": null,
       "visibility": null,
       "width": null
      }
     },
     "34fdec6ca7fc4dac82fd654ea917c326": {
      "model_module": "@jupyter-widgets/controls",
      "model_module_version": "1.5.0",
      "model_name": "DescriptionStyleModel",
      "state": {
       "_model_module": "@jupyter-widgets/controls",
       "_model_module_version": "1.5.0",
       "_model_name": "DescriptionStyleModel",
       "_view_count": null,
       "_view_module": "@jupyter-widgets/base",
       "_view_module_version": "1.2.0",
       "_view_name": "StyleView",
       "description_width": ""
      }
     },
     "3a02a528b2584bb3953cf91b762e4f20": {
      "model_module": "@jupyter-widgets/controls",
      "model_module_version": "1.5.0",
      "model_name": "HTMLModel",
      "state": {
       "_dom_classes": [],
       "_model_module": "@jupyter-widgets/controls",
       "_model_module_version": "1.5.0",
       "_model_name": "HTMLModel",
       "_view_count": null,
       "_view_module": "@jupyter-widgets/controls",
       "_view_module_version": "1.5.0",
       "_view_name": "HTMLView",
       "description": "",
       "description_tooltip": null,
       "layout": "IPY_MODEL_8e3e2c52ec054071bc47348882a6f9cd",
       "placeholder": "​",
       "style": "IPY_MODEL_34fdec6ca7fc4dac82fd654ea917c326",
       "value": " 1176/1176 [00:54&lt;00:00, 63.40ex/s]"
      }
     },
     "3a0a1ba83fdf4fb1bf129ca1df9178e5": {
      "model_module": "@jupyter-widgets/controls",
      "model_module_version": "1.5.0",
      "model_name": "FloatProgressModel",
      "state": {
       "_dom_classes": [],
       "_model_module": "@jupyter-widgets/controls",
       "_model_module_version": "1.5.0",
       "_model_name": "FloatProgressModel",
       "_view_count": null,
       "_view_module": "@jupyter-widgets/controls",
       "_view_module_version": "1.5.0",
       "_view_name": "ProgressView",
       "bar_style": "success",
       "description": "",
       "description_tooltip": null,
       "layout": "IPY_MODEL_0f414c0fed17493a92be2e3bc4376b9b",
       "max": 1176,
       "min": 0,
       "orientation": "horizontal",
       "style": "IPY_MODEL_14aee1acb9434b5d8ac847c2956a1605",
       "value": 1176
      }
     },
     "3a2f23d3c7f84587aa9b5c34d8860e5f": {
      "model_module": "@jupyter-widgets/controls",
      "model_module_version": "1.5.0",
      "model_name": "DescriptionStyleModel",
      "state": {
       "_model_module": "@jupyter-widgets/controls",
       "_model_module_version": "1.5.0",
       "_model_name": "DescriptionStyleModel",
       "_view_count": null,
       "_view_module": "@jupyter-widgets/base",
       "_view_module_version": "1.2.0",
       "_view_name": "StyleView",
       "description_width": ""
      }
     },
     "3b05922d6bf44d1ab51905f500e74896": {
      "model_module": "@jupyter-widgets/controls",
      "model_module_version": "1.5.0",
      "model_name": "HTMLModel",
      "state": {
       "_dom_classes": [],
       "_model_module": "@jupyter-widgets/controls",
       "_model_module_version": "1.5.0",
       "_model_name": "HTMLModel",
       "_view_count": null,
       "_view_module": "@jupyter-widgets/controls",
       "_view_module_version": "1.5.0",
       "_view_name": "HTMLView",
       "description": "",
       "description_tooltip": null,
       "layout": "IPY_MODEL_7ddc835f93be4cc2ad9dc161023a036d",
       "placeholder": "​",
       "style": "IPY_MODEL_a408e0f13e8e40afb1b5251231cc4d49",
       "value": " 2.46M/2.46M [00:00&lt;00:00, 16.2MB/s]"
      }
     },
     "3b19740856ae40a1b7733b3844873f3c": {
      "model_module": "@jupyter-widgets/base",
      "model_module_version": "1.2.0",
      "model_name": "LayoutModel",
      "state": {
       "_model_module": "@jupyter-widgets/base",
       "_model_module_version": "1.2.0",
       "_model_name": "LayoutModel",
       "_view_count": null,
       "_view_module": "@jupyter-widgets/base",
       "_view_module_version": "1.2.0",
       "_view_name": "LayoutView",
       "align_content": null,
       "align_items": null,
       "align_self": null,
       "border": null,
       "bottom": null,
       "display": null,
       "flex": null,
       "flex_flow": null,
       "grid_area": null,
       "grid_auto_columns": null,
       "grid_auto_flow": null,
       "grid_auto_rows": null,
       "grid_column": null,
       "grid_gap": null,
       "grid_row": null,
       "grid_template_areas": null,
       "grid_template_columns": null,
       "grid_template_rows": null,
       "height": null,
       "justify_content": null,
       "justify_items": null,
       "left": null,
       "margin": null,
       "max_height": null,
       "max_width": null,
       "min_height": null,
       "min_width": null,
       "object_fit": null,
       "object_position": null,
       "order": null,
       "overflow": null,
       "overflow_x": null,
       "overflow_y": null,
       "padding": null,
       "right": null,
       "top": null,
       "visibility": null,
       "width": null
      }
     },
     "4193015db8014021b68278458a721a06": {
      "model_module": "@jupyter-widgets/controls",
      "model_module_version": "1.5.0",
      "model_name": "HTMLModel",
      "state": {
       "_dom_classes": [],
       "_model_module": "@jupyter-widgets/controls",
       "_model_module_version": "1.5.0",
       "_model_name": "HTMLModel",
       "_view_count": null,
       "_view_module": "@jupyter-widgets/controls",
       "_view_module_version": "1.5.0",
       "_view_name": "HTMLView",
       "description": "",
       "description_tooltip": null,
       "layout": "IPY_MODEL_a318b22ce7324aea998d43b16405fffb",
       "placeholder": "​",
       "style": "IPY_MODEL_d6954b1fa6e740be83775cd168560cbd",
       "value": " 424/424 [00:06&lt;00:00, 73.83ex/s]"
      }
     },
     "42842accef544db3ba396cf43913b8f8": {
      "model_module": "@jupyter-widgets/base",
      "model_module_version": "1.2.0",
      "model_name": "LayoutModel",
      "state": {
       "_model_module": "@jupyter-widgets/base",
       "_model_module_version": "1.2.0",
       "_model_name": "LayoutModel",
       "_view_count": null,
       "_view_module": "@jupyter-widgets/base",
       "_view_module_version": "1.2.0",
       "_view_name": "LayoutView",
       "align_content": null,
       "align_items": null,
       "align_self": null,
       "border": null,
       "bottom": null,
       "display": null,
       "flex": null,
       "flex_flow": null,
       "grid_area": null,
       "grid_auto_columns": null,
       "grid_auto_flow": null,
       "grid_auto_rows": null,
       "grid_column": null,
       "grid_gap": null,
       "grid_row": null,
       "grid_template_areas": null,
       "grid_template_columns": null,
       "grid_template_rows": null,
       "height": null,
       "justify_content": null,
       "justify_items": null,
       "left": null,
       "margin": null,
       "max_height": null,
       "max_width": null,
       "min_height": null,
       "min_width": null,
       "object_fit": null,
       "object_position": null,
       "order": null,
       "overflow": null,
       "overflow_x": null,
       "overflow_y": null,
       "padding": null,
       "right": null,
       "top": null,
       "visibility": null,
       "width": null
      }
     },
     "47949ca6598a40d5944be05c3094e615": {
      "model_module": "@jupyter-widgets/controls",
      "model_module_version": "1.5.0",
      "model_name": "HBoxModel",
      "state": {
       "_dom_classes": [],
       "_model_module": "@jupyter-widgets/controls",
       "_model_module_version": "1.5.0",
       "_model_name": "HBoxModel",
       "_view_count": null,
       "_view_module": "@jupyter-widgets/controls",
       "_view_module_version": "1.5.0",
       "_view_name": "HBoxView",
       "box_style": "",
       "children": [
        "IPY_MODEL_c202e02282424f0f8867c9dee005ebe3",
        "IPY_MODEL_2f2bf002334e4ba18c9cff9ce661be26",
        "IPY_MODEL_976bf3c85f5f453f8a6cb846e28169e2"
       ],
       "layout": "IPY_MODEL_5d36885cd8dd43c5a31824c63eeef80d"
      }
     },
     "4a32ef20231e4ee1a3a7e48fd7e14525": {
      "model_module": "@jupyter-widgets/base",
      "model_module_version": "1.2.0",
      "model_name": "LayoutModel",
      "state": {
       "_model_module": "@jupyter-widgets/base",
       "_model_module_version": "1.2.0",
       "_model_name": "LayoutModel",
       "_view_count": null,
       "_view_module": "@jupyter-widgets/base",
       "_view_module_version": "1.2.0",
       "_view_name": "LayoutView",
       "align_content": null,
       "align_items": null,
       "align_self": null,
       "border": null,
       "bottom": null,
       "display": null,
       "flex": null,
       "flex_flow": null,
       "grid_area": null,
       "grid_auto_columns": null,
       "grid_auto_flow": null,
       "grid_auto_rows": null,
       "grid_column": null,
       "grid_gap": null,
       "grid_row": null,
       "grid_template_areas": null,
       "grid_template_columns": null,
       "grid_template_rows": null,
       "height": null,
       "justify_content": null,
       "justify_items": null,
       "left": null,
       "margin": null,
       "max_height": null,
       "max_width": null,
       "min_height": null,
       "min_width": null,
       "object_fit": null,
       "object_position": null,
       "order": null,
       "overflow": null,
       "overflow_x": null,
       "overflow_y": null,
       "padding": null,
       "right": null,
       "top": null,
       "visibility": null,
       "width": null
      }
     },
     "5314735db3f444978b3ceb4418c45fd6": {
      "model_module": "@jupyter-widgets/base",
      "model_module_version": "1.2.0",
      "model_name": "LayoutModel",
      "state": {
       "_model_module": "@jupyter-widgets/base",
       "_model_module_version": "1.2.0",
       "_model_name": "LayoutModel",
       "_view_count": null,
       "_view_module": "@jupyter-widgets/base",
       "_view_module_version": "1.2.0",
       "_view_name": "LayoutView",
       "align_content": null,
       "align_items": null,
       "align_self": null,
       "border": null,
       "bottom": null,
       "display": null,
       "flex": null,
       "flex_flow": null,
       "grid_area": null,
       "grid_auto_columns": null,
       "grid_auto_flow": null,
       "grid_auto_rows": null,
       "grid_column": null,
       "grid_gap": null,
       "grid_row": null,
       "grid_template_areas": null,
       "grid_template_columns": null,
       "grid_template_rows": null,
       "height": null,
       "justify_content": null,
       "justify_items": null,
       "left": null,
       "margin": null,
       "max_height": null,
       "max_width": null,
       "min_height": null,
       "min_width": null,
       "object_fit": null,
       "object_position": null,
       "order": null,
       "overflow": null,
       "overflow_x": null,
       "overflow_y": null,
       "padding": null,
       "right": null,
       "top": null,
       "visibility": null,
       "width": null
      }
     },
     "54c4e7e4238b446d84732500d91ce641": {
      "model_module": "@jupyter-widgets/controls",
      "model_module_version": "1.5.0",
      "model_name": "HTMLModel",
      "state": {
       "_dom_classes": [],
       "_model_module": "@jupyter-widgets/controls",
       "_model_module_version": "1.5.0",
       "_model_name": "HTMLModel",
       "_view_count": null,
       "_view_module": "@jupyter-widgets/controls",
       "_view_module_version": "1.5.0",
       "_view_name": "HTMLView",
       "description": "",
       "description_tooltip": null,
       "layout": "IPY_MODEL_9a84606adcf14feea06f53e2db704ef9",
       "placeholder": "​",
       "style": "IPY_MODEL_0c43da9e291648aa9a72564dfb45afbb",
       "value": "#2: 100%"
      }
     },
     "55cc242b25ed49999f7752800916b75c": {
      "model_module": "@jupyter-widgets/controls",
      "model_module_version": "1.5.0",
      "model_name": "ProgressStyleModel",
      "state": {
       "_model_module": "@jupyter-widgets/controls",
       "_model_module_version": "1.5.0",
       "_model_name": "ProgressStyleModel",
       "_view_count": null,
       "_view_module": "@jupyter-widgets/base",
       "_view_module_version": "1.2.0",
       "_view_name": "StyleView",
       "bar_color": null,
       "description_width": ""
      }
     },
     "579f86f3b4ae494b828e55820011c602": {
      "model_module": "@jupyter-widgets/controls",
      "model_module_version": "1.5.0",
      "model_name": "HTMLModel",
      "state": {
       "_dom_classes": [],
       "_model_module": "@jupyter-widgets/controls",
       "_model_module_version": "1.5.0",
       "_model_name": "HTMLModel",
       "_view_count": null,
       "_view_module": "@jupyter-widgets/controls",
       "_view_module_version": "1.5.0",
       "_view_name": "HTMLView",
       "description": "",
       "description_tooltip": null,
       "layout": "IPY_MODEL_9a82e3e7419842d2808fc7814fd5b8fe",
       "placeholder": "​",
       "style": "IPY_MODEL_7fa4adb2bc1246e1b777bfca7fbe8b6e",
       "value": " 1176/1176 [00:54&lt;00:00, 63.67ex/s]"
      }
     },
     "5981177b3e5d49f2ae34d6ba323af332": {
      "model_module": "@jupyter-widgets/controls",
      "model_module_version": "1.5.0",
      "model_name": "HBoxModel",
      "state": {
       "_dom_classes": [],
       "_model_module": "@jupyter-widgets/controls",
       "_model_module_version": "1.5.0",
       "_model_name": "HBoxModel",
       "_view_count": null,
       "_view_module": "@jupyter-widgets/controls",
       "_view_module_version": "1.5.0",
       "_view_name": "HBoxView",
       "box_style": "",
       "children": [
        "IPY_MODEL_eb45dc1fa0b8418fac7c1daabad78c41",
        "IPY_MODEL_f50a79a6770a4157a62773210b160096",
        "IPY_MODEL_579f86f3b4ae494b828e55820011c602"
       ],
       "layout": "IPY_MODEL_42842accef544db3ba396cf43913b8f8"
      }
     },
     "5c17994ddd94499f8a3f217130c9fa92": {
      "model_module": "@jupyter-widgets/controls",
      "model_module_version": "1.5.0",
      "model_name": "DescriptionStyleModel",
      "state": {
       "_model_module": "@jupyter-widgets/controls",
       "_model_module_version": "1.5.0",
       "_model_name": "DescriptionStyleModel",
       "_view_count": null,
       "_view_module": "@jupyter-widgets/base",
       "_view_module_version": "1.2.0",
       "_view_name": "StyleView",
       "description_width": ""
      }
     },
     "5d36885cd8dd43c5a31824c63eeef80d": {
      "model_module": "@jupyter-widgets/base",
      "model_module_version": "1.2.0",
      "model_name": "LayoutModel",
      "state": {
       "_model_module": "@jupyter-widgets/base",
       "_model_module_version": "1.2.0",
       "_model_name": "LayoutModel",
       "_view_count": null,
       "_view_module": "@jupyter-widgets/base",
       "_view_module_version": "1.2.0",
       "_view_name": "LayoutView",
       "align_content": null,
       "align_items": null,
       "align_self": null,
       "border": null,
       "bottom": null,
       "display": null,
       "flex": null,
       "flex_flow": null,
       "grid_area": null,
       "grid_auto_columns": null,
       "grid_auto_flow": null,
       "grid_auto_rows": null,
       "grid_column": null,
       "grid_gap": null,
       "grid_row": null,
       "grid_template_areas": null,
       "grid_template_columns": null,
       "grid_template_rows": null,
       "height": null,
       "justify_content": null,
       "justify_items": null,
       "left": null,
       "margin": null,
       "max_height": null,
       "max_width": null,
       "min_height": null,
       "min_width": null,
       "object_fit": null,
       "object_position": null,
       "order": null,
       "overflow": null,
       "overflow_x": null,
       "overflow_y": null,
       "padding": null,
       "right": null,
       "top": null,
       "visibility": null,
       "width": null
      }
     },
     "5dc9a4d0aabc4f88a46a0388321a0c1d": {
      "model_module": "@jupyter-widgets/controls",
      "model_module_version": "1.5.0",
      "model_name": "HTMLModel",
      "state": {
       "_dom_classes": [],
       "_model_module": "@jupyter-widgets/controls",
       "_model_module_version": "1.5.0",
       "_model_name": "HTMLModel",
       "_view_count": null,
       "_view_module": "@jupyter-widgets/controls",
       "_view_module_version": "1.5.0",
       "_view_name": "HTMLView",
       "description": "",
       "description_tooltip": null,
       "layout": "IPY_MODEL_ad0f7daeaf4e4c66a1fd4cd2ddb0be92",
       "placeholder": "​",
       "style": "IPY_MODEL_dbaf721637184d7fba7a962c0f3a4480",
       "value": " 580/580 [00:00&lt;00:00, 51.9kB/s]"
      }
     },
     "622d40349d504ad992abd5993fc7e97c": {
      "model_module": "@jupyter-widgets/controls",
      "model_module_version": "1.5.0",
      "model_name": "FloatProgressModel",
      "state": {
       "_dom_classes": [],
       "_model_module": "@jupyter-widgets/controls",
       "_model_module_version": "1.5.0",
       "_model_name": "FloatProgressModel",
       "_view_count": null,
       "_view_module": "@jupyter-widgets/controls",
       "_view_module_version": "1.5.0",
       "_view_name": "ProgressView",
       "bar_style": "success",
       "description": "",
       "description_tooltip": null,
       "layout": "IPY_MODEL_97cead8de4f044fb9c1814e07fbc045a",
       "max": 424,
       "min": 0,
       "orientation": "horizontal",
       "style": "IPY_MODEL_b73df202399646c1931ba9ff5c909f41",
       "value": 424
      }
     },
     "6492e846f45148a79688a1ec3a9112f8": {
      "model_module": "@jupyter-widgets/controls",
      "model_module_version": "1.5.0",
      "model_name": "DescriptionStyleModel",
      "state": {
       "_model_module": "@jupyter-widgets/controls",
       "_model_module_version": "1.5.0",
       "_model_name": "DescriptionStyleModel",
       "_view_count": null,
       "_view_module": "@jupyter-widgets/base",
       "_view_module_version": "1.2.0",
       "_view_name": "StyleView",
       "description_width": ""
      }
     },
     "65cf1bac72fa40b1b47494962a9eb9ec": {
      "model_module": "@jupyter-widgets/controls",
      "model_module_version": "1.5.0",
      "model_name": "HTMLModel",
      "state": {
       "_dom_classes": [],
       "_model_module": "@jupyter-widgets/controls",
       "_model_module_version": "1.5.0",
       "_model_name": "HTMLModel",
       "_view_count": null,
       "_view_module": "@jupyter-widgets/controls",
       "_view_module_version": "1.5.0",
       "_view_name": "HTMLView",
       "description": "",
       "description_tooltip": null,
       "layout": "IPY_MODEL_a0cf9a44b0ec4a12af092af42d29b90f",
       "placeholder": "​",
       "style": "IPY_MODEL_19fc6d12b78c47d88ec565ddf91feb84",
       "value": "spm.model: 100%"
      }
     },
     "674b7e1bfe4c477586bf309f23449cf5": {
      "model_module": "@jupyter-widgets/base",
      "model_module_version": "1.2.0",
      "model_name": "LayoutModel",
      "state": {
       "_model_module": "@jupyter-widgets/base",
       "_model_module_version": "1.2.0",
       "_model_name": "LayoutModel",
       "_view_count": null,
       "_view_module": "@jupyter-widgets/base",
       "_view_module_version": "1.2.0",
       "_view_name": "LayoutView",
       "align_content": null,
       "align_items": null,
       "align_self": null,
       "border": null,
       "bottom": null,
       "display": null,
       "flex": null,
       "flex_flow": null,
       "grid_area": null,
       "grid_auto_columns": null,
       "grid_auto_flow": null,
       "grid_auto_rows": null,
       "grid_column": null,
       "grid_gap": null,
       "grid_row": null,
       "grid_template_areas": null,
       "grid_template_columns": null,
       "grid_template_rows": null,
       "height": null,
       "justify_content": null,
       "justify_items": null,
       "left": null,
       "margin": null,
       "max_height": null,
       "max_width": null,
       "min_height": null,
       "min_width": null,
       "object_fit": null,
       "object_position": null,
       "order": null,
       "overflow": null,
       "overflow_x": null,
       "overflow_y": null,
       "padding": null,
       "right": null,
       "top": null,
       "visibility": null,
       "width": null
      }
     },
     "67b8f580f17448079113e3e3d7bdd8e6": {
      "model_module": "@jupyter-widgets/controls",
      "model_module_version": "1.5.0",
      "model_name": "HTMLModel",
      "state": {
       "_dom_classes": [],
       "_model_module": "@jupyter-widgets/controls",
       "_model_module_version": "1.5.0",
       "_model_name": "HTMLModel",
       "_view_count": null,
       "_view_module": "@jupyter-widgets/controls",
       "_view_module_version": "1.5.0",
       "_view_name": "HTMLView",
       "description": "",
       "description_tooltip": null,
       "layout": "IPY_MODEL_724a4e60afa14434b6509bc9cb8657cc",
       "placeholder": "​",
       "style": "IPY_MODEL_3a2f23d3c7f84587aa9b5c34d8860e5f",
       "value": "#1: 100%"
      }
     },
     "67dfcb9d65c84162a43b99311e47881d": {
      "model_module": "@jupyter-widgets/controls",
      "model_module_version": "1.5.0",
      "model_name": "HTMLModel",
      "state": {
       "_dom_classes": [],
       "_model_module": "@jupyter-widgets/controls",
       "_model_module_version": "1.5.0",
       "_model_name": "HTMLModel",
       "_view_count": null,
       "_view_module": "@jupyter-widgets/controls",
       "_view_module_version": "1.5.0",
       "_view_name": "HTMLView",
       "description": "",
       "description_tooltip": null,
       "layout": "IPY_MODEL_30fa485fd4a74038a8c0c04b807dab33",
       "placeholder": "​",
       "style": "IPY_MODEL_77cc5e913afd49348b236e27905c9154",
       "value": " 1176/1176 [00:51&lt;00:00, 66.16ex/s]"
      }
     },
     "69c5818c2ce74c929b9b1cf80b18f672": {
      "model_module": "@jupyter-widgets/base",
      "model_module_version": "1.2.0",
      "model_name": "LayoutModel",
      "state": {
       "_model_module": "@jupyter-widgets/base",
       "_model_module_version": "1.2.0",
       "_model_name": "LayoutModel",
       "_view_count": null,
       "_view_module": "@jupyter-widgets/base",
       "_view_module_version": "1.2.0",
       "_view_name": "LayoutView",
       "align_content": null,
       "align_items": null,
       "align_self": null,
       "border": null,
       "bottom": null,
       "display": null,
       "flex": null,
       "flex_flow": null,
       "grid_area": null,
       "grid_auto_columns": null,
       "grid_auto_flow": null,
       "grid_auto_rows": null,
       "grid_column": null,
       "grid_gap": null,
       "grid_row": null,
       "grid_template_areas": null,
       "grid_template_columns": null,
       "grid_template_rows": null,
       "height": null,
       "justify_content": null,
       "justify_items": null,
       "left": null,
       "margin": null,
       "max_height": null,
       "max_width": null,
       "min_height": null,
       "min_width": null,
       "object_fit": null,
       "object_position": null,
       "order": null,
       "overflow": null,
       "overflow_x": null,
       "overflow_y": null,
       "padding": null,
       "right": null,
       "top": null,
       "visibility": null,
       "width": null
      }
     },
     "6e2751c74ef04759890ebbac3b9327d1": {
      "model_module": "@jupyter-widgets/controls",
      "model_module_version": "1.5.0",
      "model_name": "DescriptionStyleModel",
      "state": {
       "_model_module": "@jupyter-widgets/controls",
       "_model_module_version": "1.5.0",
       "_model_name": "DescriptionStyleModel",
       "_view_count": null,
       "_view_module": "@jupyter-widgets/base",
       "_view_module_version": "1.2.0",
       "_view_name": "StyleView",
       "description_width": ""
      }
     },
     "71881425d79e4d158886729f27dd7a2e": {
      "model_module": "@jupyter-widgets/controls",
      "model_module_version": "1.5.0",
      "model_name": "HTMLModel",
      "state": {
       "_dom_classes": [],
       "_model_module": "@jupyter-widgets/controls",
       "_model_module_version": "1.5.0",
       "_model_name": "HTMLModel",
       "_view_count": null,
       "_view_module": "@jupyter-widgets/controls",
       "_view_module_version": "1.5.0",
       "_view_name": "HTMLView",
       "description": "",
       "description_tooltip": null,
       "layout": "IPY_MODEL_69c5818c2ce74c929b9b1cf80b18f672",
       "placeholder": "​",
       "style": "IPY_MODEL_cc6c9112aba04534b8c40d4671470087",
       "value": "#0: 100%"
      }
     },
     "724a4e60afa14434b6509bc9cb8657cc": {
      "model_module": "@jupyter-widgets/base",
      "model_module_version": "1.2.0",
      "model_name": "LayoutModel",
      "state": {
       "_model_module": "@jupyter-widgets/base",
       "_model_module_version": "1.2.0",
       "_model_name": "LayoutModel",
       "_view_count": null,
       "_view_module": "@jupyter-widgets/base",
       "_view_module_version": "1.2.0",
       "_view_name": "LayoutView",
       "align_content": null,
       "align_items": null,
       "align_self": null,
       "border": null,
       "bottom": null,
       "display": null,
       "flex": null,
       "flex_flow": null,
       "grid_area": null,
       "grid_auto_columns": null,
       "grid_auto_flow": null,
       "grid_auto_rows": null,
       "grid_column": null,
       "grid_gap": null,
       "grid_row": null,
       "grid_template_areas": null,
       "grid_template_columns": null,
       "grid_template_rows": null,
       "height": null,
       "justify_content": null,
       "justify_items": null,
       "left": null,
       "margin": null,
       "max_height": null,
       "max_width": null,
       "min_height": null,
       "min_width": null,
       "object_fit": null,
       "object_position": null,
       "order": null,
       "overflow": null,
       "overflow_x": null,
       "overflow_y": null,
       "padding": null,
       "right": null,
       "top": null,
       "visibility": null,
       "width": null
      }
     },
     "76e7c6ef3f1140e48ba6a22c552a2fc2": {
      "model_module": "@jupyter-widgets/controls",
      "model_module_version": "1.5.0",
      "model_name": "DescriptionStyleModel",
      "state": {
       "_model_module": "@jupyter-widgets/controls",
       "_model_module_version": "1.5.0",
       "_model_name": "DescriptionStyleModel",
       "_view_count": null,
       "_view_module": "@jupyter-widgets/base",
       "_view_module_version": "1.2.0",
       "_view_name": "StyleView",
       "description_width": ""
      }
     },
     "77cc5e913afd49348b236e27905c9154": {
      "model_module": "@jupyter-widgets/controls",
      "model_module_version": "1.5.0",
      "model_name": "DescriptionStyleModel",
      "state": {
       "_model_module": "@jupyter-widgets/controls",
       "_model_module_version": "1.5.0",
       "_model_name": "DescriptionStyleModel",
       "_view_count": null,
       "_view_module": "@jupyter-widgets/base",
       "_view_module_version": "1.2.0",
       "_view_name": "StyleView",
       "description_width": ""
      }
     },
     "782b25ee3a1f48c1b6c471f21ce6732d": {
      "model_module": "@jupyter-widgets/controls",
      "model_module_version": "1.5.0",
      "model_name": "FloatProgressModel",
      "state": {
       "_dom_classes": [],
       "_model_module": "@jupyter-widgets/controls",
       "_model_module_version": "1.5.0",
       "_model_name": "FloatProgressModel",
       "_view_count": null,
       "_view_module": "@jupyter-widgets/controls",
       "_view_module_version": "1.5.0",
       "_view_name": "ProgressView",
       "bar_style": "success",
       "description": "",
       "description_tooltip": null,
       "layout": "IPY_MODEL_e55b47f05df54edb97c342c0238e4adc",
       "max": 425,
       "min": 0,
       "orientation": "horizontal",
       "style": "IPY_MODEL_ab1d6969132c4743a23a4046333bdb84",
       "value": 425
      }
     },
     "7ddc835f93be4cc2ad9dc161023a036d": {
      "model_module": "@jupyter-widgets/base",
      "model_module_version": "1.2.0",
      "model_name": "LayoutModel",
      "state": {
       "_model_module": "@jupyter-widgets/base",
       "_model_module_version": "1.2.0",
       "_model_name": "LayoutModel",
       "_view_count": null,
       "_view_module": "@jupyter-widgets/base",
       "_view_module_version": "1.2.0",
       "_view_name": "LayoutView",
       "align_content": null,
       "align_items": null,
       "align_self": null,
       "border": null,
       "bottom": null,
       "display": null,
       "flex": null,
       "flex_flow": null,
       "grid_area": null,
       "grid_auto_columns": null,
       "grid_auto_flow": null,
       "grid_auto_rows": null,
       "grid_column": null,
       "grid_gap": null,
       "grid_row": null,
       "grid_template_areas": null,
       "grid_template_columns": null,
       "grid_template_rows": null,
       "height": null,
       "justify_content": null,
       "justify_items": null,
       "left": null,
       "margin": null,
       "max_height": null,
       "max_width": null,
       "min_height": null,
       "min_width": null,
       "object_fit": null,
       "object_position": null,
       "order": null,
       "overflow": null,
       "overflow_x": null,
       "overflow_y": null,
       "padding": null,
       "right": null,
       "top": null,
       "visibility": null,
       "width": null
      }
     },
     "7fa4adb2bc1246e1b777bfca7fbe8b6e": {
      "model_module": "@jupyter-widgets/controls",
      "model_module_version": "1.5.0",
      "model_name": "DescriptionStyleModel",
      "state": {
       "_model_module": "@jupyter-widgets/controls",
       "_model_module_version": "1.5.0",
       "_model_name": "DescriptionStyleModel",
       "_view_count": null,
       "_view_module": "@jupyter-widgets/base",
       "_view_module_version": "1.2.0",
       "_view_name": "StyleView",
       "description_width": ""
      }
     },
     "7fdcb095189345cbb9721e203ae58615": {
      "model_module": "@jupyter-widgets/controls",
      "model_module_version": "1.5.0",
      "model_name": "HBoxModel",
      "state": {
       "_dom_classes": [],
       "_model_module": "@jupyter-widgets/controls",
       "_model_module_version": "1.5.0",
       "_model_name": "HBoxModel",
       "_view_count": null,
       "_view_module": "@jupyter-widgets/controls",
       "_view_module_version": "1.5.0",
       "_view_name": "HBoxView",
       "box_style": "",
       "children": [
        "IPY_MODEL_54c4e7e4238b446d84732500d91ce641",
        "IPY_MODEL_ec00cbc4833a451fa1b5bbb51f77972e",
        "IPY_MODEL_cd017a2ae1804feca4c9690a79195972"
       ],
       "layout": "IPY_MODEL_8e6b25d9fb114b0e92985a8ba46f499d"
      }
     },
     "8136497900324aea9231ed4958da6d6f": {
      "model_module": "@jupyter-widgets/controls",
      "model_module_version": "1.5.0",
      "model_name": "ProgressStyleModel",
      "state": {
       "_model_module": "@jupyter-widgets/controls",
       "_model_module_version": "1.5.0",
       "_model_name": "ProgressStyleModel",
       "_view_count": null,
       "_view_module": "@jupyter-widgets/base",
       "_view_module_version": "1.2.0",
       "_view_name": "StyleView",
       "bar_color": null,
       "description_width": ""
      }
     },
     "8316055c1a81482db8f36907d2ad5b2d": {
      "model_module": "@jupyter-widgets/controls",
      "model_module_version": "1.5.0",
      "model_name": "DescriptionStyleModel",
      "state": {
       "_model_module": "@jupyter-widgets/controls",
       "_model_module_version": "1.5.0",
       "_model_name": "DescriptionStyleModel",
       "_view_count": null,
       "_view_module": "@jupyter-widgets/base",
       "_view_module_version": "1.2.0",
       "_view_name": "StyleView",
       "description_width": ""
      }
     },
     "87f398618de74c3aac528eeefaf0f83f": {
      "model_module": "@jupyter-widgets/base",
      "model_module_version": "1.2.0",
      "model_name": "LayoutModel",
      "state": {
       "_model_module": "@jupyter-widgets/base",
       "_model_module_version": "1.2.0",
       "_model_name": "LayoutModel",
       "_view_count": null,
       "_view_module": "@jupyter-widgets/base",
       "_view_module_version": "1.2.0",
       "_view_name": "LayoutView",
       "align_content": null,
       "align_items": null,
       "align_self": null,
       "border": null,
       "bottom": null,
       "display": null,
       "flex": null,
       "flex_flow": null,
       "grid_area": null,
       "grid_auto_columns": null,
       "grid_auto_flow": null,
       "grid_auto_rows": null,
       "grid_column": null,
       "grid_gap": null,
       "grid_row": null,
       "grid_template_areas": null,
       "grid_template_columns": null,
       "grid_template_rows": null,
       "height": null,
       "justify_content": null,
       "justify_items": null,
       "left": null,
       "margin": null,
       "max_height": null,
       "max_width": null,
       "min_height": null,
       "min_width": null,
       "object_fit": null,
       "object_position": null,
       "order": null,
       "overflow": null,
       "overflow_x": null,
       "overflow_y": null,
       "padding": null,
       "right": null,
       "top": null,
       "visibility": null,
       "width": null
      }
     },
     "8dc60c76f2b4487ba0e39eab025b5506": {
      "model_module": "@jupyter-widgets/base",
      "model_module_version": "1.2.0",
      "model_name": "LayoutModel",
      "state": {
       "_model_module": "@jupyter-widgets/base",
       "_model_module_version": "1.2.0",
       "_model_name": "LayoutModel",
       "_view_count": null,
       "_view_module": "@jupyter-widgets/base",
       "_view_module_version": "1.2.0",
       "_view_name": "LayoutView",
       "align_content": null,
       "align_items": null,
       "align_self": null,
       "border": null,
       "bottom": null,
       "display": null,
       "flex": null,
       "flex_flow": null,
       "grid_area": null,
       "grid_auto_columns": null,
       "grid_auto_flow": null,
       "grid_auto_rows": null,
       "grid_column": null,
       "grid_gap": null,
       "grid_row": null,
       "grid_template_areas": null,
       "grid_template_columns": null,
       "grid_template_rows": null,
       "height": null,
       "justify_content": null,
       "justify_items": null,
       "left": null,
       "margin": null,
       "max_height": null,
       "max_width": null,
       "min_height": null,
       "min_width": null,
       "object_fit": null,
       "object_position": null,
       "order": null,
       "overflow": null,
       "overflow_x": null,
       "overflow_y": null,
       "padding": null,
       "right": null,
       "top": null,
       "visibility": null,
       "width": null
      }
     },
     "8e3e2c52ec054071bc47348882a6f9cd": {
      "model_module": "@jupyter-widgets/base",
      "model_module_version": "1.2.0",
      "model_name": "LayoutModel",
      "state": {
       "_model_module": "@jupyter-widgets/base",
       "_model_module_version": "1.2.0",
       "_model_name": "LayoutModel",
       "_view_count": null,
       "_view_module": "@jupyter-widgets/base",
       "_view_module_version": "1.2.0",
       "_view_name": "LayoutView",
       "align_content": null,
       "align_items": null,
       "align_self": null,
       "border": null,
       "bottom": null,
       "display": null,
       "flex": null,
       "flex_flow": null,
       "grid_area": null,
       "grid_auto_columns": null,
       "grid_auto_flow": null,
       "grid_auto_rows": null,
       "grid_column": null,
       "grid_gap": null,
       "grid_row": null,
       "grid_template_areas": null,
       "grid_template_columns": null,
       "grid_template_rows": null,
       "height": null,
       "justify_content": null,
       "justify_items": null,
       "left": null,
       "margin": null,
       "max_height": null,
       "max_width": null,
       "min_height": null,
       "min_width": null,
       "object_fit": null,
       "object_position": null,
       "order": null,
       "overflow": null,
       "overflow_x": null,
       "overflow_y": null,
       "padding": null,
       "right": null,
       "top": null,
       "visibility": null,
       "width": null
      }
     },
     "8e6b25d9fb114b0e92985a8ba46f499d": {
      "model_module": "@jupyter-widgets/base",
      "model_module_version": "1.2.0",
      "model_name": "LayoutModel",
      "state": {
       "_model_module": "@jupyter-widgets/base",
       "_model_module_version": "1.2.0",
       "_model_name": "LayoutModel",
       "_view_count": null,
       "_view_module": "@jupyter-widgets/base",
       "_view_module_version": "1.2.0",
       "_view_name": "LayoutView",
       "align_content": null,
       "align_items": null,
       "align_self": null,
       "border": null,
       "bottom": null,
       "display": null,
       "flex": null,
       "flex_flow": null,
       "grid_area": null,
       "grid_auto_columns": null,
       "grid_auto_flow": null,
       "grid_auto_rows": null,
       "grid_column": null,
       "grid_gap": null,
       "grid_row": null,
       "grid_template_areas": null,
       "grid_template_columns": null,
       "grid_template_rows": null,
       "height": null,
       "justify_content": null,
       "justify_items": null,
       "left": null,
       "margin": null,
       "max_height": null,
       "max_width": null,
       "min_height": null,
       "min_width": null,
       "object_fit": null,
       "object_position": null,
       "order": null,
       "overflow": null,
       "overflow_x": null,
       "overflow_y": null,
       "padding": null,
       "right": null,
       "top": null,
       "visibility": null,
       "width": null
      }
     },
     "907d7aa8c14d4cbb98f688d563a14969": {
      "model_module": "@jupyter-widgets/controls",
      "model_module_version": "1.5.0",
      "model_name": "HTMLModel",
      "state": {
       "_dom_classes": [],
       "_model_module": "@jupyter-widgets/controls",
       "_model_module_version": "1.5.0",
       "_model_name": "HTMLModel",
       "_view_count": null,
       "_view_module": "@jupyter-widgets/controls",
       "_view_module_version": "1.5.0",
       "_view_name": "HTMLView",
       "description": "",
       "description_tooltip": null,
       "layout": "IPY_MODEL_87f398618de74c3aac528eeefaf0f83f",
       "placeholder": "​",
       "style": "IPY_MODEL_8316055c1a81482db8f36907d2ad5b2d",
       "value": " 425/425 [00:06&lt;00:00, 73.33ex/s]"
      }
     },
     "976bf3c85f5f453f8a6cb846e28169e2": {
      "model_module": "@jupyter-widgets/controls",
      "model_module_version": "1.5.0",
      "model_name": "HTMLModel",
      "state": {
       "_dom_classes": [],
       "_model_module": "@jupyter-widgets/controls",
       "_model_module_version": "1.5.0",
       "_model_name": "HTMLModel",
       "_view_count": null,
       "_view_module": "@jupyter-widgets/controls",
       "_view_module_version": "1.5.0",
       "_view_name": "HTMLView",
       "description": "",
       "description_tooltip": null,
       "layout": "IPY_MODEL_f31c7596a69145dabe00225763263158",
       "placeholder": "​",
       "style": "IPY_MODEL_debfa76144414325a9049c0dd8974892",
       "value": " 52.0/52.0 [00:00&lt;00:00, 3.99kB/s]"
      }
     },
     "97cead8de4f044fb9c1814e07fbc045a": {
      "model_module": "@jupyter-widgets/base",
      "model_module_version": "1.2.0",
      "model_name": "LayoutModel",
      "state": {
       "_model_module": "@jupyter-widgets/base",
       "_model_module_version": "1.2.0",
       "_model_name": "LayoutModel",
       "_view_count": null,
       "_view_module": "@jupyter-widgets/base",
       "_view_module_version": "1.2.0",
       "_view_name": "LayoutView",
       "align_content": null,
       "align_items": null,
       "align_self": null,
       "border": null,
       "bottom": null,
       "display": null,
       "flex": null,
       "flex_flow": null,
       "grid_area": null,
       "grid_auto_columns": null,
       "grid_auto_flow": null,
       "grid_auto_rows": null,
       "grid_column": null,
       "grid_gap": null,
       "grid_row": null,
       "grid_template_areas": null,
       "grid_template_columns": null,
       "grid_template_rows": null,
       "height": null,
       "justify_content": null,
       "justify_items": null,
       "left": null,
       "margin": null,
       "max_height": null,
       "max_width": null,
       "min_height": null,
       "min_width": null,
       "object_fit": null,
       "object_position": null,
       "order": null,
       "overflow": null,
       "overflow_x": null,
       "overflow_y": null,
       "padding": null,
       "right": null,
       "top": null,
       "visibility": null,
       "width": null
      }
     },
     "980771985a9d45a89c29bacd721cb642": {
      "model_module": "@jupyter-widgets/controls",
      "model_module_version": "1.5.0",
      "model_name": "FloatProgressModel",
      "state": {
       "_dom_classes": [],
       "_model_module": "@jupyter-widgets/controls",
       "_model_module_version": "1.5.0",
       "_model_name": "FloatProgressModel",
       "_view_count": null,
       "_view_module": "@jupyter-widgets/controls",
       "_view_module_version": "1.5.0",
       "_view_name": "ProgressView",
       "bar_style": "success",
       "description": "",
       "description_tooltip": null,
       "layout": "IPY_MODEL_8dc60c76f2b4487ba0e39eab025b5506",
       "max": 1176,
       "min": 0,
       "orientation": "horizontal",
       "style": "IPY_MODEL_0b17b3524f88428e819adf9357df74f8",
       "value": 1176
      }
     },
     "983bdd661abe471599e1e3e793801c00": {
      "model_module": "@jupyter-widgets/controls",
      "model_module_version": "1.5.0",
      "model_name": "HTMLModel",
      "state": {
       "_dom_classes": [],
       "_model_module": "@jupyter-widgets/controls",
       "_model_module_version": "1.5.0",
       "_model_name": "HTMLModel",
       "_view_count": null,
       "_view_module": "@jupyter-widgets/controls",
       "_view_module_version": "1.5.0",
       "_view_name": "HTMLView",
       "description": "",
       "description_tooltip": null,
       "layout": "IPY_MODEL_9b68e070508e443baf9f0ea8206d8432",
       "placeholder": "​",
       "style": "IPY_MODEL_218bffc465754234afe23184151f29c5",
       "value": "pytorch_model.bin: 100%"
      }
     },
     "99368351eb1b4cdcb91049cdf4499639": {
      "model_module": "@jupyter-widgets/controls",
      "model_module_version": "1.5.0",
      "model_name": "ProgressStyleModel",
      "state": {
       "_model_module": "@jupyter-widgets/controls",
       "_model_module_version": "1.5.0",
       "_model_name": "ProgressStyleModel",
       "_view_count": null,
       "_view_module": "@jupyter-widgets/base",
       "_view_module_version": "1.2.0",
       "_view_name": "StyleView",
       "bar_color": null,
       "description_width": ""
      }
     },
     "99f55adf2c2a40c3ad1dc348250508a6": {
      "model_module": "@jupyter-widgets/controls",
      "model_module_version": "1.5.0",
      "model_name": "DescriptionStyleModel",
      "state": {
       "_model_module": "@jupyter-widgets/controls",
       "_model_module_version": "1.5.0",
       "_model_name": "DescriptionStyleModel",
       "_view_count": null,
       "_view_module": "@jupyter-widgets/base",
       "_view_module_version": "1.2.0",
       "_view_name": "StyleView",
       "description_width": ""
      }
     },
     "9a7c448ae2924227bc9757e695389931": {
      "model_module": "@jupyter-widgets/controls",
      "model_module_version": "1.5.0",
      "model_name": "FloatProgressModel",
      "state": {
       "_dom_classes": [],
       "_model_module": "@jupyter-widgets/controls",
       "_model_module_version": "1.5.0",
       "_model_name": "FloatProgressModel",
       "_view_count": null,
       "_view_module": "@jupyter-widgets/controls",
       "_view_module_version": "1.5.0",
       "_view_name": "ProgressView",
       "bar_style": "success",
       "description": "",
       "description_tooltip": null,
       "layout": "IPY_MODEL_12332dad6fa6434e86779e78fe9b2032",
       "max": 580,
       "min": 0,
       "orientation": "horizontal",
       "style": "IPY_MODEL_223ad690f76544b8b5774c251e4bb935",
       "value": 580
      }
     },
     "9a82e3e7419842d2808fc7814fd5b8fe": {
      "model_module": "@jupyter-widgets/base",
      "model_module_version": "1.2.0",
      "model_name": "LayoutModel",
      "state": {
       "_model_module": "@jupyter-widgets/base",
       "_model_module_version": "1.2.0",
       "_model_name": "LayoutModel",
       "_view_count": null,
       "_view_module": "@jupyter-widgets/base",
       "_view_module_version": "1.2.0",
       "_view_name": "LayoutView",
       "align_content": null,
       "align_items": null,
       "align_self": null,
       "border": null,
       "bottom": null,
       "display": null,
       "flex": null,
       "flex_flow": null,
       "grid_area": null,
       "grid_auto_columns": null,
       "grid_auto_flow": null,
       "grid_auto_rows": null,
       "grid_column": null,
       "grid_gap": null,
       "grid_row": null,
       "grid_template_areas": null,
       "grid_template_columns": null,
       "grid_template_rows": null,
       "height": null,
       "justify_content": null,
       "justify_items": null,
       "left": null,
       "margin": null,
       "max_height": null,
       "max_width": null,
       "min_height": null,
       "min_width": null,
       "object_fit": null,
       "object_position": null,
       "order": null,
       "overflow": null,
       "overflow_x": null,
       "overflow_y": null,
       "padding": null,
       "right": null,
       "top": null,
       "visibility": null,
       "width": null
      }
     },
     "9a84606adcf14feea06f53e2db704ef9": {
      "model_module": "@jupyter-widgets/base",
      "model_module_version": "1.2.0",
      "model_name": "LayoutModel",
      "state": {
       "_model_module": "@jupyter-widgets/base",
       "_model_module_version": "1.2.0",
       "_model_name": "LayoutModel",
       "_view_count": null,
       "_view_module": "@jupyter-widgets/base",
       "_view_module_version": "1.2.0",
       "_view_name": "LayoutView",
       "align_content": null,
       "align_items": null,
       "align_self": null,
       "border": null,
       "bottom": null,
       "display": null,
       "flex": null,
       "flex_flow": null,
       "grid_area": null,
       "grid_auto_columns": null,
       "grid_auto_flow": null,
       "grid_auto_rows": null,
       "grid_column": null,
       "grid_gap": null,
       "grid_row": null,
       "grid_template_areas": null,
       "grid_template_columns": null,
       "grid_template_rows": null,
       "height": null,
       "justify_content": null,
       "justify_items": null,
       "left": null,
       "margin": null,
       "max_height": null,
       "max_width": null,
       "min_height": null,
       "min_width": null,
       "object_fit": null,
       "object_position": null,
       "order": null,
       "overflow": null,
       "overflow_x": null,
       "overflow_y": null,
       "padding": null,
       "right": null,
       "top": null,
       "visibility": null,
       "width": null
      }
     },
     "9b68e070508e443baf9f0ea8206d8432": {
      "model_module": "@jupyter-widgets/base",
      "model_module_version": "1.2.0",
      "model_name": "LayoutModel",
      "state": {
       "_model_module": "@jupyter-widgets/base",
       "_model_module_version": "1.2.0",
       "_model_name": "LayoutModel",
       "_view_count": null,
       "_view_module": "@jupyter-widgets/base",
       "_view_module_version": "1.2.0",
       "_view_name": "LayoutView",
       "align_content": null,
       "align_items": null,
       "align_self": null,
       "border": null,
       "bottom": null,
       "display": null,
       "flex": null,
       "flex_flow": null,
       "grid_area": null,
       "grid_auto_columns": null,
       "grid_auto_flow": null,
       "grid_auto_rows": null,
       "grid_column": null,
       "grid_gap": null,
       "grid_row": null,
       "grid_template_areas": null,
       "grid_template_columns": null,
       "grid_template_rows": null,
       "height": null,
       "justify_content": null,
       "justify_items": null,
       "left": null,
       "margin": null,
       "max_height": null,
       "max_width": null,
       "min_height": null,
       "min_width": null,
       "object_fit": null,
       "object_position": null,
       "order": null,
       "overflow": null,
       "overflow_x": null,
       "overflow_y": null,
       "padding": null,
       "right": null,
       "top": null,
       "visibility": null,
       "width": null
      }
     },
     "9e2c41f81118434bb77e3f42446fe96a": {
      "model_module": "@jupyter-widgets/controls",
      "model_module_version": "1.5.0",
      "model_name": "HTMLModel",
      "state": {
       "_dom_classes": [],
       "_model_module": "@jupyter-widgets/controls",
       "_model_module_version": "1.5.0",
       "_model_name": "HTMLModel",
       "_view_count": null,
       "_view_module": "@jupyter-widgets/controls",
       "_view_module_version": "1.5.0",
       "_view_name": "HTMLView",
       "description": "",
       "description_tooltip": null,
       "layout": "IPY_MODEL_0d62555d467f4f4fa5bfd670039b665b",
       "placeholder": "​",
       "style": "IPY_MODEL_99f55adf2c2a40c3ad1dc348250508a6",
       "value": " 874M/874M [00:02&lt;00:00, 326MB/s]"
      }
     },
     "9fa02f4bb9f74a35b09e19a390217204": {
      "model_module": "@jupyter-widgets/controls",
      "model_module_version": "1.5.0",
      "model_name": "FloatProgressModel",
      "state": {
       "_dom_classes": [],
       "_model_module": "@jupyter-widgets/controls",
       "_model_module_version": "1.5.0",
       "_model_name": "FloatProgressModel",
       "_view_count": null,
       "_view_module": "@jupyter-widgets/controls",
       "_view_module_version": "1.5.0",
       "_view_name": "ProgressView",
       "bar_style": "success",
       "description": "",
       "description_tooltip": null,
       "layout": "IPY_MODEL_a1627e7cc3f94997990dc301735b43d4",
       "max": 425,
       "min": 0,
       "orientation": "horizontal",
       "style": "IPY_MODEL_55cc242b25ed49999f7752800916b75c",
       "value": 425
      }
     },
     "a0cf9a44b0ec4a12af092af42d29b90f": {
      "model_module": "@jupyter-widgets/base",
      "model_module_version": "1.2.0",
      "model_name": "LayoutModel",
      "state": {
       "_model_module": "@jupyter-widgets/base",
       "_model_module_version": "1.2.0",
       "_model_name": "LayoutModel",
       "_view_count": null,
       "_view_module": "@jupyter-widgets/base",
       "_view_module_version": "1.2.0",
       "_view_name": "LayoutView",
       "align_content": null,
       "align_items": null,
       "align_self": null,
       "border": null,
       "bottom": null,
       "display": null,
       "flex": null,
       "flex_flow": null,
       "grid_area": null,
       "grid_auto_columns": null,
       "grid_auto_flow": null,
       "grid_auto_rows": null,
       "grid_column": null,
       "grid_gap": null,
       "grid_row": null,
       "grid_template_areas": null,
       "grid_template_columns": null,
       "grid_template_rows": null,
       "height": null,
       "justify_content": null,
       "justify_items": null,
       "left": null,
       "margin": null,
       "max_height": null,
       "max_width": null,
       "min_height": null,
       "min_width": null,
       "object_fit": null,
       "object_position": null,
       "order": null,
       "overflow": null,
       "overflow_x": null,
       "overflow_y": null,
       "padding": null,
       "right": null,
       "top": null,
       "visibility": null,
       "width": null
      }
     },
     "a1627e7cc3f94997990dc301735b43d4": {
      "model_module": "@jupyter-widgets/base",
      "model_module_version": "1.2.0",
      "model_name": "LayoutModel",
      "state": {
       "_model_module": "@jupyter-widgets/base",
       "_model_module_version": "1.2.0",
       "_model_name": "LayoutModel",
       "_view_count": null,
       "_view_module": "@jupyter-widgets/base",
       "_view_module_version": "1.2.0",
       "_view_name": "LayoutView",
       "align_content": null,
       "align_items": null,
       "align_self": null,
       "border": null,
       "bottom": null,
       "display": null,
       "flex": null,
       "flex_flow": null,
       "grid_area": null,
       "grid_auto_columns": null,
       "grid_auto_flow": null,
       "grid_auto_rows": null,
       "grid_column": null,
       "grid_gap": null,
       "grid_row": null,
       "grid_template_areas": null,
       "grid_template_columns": null,
       "grid_template_rows": null,
       "height": null,
       "justify_content": null,
       "justify_items": null,
       "left": null,
       "margin": null,
       "max_height": null,
       "max_width": null,
       "min_height": null,
       "min_width": null,
       "object_fit": null,
       "object_position": null,
       "order": null,
       "overflow": null,
       "overflow_x": null,
       "overflow_y": null,
       "padding": null,
       "right": null,
       "top": null,
       "visibility": null,
       "width": null
      }
     },
     "a318b22ce7324aea998d43b16405fffb": {
      "model_module": "@jupyter-widgets/base",
      "model_module_version": "1.2.0",
      "model_name": "LayoutModel",
      "state": {
       "_model_module": "@jupyter-widgets/base",
       "_model_module_version": "1.2.0",
       "_model_name": "LayoutModel",
       "_view_count": null,
       "_view_module": "@jupyter-widgets/base",
       "_view_module_version": "1.2.0",
       "_view_name": "LayoutView",
       "align_content": null,
       "align_items": null,
       "align_self": null,
       "border": null,
       "bottom": null,
       "display": null,
       "flex": null,
       "flex_flow": null,
       "grid_area": null,
       "grid_auto_columns": null,
       "grid_auto_flow": null,
       "grid_auto_rows": null,
       "grid_column": null,
       "grid_gap": null,
       "grid_row": null,
       "grid_template_areas": null,
       "grid_template_columns": null,
       "grid_template_rows": null,
       "height": null,
       "justify_content": null,
       "justify_items": null,
       "left": null,
       "margin": null,
       "max_height": null,
       "max_width": null,
       "min_height": null,
       "min_width": null,
       "object_fit": null,
       "object_position": null,
       "order": null,
       "overflow": null,
       "overflow_x": null,
       "overflow_y": null,
       "padding": null,
       "right": null,
       "top": null,
       "visibility": null,
       "width": null
      }
     },
     "a408e0f13e8e40afb1b5251231cc4d49": {
      "model_module": "@jupyter-widgets/controls",
      "model_module_version": "1.5.0",
      "model_name": "DescriptionStyleModel",
      "state": {
       "_model_module": "@jupyter-widgets/controls",
       "_model_module_version": "1.5.0",
       "_model_name": "DescriptionStyleModel",
       "_view_count": null,
       "_view_module": "@jupyter-widgets/base",
       "_view_module_version": "1.2.0",
       "_view_name": "StyleView",
       "description_width": ""
      }
     },
     "ab1d6969132c4743a23a4046333bdb84": {
      "model_module": "@jupyter-widgets/controls",
      "model_module_version": "1.5.0",
      "model_name": "ProgressStyleModel",
      "state": {
       "_model_module": "@jupyter-widgets/controls",
       "_model_module_version": "1.5.0",
       "_model_name": "ProgressStyleModel",
       "_view_count": null,
       "_view_module": "@jupyter-widgets/base",
       "_view_module_version": "1.2.0",
       "_view_name": "StyleView",
       "bar_color": null,
       "description_width": ""
      }
     },
     "ab6e16f77b304e978239aa9f536dac4d": {
      "model_module": "@jupyter-widgets/controls",
      "model_module_version": "1.5.0",
      "model_name": "FloatProgressModel",
      "state": {
       "_dom_classes": [],
       "_model_module": "@jupyter-widgets/controls",
       "_model_module_version": "1.5.0",
       "_model_name": "FloatProgressModel",
       "_view_count": null,
       "_view_module": "@jupyter-widgets/controls",
       "_view_module_version": "1.5.0",
       "_view_name": "ProgressView",
       "bar_style": "success",
       "description": "",
       "description_tooltip": null,
       "layout": "IPY_MODEL_32070f75821a42c0ae78c7411633dc2a",
       "max": 873673253,
       "min": 0,
       "orientation": "horizontal",
       "style": "IPY_MODEL_b5a23719432e477a9c0c2a001ce757c6",
       "value": 873673253
      }
     },
     "ad0f7daeaf4e4c66a1fd4cd2ddb0be92": {
      "model_module": "@jupyter-widgets/base",
      "model_module_version": "1.2.0",
      "model_name": "LayoutModel",
      "state": {
       "_model_module": "@jupyter-widgets/base",
       "_model_module_version": "1.2.0",
       "_model_name": "LayoutModel",
       "_view_count": null,
       "_view_module": "@jupyter-widgets/base",
       "_view_module_version": "1.2.0",
       "_view_name": "LayoutView",
       "align_content": null,
       "align_items": null,
       "align_self": null,
       "border": null,
       "bottom": null,
       "display": null,
       "flex": null,
       "flex_flow": null,
       "grid_area": null,
       "grid_auto_columns": null,
       "grid_auto_flow": null,
       "grid_auto_rows": null,
       "grid_column": null,
       "grid_gap": null,
       "grid_row": null,
       "grid_template_areas": null,
       "grid_template_columns": null,
       "grid_template_rows": null,
       "height": null,
       "justify_content": null,
       "justify_items": null,
       "left": null,
       "margin": null,
       "max_height": null,
       "max_width": null,
       "min_height": null,
       "min_width": null,
       "object_fit": null,
       "object_position": null,
       "order": null,
       "overflow": null,
       "overflow_x": null,
       "overflow_y": null,
       "padding": null,
       "right": null,
       "top": null,
       "visibility": null,
       "width": null
      }
     },
     "afec8aba1d594f8d9d19b1de7f035636": {
      "model_module": "@jupyter-widgets/controls",
      "model_module_version": "1.5.0",
      "model_name": "HBoxModel",
      "state": {
       "_dom_classes": [],
       "_model_module": "@jupyter-widgets/controls",
       "_model_module_version": "1.5.0",
       "_model_name": "HBoxModel",
       "_view_count": null,
       "_view_module": "@jupyter-widgets/controls",
       "_view_module_version": "1.5.0",
       "_view_name": "HBoxView",
       "box_style": "",
       "children": [
        "IPY_MODEL_2bb8db6bd30840efa446d0e621648ec1",
        "IPY_MODEL_c39de2f35b6a481593f81dd8d0f12f46",
        "IPY_MODEL_3a02a528b2584bb3953cf91b762e4f20"
       ],
       "layout": "IPY_MODEL_f3417346898240408a56af04b245e165"
      }
     },
     "b449ab73a32b48b5b35581f50b91da52": {
      "model_module": "@jupyter-widgets/controls",
      "model_module_version": "1.5.0",
      "model_name": "HBoxModel",
      "state": {
       "_dom_classes": [],
       "_model_module": "@jupyter-widgets/controls",
       "_model_module_version": "1.5.0",
       "_model_name": "HBoxModel",
       "_view_count": null,
       "_view_module": "@jupyter-widgets/controls",
       "_view_module_version": "1.5.0",
       "_view_name": "HBoxView",
       "box_style": "",
       "children": [
        "IPY_MODEL_67b8f580f17448079113e3e3d7bdd8e6",
        "IPY_MODEL_980771985a9d45a89c29bacd721cb642",
        "IPY_MODEL_be5a355ec2bd43fd8f4e159ce6505f38"
       ],
       "layout": "IPY_MODEL_d46dbba17153417f9efd564dca1095a5"
      }
     },
     "b5a23719432e477a9c0c2a001ce757c6": {
      "model_module": "@jupyter-widgets/controls",
      "model_module_version": "1.5.0",
      "model_name": "ProgressStyleModel",
      "state": {
       "_model_module": "@jupyter-widgets/controls",
       "_model_module_version": "1.5.0",
       "_model_name": "ProgressStyleModel",
       "_view_count": null,
       "_view_module": "@jupyter-widgets/base",
       "_view_module_version": "1.2.0",
       "_view_name": "StyleView",
       "bar_color": null,
       "description_width": ""
      }
     },
     "b692dcaf3391402f80f7ea423ce1fffe": {
      "model_module": "@jupyter-widgets/base",
      "model_module_version": "1.2.0",
      "model_name": "LayoutModel",
      "state": {
       "_model_module": "@jupyter-widgets/base",
       "_model_module_version": "1.2.0",
       "_model_name": "LayoutModel",
       "_view_count": null,
       "_view_module": "@jupyter-widgets/base",
       "_view_module_version": "1.2.0",
       "_view_name": "LayoutView",
       "align_content": null,
       "align_items": null,
       "align_self": null,
       "border": null,
       "bottom": null,
       "display": null,
       "flex": null,
       "flex_flow": null,
       "grid_area": null,
       "grid_auto_columns": null,
       "grid_auto_flow": null,
       "grid_auto_rows": null,
       "grid_column": null,
       "grid_gap": null,
       "grid_row": null,
       "grid_template_areas": null,
       "grid_template_columns": null,
       "grid_template_rows": null,
       "height": null,
       "justify_content": null,
       "justify_items": null,
       "left": null,
       "margin": null,
       "max_height": null,
       "max_width": null,
       "min_height": null,
       "min_width": null,
       "object_fit": null,
       "object_position": null,
       "order": null,
       "overflow": null,
       "overflow_x": null,
       "overflow_y": null,
       "padding": null,
       "right": null,
       "top": null,
       "visibility": null,
       "width": null
      }
     },
     "b73df202399646c1931ba9ff5c909f41": {
      "model_module": "@jupyter-widgets/controls",
      "model_module_version": "1.5.0",
      "model_name": "ProgressStyleModel",
      "state": {
       "_model_module": "@jupyter-widgets/controls",
       "_model_module_version": "1.5.0",
       "_model_name": "ProgressStyleModel",
       "_view_count": null,
       "_view_module": "@jupyter-widgets/base",
       "_view_module_version": "1.2.0",
       "_view_name": "StyleView",
       "bar_color": null,
       "description_width": ""
      }
     },
     "b9a8744cc3b04f3ea5f2aca86f9f2999": {
      "model_module": "@jupyter-widgets/base",
      "model_module_version": "1.2.0",
      "model_name": "LayoutModel",
      "state": {
       "_model_module": "@jupyter-widgets/base",
       "_model_module_version": "1.2.0",
       "_model_name": "LayoutModel",
       "_view_count": null,
       "_view_module": "@jupyter-widgets/base",
       "_view_module_version": "1.2.0",
       "_view_name": "LayoutView",
       "align_content": null,
       "align_items": null,
       "align_self": null,
       "border": null,
       "bottom": null,
       "display": null,
       "flex": null,
       "flex_flow": null,
       "grid_area": null,
       "grid_auto_columns": null,
       "grid_auto_flow": null,
       "grid_auto_rows": null,
       "grid_column": null,
       "grid_gap": null,
       "grid_row": null,
       "grid_template_areas": null,
       "grid_template_columns": null,
       "grid_template_rows": null,
       "height": null,
       "justify_content": null,
       "justify_items": null,
       "left": null,
       "margin": null,
       "max_height": null,
       "max_width": null,
       "min_height": null,
       "min_width": null,
       "object_fit": null,
       "object_position": null,
       "order": null,
       "overflow": null,
       "overflow_x": null,
       "overflow_y": null,
       "padding": null,
       "right": null,
       "top": null,
       "visibility": null,
       "width": null
      }
     },
     "be5a355ec2bd43fd8f4e159ce6505f38": {
      "model_module": "@jupyter-widgets/controls",
      "model_module_version": "1.5.0",
      "model_name": "HTMLModel",
      "state": {
       "_dom_classes": [],
       "_model_module": "@jupyter-widgets/controls",
       "_model_module_version": "1.5.0",
       "_model_name": "HTMLModel",
       "_view_count": null,
       "_view_module": "@jupyter-widgets/controls",
       "_view_module_version": "1.5.0",
       "_view_name": "HTMLView",
       "description": "",
       "description_tooltip": null,
       "layout": "IPY_MODEL_227f0db68bb64d6f8d9cc5544fd0096c",
       "placeholder": "​",
       "style": "IPY_MODEL_5c17994ddd94499f8a3f217130c9fa92",
       "value": " 1176/1176 [00:51&lt;00:00, 56.87ex/s]"
      }
     },
     "c202e02282424f0f8867c9dee005ebe3": {
      "model_module": "@jupyter-widgets/controls",
      "model_module_version": "1.5.0",
      "model_name": "HTMLModel",
      "state": {
       "_dom_classes": [],
       "_model_module": "@jupyter-widgets/controls",
       "_model_module_version": "1.5.0",
       "_model_name": "HTMLModel",
       "_view_count": null,
       "_view_module": "@jupyter-widgets/controls",
       "_view_module_version": "1.5.0",
       "_view_name": "HTMLView",
       "description": "",
       "description_tooltip": null,
       "layout": "IPY_MODEL_1c0df4eca625475c99b79901d80ceb1e",
       "placeholder": "​",
       "style": "IPY_MODEL_ffe103718e904db5beae384e168e99df",
       "value": "tokenizer_config.json: 100%"
      }
     },
     "c37749dd377b4ffe856f6c7df51faa57": {
      "model_module": "@jupyter-widgets/controls",
      "model_module_version": "1.5.0",
      "model_name": "HBoxModel",
      "state": {
       "_dom_classes": [],
       "_model_module": "@jupyter-widgets/controls",
       "_model_module_version": "1.5.0",
       "_model_name": "HBoxModel",
       "_view_count": null,
       "_view_module": "@jupyter-widgets/controls",
       "_view_module_version": "1.5.0",
       "_view_name": "HBoxView",
       "box_style": "",
       "children": [
        "IPY_MODEL_f0cc99b61be6441c8b46656bf2f15f7b",
        "IPY_MODEL_9a7c448ae2924227bc9757e695389931",
        "IPY_MODEL_5dc9a4d0aabc4f88a46a0388321a0c1d"
       ],
       "layout": "IPY_MODEL_cd50b39a42b544fcb6fb1a141ccb1a66"
      }
     },
     "c39de2f35b6a481593f81dd8d0f12f46": {
      "model_module": "@jupyter-widgets/controls",
      "model_module_version": "1.5.0",
      "model_name": "FloatProgressModel",
      "state": {
       "_dom_classes": [],
       "_model_module": "@jupyter-widgets/controls",
       "_model_module_version": "1.5.0",
       "_model_name": "FloatProgressModel",
       "_view_count": null,
       "_view_module": "@jupyter-widgets/controls",
       "_view_module_version": "1.5.0",
       "_view_name": "ProgressView",
       "bar_style": "success",
       "description": "",
       "description_tooltip": null,
       "layout": "IPY_MODEL_3b19740856ae40a1b7733b3844873f3c",
       "max": 1176,
       "min": 0,
       "orientation": "horizontal",
       "style": "IPY_MODEL_8136497900324aea9231ed4958da6d6f",
       "value": 1176
      }
     },
     "c64e6d77cd0047ba930e3ce4dcac21bb": {
      "model_module": "@jupyter-widgets/base",
      "model_module_version": "1.2.0",
      "model_name": "LayoutModel",
      "state": {
       "_model_module": "@jupyter-widgets/base",
       "_model_module_version": "1.2.0",
       "_model_name": "LayoutModel",
       "_view_count": null,
       "_view_module": "@jupyter-widgets/base",
       "_view_module_version": "1.2.0",
       "_view_name": "LayoutView",
       "align_content": null,
       "align_items": null,
       "align_self": null,
       "border": null,
       "bottom": null,
       "display": null,
       "flex": null,
       "flex_flow": null,
       "grid_area": null,
       "grid_auto_columns": null,
       "grid_auto_flow": null,
       "grid_auto_rows": null,
       "grid_column": null,
       "grid_gap": null,
       "grid_row": null,
       "grid_template_areas": null,
       "grid_template_columns": null,
       "grid_template_rows": null,
       "height": null,
       "justify_content": null,
       "justify_items": null,
       "left": null,
       "margin": null,
       "max_height": null,
       "max_width": null,
       "min_height": null,
       "min_width": null,
       "object_fit": null,
       "object_position": null,
       "order": null,
       "overflow": null,
       "overflow_x": null,
       "overflow_y": null,
       "padding": null,
       "right": null,
       "top": null,
       "visibility": null,
       "width": null
      }
     },
     "c727b5552b824bd0b7020035b51da0a7": {
      "model_module": "@jupyter-widgets/controls",
      "model_module_version": "1.5.0",
      "model_name": "DescriptionStyleModel",
      "state": {
       "_model_module": "@jupyter-widgets/controls",
       "_model_module_version": "1.5.0",
       "_model_name": "DescriptionStyleModel",
       "_view_count": null,
       "_view_module": "@jupyter-widgets/base",
       "_view_module_version": "1.2.0",
       "_view_name": "StyleView",
       "description_width": ""
      }
     },
     "ca7653b6ddea40b0920d60df5cbd818c": {
      "model_module": "@jupyter-widgets/base",
      "model_module_version": "1.2.0",
      "model_name": "LayoutModel",
      "state": {
       "_model_module": "@jupyter-widgets/base",
       "_model_module_version": "1.2.0",
       "_model_name": "LayoutModel",
       "_view_count": null,
       "_view_module": "@jupyter-widgets/base",
       "_view_module_version": "1.2.0",
       "_view_name": "LayoutView",
       "align_content": null,
       "align_items": null,
       "align_self": null,
       "border": null,
       "bottom": null,
       "display": null,
       "flex": null,
       "flex_flow": null,
       "grid_area": null,
       "grid_auto_columns": null,
       "grid_auto_flow": null,
       "grid_auto_rows": null,
       "grid_column": null,
       "grid_gap": null,
       "grid_row": null,
       "grid_template_areas": null,
       "grid_template_columns": null,
       "grid_template_rows": null,
       "height": null,
       "justify_content": null,
       "justify_items": null,
       "left": null,
       "margin": null,
       "max_height": null,
       "max_width": null,
       "min_height": null,
       "min_width": null,
       "object_fit": null,
       "object_position": null,
       "order": null,
       "overflow": null,
       "overflow_x": null,
       "overflow_y": null,
       "padding": null,
       "right": null,
       "top": null,
       "visibility": null,
       "width": null
      }
     },
     "caab3eec060b47459cb9de94784774bd": {
      "model_module": "@jupyter-widgets/controls",
      "model_module_version": "1.5.0",
      "model_name": "DescriptionStyleModel",
      "state": {
       "_model_module": "@jupyter-widgets/controls",
       "_model_module_version": "1.5.0",
       "_model_name": "DescriptionStyleModel",
       "_view_count": null,
       "_view_module": "@jupyter-widgets/base",
       "_view_module_version": "1.2.0",
       "_view_name": "StyleView",
       "description_width": ""
      }
     },
     "cb0cd62cbc694201a7a572cb67fd93ff": {
      "model_module": "@jupyter-widgets/controls",
      "model_module_version": "1.5.0",
      "model_name": "HBoxModel",
      "state": {
       "_dom_classes": [],
       "_model_module": "@jupyter-widgets/controls",
       "_model_module_version": "1.5.0",
       "_model_name": "HBoxModel",
       "_view_count": null,
       "_view_module": "@jupyter-widgets/controls",
       "_view_module_version": "1.5.0",
       "_view_name": "HBoxView",
       "box_style": "",
       "children": [
        "IPY_MODEL_1fb51cdf82ba40e18cda8fd28c953830",
        "IPY_MODEL_9fa02f4bb9f74a35b09e19a390217204",
        "IPY_MODEL_cee32b41f79945759092022048798f20"
       ],
       "layout": "IPY_MODEL_d5b56d4e549e42ac81e81f657501a700"
      }
     },
     "cc6c9112aba04534b8c40d4671470087": {
      "model_module": "@jupyter-widgets/controls",
      "model_module_version": "1.5.0",
      "model_name": "DescriptionStyleModel",
      "state": {
       "_model_module": "@jupyter-widgets/controls",
       "_model_module_version": "1.5.0",
       "_model_name": "DescriptionStyleModel",
       "_view_count": null,
       "_view_module": "@jupyter-widgets/base",
       "_view_module_version": "1.2.0",
       "_view_name": "StyleView",
       "description_width": ""
      }
     },
     "cd017a2ae1804feca4c9690a79195972": {
      "model_module": "@jupyter-widgets/controls",
      "model_module_version": "1.5.0",
      "model_name": "HTMLModel",
      "state": {
       "_dom_classes": [],
       "_model_module": "@jupyter-widgets/controls",
       "_model_module_version": "1.5.0",
       "_model_name": "HTMLModel",
       "_view_count": null,
       "_view_module": "@jupyter-widgets/controls",
       "_view_module_version": "1.5.0",
       "_view_name": "HTMLView",
       "description": "",
       "description_tooltip": null,
       "layout": "IPY_MODEL_2f16a5050617425c87e9f0b3b387816a",
       "placeholder": "​",
       "style": "IPY_MODEL_6e2751c74ef04759890ebbac3b9327d1",
       "value": " 424/424 [00:06&lt;00:00, 83.50ex/s]"
      }
     },
     "cd50b39a42b544fcb6fb1a141ccb1a66": {
      "model_module": "@jupyter-widgets/base",
      "model_module_version": "1.2.0",
      "model_name": "LayoutModel",
      "state": {
       "_model_module": "@jupyter-widgets/base",
       "_model_module_version": "1.2.0",
       "_model_name": "LayoutModel",
       "_view_count": null,
       "_view_module": "@jupyter-widgets/base",
       "_view_module_version": "1.2.0",
       "_view_name": "LayoutView",
       "align_content": null,
       "align_items": null,
       "align_self": null,
       "border": null,
       "bottom": null,
       "display": null,
       "flex": null,
       "flex_flow": null,
       "grid_area": null,
       "grid_auto_columns": null,
       "grid_auto_flow": null,
       "grid_auto_rows": null,
       "grid_column": null,
       "grid_gap": null,
       "grid_row": null,
       "grid_template_areas": null,
       "grid_template_columns": null,
       "grid_template_rows": null,
       "height": null,
       "justify_content": null,
       "justify_items": null,
       "left": null,
       "margin": null,
       "max_height": null,
       "max_width": null,
       "min_height": null,
       "min_width": null,
       "object_fit": null,
       "object_position": null,
       "order": null,
       "overflow": null,
       "overflow_x": null,
       "overflow_y": null,
       "padding": null,
       "right": null,
       "top": null,
       "visibility": null,
       "width": null
      }
     },
     "ce0cc283a4bf4869a0c69cd6f08fe68f": {
      "model_module": "@jupyter-widgets/controls",
      "model_module_version": "1.5.0",
      "model_name": "HBoxModel",
      "state": {
       "_dom_classes": [],
       "_model_module": "@jupyter-widgets/controls",
       "_model_module_version": "1.5.0",
       "_model_name": "HBoxModel",
       "_view_count": null,
       "_view_module": "@jupyter-widgets/controls",
       "_view_module_version": "1.5.0",
       "_view_name": "HBoxView",
       "box_style": "",
       "children": [
        "IPY_MODEL_65cf1bac72fa40b1b47494962a9eb9ec",
        "IPY_MODEL_112d3918b3344972a870971a585b54ed",
        "IPY_MODEL_3b05922d6bf44d1ab51905f500e74896"
       ],
       "layout": "IPY_MODEL_fab78dc2fa0b419785c469056ecd9021"
      }
     },
     "cee32b41f79945759092022048798f20": {
      "model_module": "@jupyter-widgets/controls",
      "model_module_version": "1.5.0",
      "model_name": "HTMLModel",
      "state": {
       "_dom_classes": [],
       "_model_module": "@jupyter-widgets/controls",
       "_model_module_version": "1.5.0",
       "_model_name": "HTMLModel",
       "_view_count": null,
       "_view_module": "@jupyter-widgets/controls",
       "_view_module_version": "1.5.0",
       "_view_name": "HTMLView",
       "description": "",
       "description_tooltip": null,
       "layout": "IPY_MODEL_c64e6d77cd0047ba930e3ce4dcac21bb",
       "placeholder": "​",
       "style": "IPY_MODEL_caab3eec060b47459cb9de94784774bd",
       "value": " 425/425 [00:06&lt;00:00, 63.32ex/s]"
      }
     },
     "cf2667ad44bb4f5a8c5aad0b30fe75e7": {
      "model_module": "@jupyter-widgets/controls",
      "model_module_version": "1.5.0",
      "model_name": "HBoxModel",
      "state": {
       "_dom_classes": [],
       "_model_module": "@jupyter-widgets/controls",
       "_model_module_version": "1.5.0",
       "_model_name": "HBoxModel",
       "_view_count": null,
       "_view_module": "@jupyter-widgets/controls",
       "_view_module_version": "1.5.0",
       "_view_name": "HBoxView",
       "box_style": "",
       "children": [
        "IPY_MODEL_71881425d79e4d158886729f27dd7a2e",
        "IPY_MODEL_782b25ee3a1f48c1b6c471f21ce6732d",
        "IPY_MODEL_907d7aa8c14d4cbb98f688d563a14969"
       ],
       "layout": "IPY_MODEL_254da5f500ec482b8acf169238ce0c2d"
      }
     },
     "d13ecb26f320460781ad5b443012516a": {
      "model_module": "@jupyter-widgets/controls",
      "model_module_version": "1.5.0",
      "model_name": "DescriptionStyleModel",
      "state": {
       "_model_module": "@jupyter-widgets/controls",
       "_model_module_version": "1.5.0",
       "_model_name": "DescriptionStyleModel",
       "_view_count": null,
       "_view_module": "@jupyter-widgets/base",
       "_view_module_version": "1.2.0",
       "_view_name": "StyleView",
       "description_width": ""
      }
     },
     "d27c9fe95de249b18764056a80e686bb": {
      "model_module": "@jupyter-widgets/base",
      "model_module_version": "1.2.0",
      "model_name": "LayoutModel",
      "state": {
       "_model_module": "@jupyter-widgets/base",
       "_model_module_version": "1.2.0",
       "_model_name": "LayoutModel",
       "_view_count": null,
       "_view_module": "@jupyter-widgets/base",
       "_view_module_version": "1.2.0",
       "_view_name": "LayoutView",
       "align_content": null,
       "align_items": null,
       "align_self": null,
       "border": null,
       "bottom": null,
       "display": null,
       "flex": null,
       "flex_flow": null,
       "grid_area": null,
       "grid_auto_columns": null,
       "grid_auto_flow": null,
       "grid_auto_rows": null,
       "grid_column": null,
       "grid_gap": null,
       "grid_row": null,
       "grid_template_areas": null,
       "grid_template_columns": null,
       "grid_template_rows": null,
       "height": null,
       "justify_content": null,
       "justify_items": null,
       "left": null,
       "margin": null,
       "max_height": null,
       "max_width": null,
       "min_height": null,
       "min_width": null,
       "object_fit": null,
       "object_position": null,
       "order": null,
       "overflow": null,
       "overflow_x": null,
       "overflow_y": null,
       "padding": null,
       "right": null,
       "top": null,
       "visibility": null,
       "width": null
      }
     },
     "d46dbba17153417f9efd564dca1095a5": {
      "model_module": "@jupyter-widgets/base",
      "model_module_version": "1.2.0",
      "model_name": "LayoutModel",
      "state": {
       "_model_module": "@jupyter-widgets/base",
       "_model_module_version": "1.2.0",
       "_model_name": "LayoutModel",
       "_view_count": null,
       "_view_module": "@jupyter-widgets/base",
       "_view_module_version": "1.2.0",
       "_view_name": "LayoutView",
       "align_content": null,
       "align_items": null,
       "align_self": null,
       "border": null,
       "bottom": null,
       "display": null,
       "flex": null,
       "flex_flow": null,
       "grid_area": null,
       "grid_auto_columns": null,
       "grid_auto_flow": null,
       "grid_auto_rows": null,
       "grid_column": null,
       "grid_gap": null,
       "grid_row": null,
       "grid_template_areas": null,
       "grid_template_columns": null,
       "grid_template_rows": null,
       "height": null,
       "justify_content": null,
       "justify_items": null,
       "left": null,
       "margin": null,
       "max_height": null,
       "max_width": null,
       "min_height": null,
       "min_width": null,
       "object_fit": null,
       "object_position": null,
       "order": null,
       "overflow": null,
       "overflow_x": null,
       "overflow_y": null,
       "padding": null,
       "right": null,
       "top": null,
       "visibility": null,
       "width": null
      }
     },
     "d5b56d4e549e42ac81e81f657501a700": {
      "model_module": "@jupyter-widgets/base",
      "model_module_version": "1.2.0",
      "model_name": "LayoutModel",
      "state": {
       "_model_module": "@jupyter-widgets/base",
       "_model_module_version": "1.2.0",
       "_model_name": "LayoutModel",
       "_view_count": null,
       "_view_module": "@jupyter-widgets/base",
       "_view_module_version": "1.2.0",
       "_view_name": "LayoutView",
       "align_content": null,
       "align_items": null,
       "align_self": null,
       "border": null,
       "bottom": null,
       "display": null,
       "flex": null,
       "flex_flow": null,
       "grid_area": null,
       "grid_auto_columns": null,
       "grid_auto_flow": null,
       "grid_auto_rows": null,
       "grid_column": null,
       "grid_gap": null,
       "grid_row": null,
       "grid_template_areas": null,
       "grid_template_columns": null,
       "grid_template_rows": null,
       "height": null,
       "justify_content": null,
       "justify_items": null,
       "left": null,
       "margin": null,
       "max_height": null,
       "max_width": null,
       "min_height": null,
       "min_width": null,
       "object_fit": null,
       "object_position": null,
       "order": null,
       "overflow": null,
       "overflow_x": null,
       "overflow_y": null,
       "padding": null,
       "right": null,
       "top": null,
       "visibility": null,
       "width": null
      }
     },
     "d614c6ed43174756a46851f7c7aa6f66": {
      "model_module": "@jupyter-widgets/controls",
      "model_module_version": "1.5.0",
      "model_name": "ProgressStyleModel",
      "state": {
       "_model_module": "@jupyter-widgets/controls",
       "_model_module_version": "1.5.0",
       "_model_name": "ProgressStyleModel",
       "_view_count": null,
       "_view_module": "@jupyter-widgets/base",
       "_view_module_version": "1.2.0",
       "_view_name": "StyleView",
       "bar_color": null,
       "description_width": ""
      }
     },
     "d6954b1fa6e740be83775cd168560cbd": {
      "model_module": "@jupyter-widgets/controls",
      "model_module_version": "1.5.0",
      "model_name": "DescriptionStyleModel",
      "state": {
       "_model_module": "@jupyter-widgets/controls",
       "_model_module_version": "1.5.0",
       "_model_name": "DescriptionStyleModel",
       "_view_count": null,
       "_view_module": "@jupyter-widgets/base",
       "_view_module_version": "1.2.0",
       "_view_name": "StyleView",
       "description_width": ""
      }
     },
     "d9206a60da56412890bf3e380e4ec9f2": {
      "model_module": "@jupyter-widgets/controls",
      "model_module_version": "1.5.0",
      "model_name": "ProgressStyleModel",
      "state": {
       "_model_module": "@jupyter-widgets/controls",
       "_model_module_version": "1.5.0",
       "_model_name": "ProgressStyleModel",
       "_view_count": null,
       "_view_module": "@jupyter-widgets/base",
       "_view_module_version": "1.2.0",
       "_view_name": "StyleView",
       "bar_color": null,
       "description_width": ""
      }
     },
     "dbaf721637184d7fba7a962c0f3a4480": {
      "model_module": "@jupyter-widgets/controls",
      "model_module_version": "1.5.0",
      "model_name": "DescriptionStyleModel",
      "state": {
       "_model_module": "@jupyter-widgets/controls",
       "_model_module_version": "1.5.0",
       "_model_name": "DescriptionStyleModel",
       "_view_count": null,
       "_view_module": "@jupyter-widgets/base",
       "_view_module_version": "1.2.0",
       "_view_name": "StyleView",
       "description_width": ""
      }
     },
     "debfa76144414325a9049c0dd8974892": {
      "model_module": "@jupyter-widgets/controls",
      "model_module_version": "1.5.0",
      "model_name": "DescriptionStyleModel",
      "state": {
       "_model_module": "@jupyter-widgets/controls",
       "_model_module_version": "1.5.0",
       "_model_name": "DescriptionStyleModel",
       "_view_count": null,
       "_view_module": "@jupyter-widgets/base",
       "_view_module_version": "1.2.0",
       "_view_name": "StyleView",
       "description_width": ""
      }
     },
     "e027d981d2fc47b081fd66a5986b41e8": {
      "model_module": "@jupyter-widgets/controls",
      "model_module_version": "1.5.0",
      "model_name": "HBoxModel",
      "state": {
       "_dom_classes": [],
       "_model_module": "@jupyter-widgets/controls",
       "_model_module_version": "1.5.0",
       "_model_name": "HBoxModel",
       "_view_count": null,
       "_view_module": "@jupyter-widgets/controls",
       "_view_module_version": "1.5.0",
       "_view_name": "HBoxView",
       "box_style": "",
       "children": [
        "IPY_MODEL_983bdd661abe471599e1e3e793801c00",
        "IPY_MODEL_ab6e16f77b304e978239aa9f536dac4d",
        "IPY_MODEL_9e2c41f81118434bb77e3f42446fe96a"
       ],
       "layout": "IPY_MODEL_31bf0f8bb2ec477b84c57a8c191f8357"
      }
     },
     "e55b47f05df54edb97c342c0238e4adc": {
      "model_module": "@jupyter-widgets/base",
      "model_module_version": "1.2.0",
      "model_name": "LayoutModel",
      "state": {
       "_model_module": "@jupyter-widgets/base",
       "_model_module_version": "1.2.0",
       "_model_name": "LayoutModel",
       "_view_count": null,
       "_view_module": "@jupyter-widgets/base",
       "_view_module_version": "1.2.0",
       "_view_name": "LayoutView",
       "align_content": null,
       "align_items": null,
       "align_self": null,
       "border": null,
       "bottom": null,
       "display": null,
       "flex": null,
       "flex_flow": null,
       "grid_area": null,
       "grid_auto_columns": null,
       "grid_auto_flow": null,
       "grid_auto_rows": null,
       "grid_column": null,
       "grid_gap": null,
       "grid_row": null,
       "grid_template_areas": null,
       "grid_template_columns": null,
       "grid_template_rows": null,
       "height": null,
       "justify_content": null,
       "justify_items": null,
       "left": null,
       "margin": null,
       "max_height": null,
       "max_width": null,
       "min_height": null,
       "min_width": null,
       "object_fit": null,
       "object_position": null,
       "order": null,
       "overflow": null,
       "overflow_x": null,
       "overflow_y": null,
       "padding": null,
       "right": null,
       "top": null,
       "visibility": null,
       "width": null
      }
     },
     "e61461925acb4e88896949cbc943e4da": {
      "model_module": "@jupyter-widgets/controls",
      "model_module_version": "1.5.0",
      "model_name": "DescriptionStyleModel",
      "state": {
       "_model_module": "@jupyter-widgets/controls",
       "_model_module_version": "1.5.0",
       "_model_name": "DescriptionStyleModel",
       "_view_count": null,
       "_view_module": "@jupyter-widgets/base",
       "_view_module_version": "1.2.0",
       "_view_name": "StyleView",
       "description_width": ""
      }
     },
     "eb45dc1fa0b8418fac7c1daabad78c41": {
      "model_module": "@jupyter-widgets/controls",
      "model_module_version": "1.5.0",
      "model_name": "HTMLModel",
      "state": {
       "_dom_classes": [],
       "_model_module": "@jupyter-widgets/controls",
       "_model_module_version": "1.5.0",
       "_model_name": "HTMLModel",
       "_view_count": null,
       "_view_module": "@jupyter-widgets/controls",
       "_view_module_version": "1.5.0",
       "_view_name": "HTMLView",
       "description": "",
       "description_tooltip": null,
       "layout": "IPY_MODEL_4a32ef20231e4ee1a3a7e48fd7e14525",
       "placeholder": "​",
       "style": "IPY_MODEL_e61461925acb4e88896949cbc943e4da",
       "value": "#3: 100%"
      }
     },
     "ec00cbc4833a451fa1b5bbb51f77972e": {
      "model_module": "@jupyter-widgets/controls",
      "model_module_version": "1.5.0",
      "model_name": "FloatProgressModel",
      "state": {
       "_dom_classes": [],
       "_model_module": "@jupyter-widgets/controls",
       "_model_module_version": "1.5.0",
       "_model_name": "FloatProgressModel",
       "_view_count": null,
       "_view_module": "@jupyter-widgets/controls",
       "_view_module_version": "1.5.0",
       "_view_name": "ProgressView",
       "bar_style": "success",
       "description": "",
       "description_tooltip": null,
       "layout": "IPY_MODEL_b9a8744cc3b04f3ea5f2aca86f9f2999",
       "max": 424,
       "min": 0,
       "orientation": "horizontal",
       "style": "IPY_MODEL_d9206a60da56412890bf3e380e4ec9f2",
       "value": 424
      }
     },
     "f0cc99b61be6441c8b46656bf2f15f7b": {
      "model_module": "@jupyter-widgets/controls",
      "model_module_version": "1.5.0",
      "model_name": "HTMLModel",
      "state": {
       "_dom_classes": [],
       "_model_module": "@jupyter-widgets/controls",
       "_model_module_version": "1.5.0",
       "_model_name": "HTMLModel",
       "_view_count": null,
       "_view_module": "@jupyter-widgets/controls",
       "_view_module_version": "1.5.0",
       "_view_name": "HTMLView",
       "description": "",
       "description_tooltip": null,
       "layout": "IPY_MODEL_ff52d37d57d84452b55ec502411ff869",
       "placeholder": "​",
       "style": "IPY_MODEL_76e7c6ef3f1140e48ba6a22c552a2fc2",
       "value": "config.json: 100%"
      }
     },
     "f31c7596a69145dabe00225763263158": {
      "model_module": "@jupyter-widgets/base",
      "model_module_version": "1.2.0",
      "model_name": "LayoutModel",
      "state": {
       "_model_module": "@jupyter-widgets/base",
       "_model_module_version": "1.2.0",
       "_model_name": "LayoutModel",
       "_view_count": null,
       "_view_module": "@jupyter-widgets/base",
       "_view_module_version": "1.2.0",
       "_view_name": "LayoutView",
       "align_content": null,
       "align_items": null,
       "align_self": null,
       "border": null,
       "bottom": null,
       "display": null,
       "flex": null,
       "flex_flow": null,
       "grid_area": null,
       "grid_auto_columns": null,
       "grid_auto_flow": null,
       "grid_auto_rows": null,
       "grid_column": null,
       "grid_gap": null,
       "grid_row": null,
       "grid_template_areas": null,
       "grid_template_columns": null,
       "grid_template_rows": null,
       "height": null,
       "justify_content": null,
       "justify_items": null,
       "left": null,
       "margin": null,
       "max_height": null,
       "max_width": null,
       "min_height": null,
       "min_width": null,
       "object_fit": null,
       "object_position": null,
       "order": null,
       "overflow": null,
       "overflow_x": null,
       "overflow_y": null,
       "padding": null,
       "right": null,
       "top": null,
       "visibility": null,
       "width": null
      }
     },
     "f3417346898240408a56af04b245e165": {
      "model_module": "@jupyter-widgets/base",
      "model_module_version": "1.2.0",
      "model_name": "LayoutModel",
      "state": {
       "_model_module": "@jupyter-widgets/base",
       "_model_module_version": "1.2.0",
       "_model_name": "LayoutModel",
       "_view_count": null,
       "_view_module": "@jupyter-widgets/base",
       "_view_module_version": "1.2.0",
       "_view_name": "LayoutView",
       "align_content": null,
       "align_items": null,
       "align_self": null,
       "border": null,
       "bottom": null,
       "display": null,
       "flex": null,
       "flex_flow": null,
       "grid_area": null,
       "grid_auto_columns": null,
       "grid_auto_flow": null,
       "grid_auto_rows": null,
       "grid_column": null,
       "grid_gap": null,
       "grid_row": null,
       "grid_template_areas": null,
       "grid_template_columns": null,
       "grid_template_rows": null,
       "height": null,
       "justify_content": null,
       "justify_items": null,
       "left": null,
       "margin": null,
       "max_height": null,
       "max_width": null,
       "min_height": null,
       "min_width": null,
       "object_fit": null,
       "object_position": null,
       "order": null,
       "overflow": null,
       "overflow_x": null,
       "overflow_y": null,
       "padding": null,
       "right": null,
       "top": null,
       "visibility": null,
       "width": null
      }
     },
     "f50a79a6770a4157a62773210b160096": {
      "model_module": "@jupyter-widgets/controls",
      "model_module_version": "1.5.0",
      "model_name": "FloatProgressModel",
      "state": {
       "_dom_classes": [],
       "_model_module": "@jupyter-widgets/controls",
       "_model_module_version": "1.5.0",
       "_model_name": "FloatProgressModel",
       "_view_count": null,
       "_view_module": "@jupyter-widgets/controls",
       "_view_module_version": "1.5.0",
       "_view_name": "ProgressView",
       "bar_style": "success",
       "description": "",
       "description_tooltip": null,
       "layout": "IPY_MODEL_291d93fb3bcd437794e0d665aa00a691",
       "max": 1176,
       "min": 0,
       "orientation": "horizontal",
       "style": "IPY_MODEL_0a30bdabdbdf49dfa22e7e7c4a0b8172",
       "value": 1176
      }
     },
     "f60b09f137ce489689936e7c31143b35": {
      "model_module": "@jupyter-widgets/controls",
      "model_module_version": "1.5.0",
      "model_name": "HTMLModel",
      "state": {
       "_dom_classes": [],
       "_model_module": "@jupyter-widgets/controls",
       "_model_module_version": "1.5.0",
       "_model_name": "HTMLModel",
       "_view_count": null,
       "_view_module": "@jupyter-widgets/controls",
       "_view_module_version": "1.5.0",
       "_view_name": "HTMLView",
       "description": "",
       "description_tooltip": null,
       "layout": "IPY_MODEL_ca7653b6ddea40b0920d60df5cbd818c",
       "placeholder": "​",
       "style": "IPY_MODEL_d13ecb26f320460781ad5b443012516a",
       "value": "#0: 100%"
      }
     },
     "f84b899436d74f1299997fa35e9c8f8b": {
      "model_module": "@jupyter-widgets/base",
      "model_module_version": "1.2.0",
      "model_name": "LayoutModel",
      "state": {
       "_model_module": "@jupyter-widgets/base",
       "_model_module_version": "1.2.0",
       "_model_name": "LayoutModel",
       "_view_count": null,
       "_view_module": "@jupyter-widgets/base",
       "_view_module_version": "1.2.0",
       "_view_name": "LayoutView",
       "align_content": null,
       "align_items": null,
       "align_self": null,
       "border": null,
       "bottom": null,
       "display": null,
       "flex": null,
       "flex_flow": null,
       "grid_area": null,
       "grid_auto_columns": null,
       "grid_auto_flow": null,
       "grid_auto_rows": null,
       "grid_column": null,
       "grid_gap": null,
       "grid_row": null,
       "grid_template_areas": null,
       "grid_template_columns": null,
       "grid_template_rows": null,
       "height": null,
       "justify_content": null,
       "justify_items": null,
       "left": null,
       "margin": null,
       "max_height": null,
       "max_width": null,
       "min_height": null,
       "min_width": null,
       "object_fit": null,
       "object_position": null,
       "order": null,
       "overflow": null,
       "overflow_x": null,
       "overflow_y": null,
       "padding": null,
       "right": null,
       "top": null,
       "visibility": null,
       "width": null
      }
     },
     "fab78dc2fa0b419785c469056ecd9021": {
      "model_module": "@jupyter-widgets/base",
      "model_module_version": "1.2.0",
      "model_name": "LayoutModel",
      "state": {
       "_model_module": "@jupyter-widgets/base",
       "_model_module_version": "1.2.0",
       "_model_name": "LayoutModel",
       "_view_count": null,
       "_view_module": "@jupyter-widgets/base",
       "_view_module_version": "1.2.0",
       "_view_name": "LayoutView",
       "align_content": null,
       "align_items": null,
       "align_self": null,
       "border": null,
       "bottom": null,
       "display": null,
       "flex": null,
       "flex_flow": null,
       "grid_area": null,
       "grid_auto_columns": null,
       "grid_auto_flow": null,
       "grid_auto_rows": null,
       "grid_column": null,
       "grid_gap": null,
       "grid_row": null,
       "grid_template_areas": null,
       "grid_template_columns": null,
       "grid_template_rows": null,
       "height": null,
       "justify_content": null,
       "justify_items": null,
       "left": null,
       "margin": null,
       "max_height": null,
       "max_width": null,
       "min_height": null,
       "min_width": null,
       "object_fit": null,
       "object_position": null,
       "order": null,
       "overflow": null,
       "overflow_x": null,
       "overflow_y": null,
       "padding": null,
       "right": null,
       "top": null,
       "visibility": null,
       "width": null
      }
     },
     "ff52d37d57d84452b55ec502411ff869": {
      "model_module": "@jupyter-widgets/base",
      "model_module_version": "1.2.0",
      "model_name": "LayoutModel",
      "state": {
       "_model_module": "@jupyter-widgets/base",
       "_model_module_version": "1.2.0",
       "_model_name": "LayoutModel",
       "_view_count": null,
       "_view_module": "@jupyter-widgets/base",
       "_view_module_version": "1.2.0",
       "_view_name": "LayoutView",
       "align_content": null,
       "align_items": null,
       "align_self": null,
       "border": null,
       "bottom": null,
       "display": null,
       "flex": null,
       "flex_flow": null,
       "grid_area": null,
       "grid_auto_columns": null,
       "grid_auto_flow": null,
       "grid_auto_rows": null,
       "grid_column": null,
       "grid_gap": null,
       "grid_row": null,
       "grid_template_areas": null,
       "grid_template_columns": null,
       "grid_template_rows": null,
       "height": null,
       "justify_content": null,
       "justify_items": null,
       "left": null,
       "margin": null,
       "max_height": null,
       "max_width": null,
       "min_height": null,
       "min_width": null,
       "object_fit": null,
       "object_position": null,
       "order": null,
       "overflow": null,
       "overflow_x": null,
       "overflow_y": null,
       "padding": null,
       "right": null,
       "top": null,
       "visibility": null,
       "width": null
      }
     },
     "ffe103718e904db5beae384e168e99df": {
      "model_module": "@jupyter-widgets/controls",
      "model_module_version": "1.5.0",
      "model_name": "DescriptionStyleModel",
      "state": {
       "_model_module": "@jupyter-widgets/controls",
       "_model_module_version": "1.5.0",
       "_model_name": "DescriptionStyleModel",
       "_view_count": null,
       "_view_module": "@jupyter-widgets/base",
       "_view_module_version": "1.2.0",
       "_view_name": "StyleView",
       "description_width": ""
      }
     }
    },
    "version_major": 2,
    "version_minor": 0
   }
  }
 },
 "nbformat": 4,
 "nbformat_minor": 5
}
