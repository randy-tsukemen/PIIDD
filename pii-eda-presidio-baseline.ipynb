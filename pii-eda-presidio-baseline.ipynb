{
 "cells": [
  {
   "cell_type": "markdown",
   "id": "282cde07",
   "metadata": {
    "papermill": {
     "duration": 0.005981,
     "end_time": "2024-01-17T21:18:52.045322",
     "exception": false,
     "start_time": "2024-01-17T21:18:52.039341",
     "status": "completed"
    },
    "tags": []
   },
   "source": [
    "## Presidio by Microsoft is an open-sourced framework for PII detection\n",
    "\n",
    "We will use the default config as a baseline submission. Docs can be found [here](https://microsoft.github.io/presidio/analyzer/)"
   ]
  },
  {
   "cell_type": "code",
   "execution_count": 1,
   "id": "36c00641",
   "metadata": {
    "execution": {
     "iopub.execute_input": "2024-01-17T21:18:52.058544Z",
     "iopub.status.busy": "2024-01-17T21:18:52.058232Z",
     "iopub.status.idle": "2024-01-17T21:19:07.909386Z",
     "shell.execute_reply": "2024-01-17T21:19:07.908059Z"
    },
    "papermill": {
     "duration": 15.860957,
     "end_time": "2024-01-17T21:19:07.911903",
     "exception": false,
     "start_time": "2024-01-17T21:18:52.050946",
     "status": "completed"
    },
    "tags": []
   },
   "outputs": [],
   "source": [
    "%%capture\n",
    "!pip install presidio_analyzer --no-index --find-links=file:///kaggle/input/presidio-wheels/presidio"
   ]
  },
  {
   "cell_type": "code",
   "execution_count": 2,
   "id": "6095ba4a",
   "metadata": {
    "_cell_guid": "b1076dfc-b9ad-4769-8c92-a6c4dae69d19",
    "_uuid": "8f2839f25d086af736a60e9eeb907d3b93b6e0e5",
    "execution": {
     "iopub.execute_input": "2024-01-17T21:19:07.925426Z",
     "iopub.status.busy": "2024-01-17T21:19:07.925058Z",
     "iopub.status.idle": "2024-01-17T21:19:13.148653Z",
     "shell.execute_reply": "2024-01-17T21:19:13.147292Z"
    },
    "papermill": {
     "duration": 5.233006,
     "end_time": "2024-01-17T21:19:13.150919",
     "exception": false,
     "start_time": "2024-01-17T21:19:07.917913",
     "status": "completed"
    },
    "tags": []
   },
   "outputs": [],
   "source": [
    "import json\n",
    "import pandas as pd\n",
    "from tqdm.auto import tqdm\n",
    "from presidio_analyzer import AnalyzerEngine"
   ]
  },
  {
   "cell_type": "code",
   "execution_count": 3,
   "id": "4d700bb6",
   "metadata": {
    "execution": {
     "iopub.execute_input": "2024-01-17T21:19:13.163948Z",
     "iopub.status.busy": "2024-01-17T21:19:13.163480Z",
     "iopub.status.idle": "2024-01-17T21:19:17.322041Z",
     "shell.execute_reply": "2024-01-17T21:19:17.320950Z"
    },
    "papermill": {
     "duration": 4.167636,
     "end_time": "2024-01-17T21:19:17.324491",
     "exception": false,
     "start_time": "2024-01-17T21:19:13.156855",
     "status": "completed"
    },
    "tags": []
   },
   "outputs": [],
   "source": [
    "analyzer = AnalyzerEngine()"
   ]
  },
  {
   "cell_type": "code",
   "execution_count": 4,
   "id": "bc3eed38",
   "metadata": {
    "execution": {
     "iopub.execute_input": "2024-01-17T21:19:17.337169Z",
     "iopub.status.busy": "2024-01-17T21:19:17.336816Z",
     "iopub.status.idle": "2024-01-17T21:19:19.257396Z",
     "shell.execute_reply": "2024-01-17T21:19:19.256334Z"
    },
    "papermill": {
     "duration": 1.92962,
     "end_time": "2024-01-17T21:19:19.259800",
     "exception": false,
     "start_time": "2024-01-17T21:19:17.330180",
     "status": "completed"
    },
    "tags": []
   },
   "outputs": [],
   "source": [
    "train = json.load(open('/kaggle/input/pii-detection-removal-from-educational-data/train.json'))"
   ]
  },
  {
   "cell_type": "code",
   "execution_count": 5,
   "id": "810b2ade",
   "metadata": {
    "execution": {
     "iopub.execute_input": "2024-01-17T21:19:19.274287Z",
     "iopub.status.busy": "2024-01-17T21:19:19.273884Z",
     "iopub.status.idle": "2024-01-17T21:19:19.281959Z",
     "shell.execute_reply": "2024-01-17T21:19:19.280784Z"
    },
    "papermill": {
     "duration": 0.018424,
     "end_time": "2024-01-17T21:19:19.284573",
     "exception": false,
     "start_time": "2024-01-17T21:19:19.266149",
     "status": "completed"
    },
    "tags": []
   },
   "outputs": [
    {
     "data": {
      "text/plain": [
       "6807"
      ]
     },
     "execution_count": 5,
     "metadata": {},
     "output_type": "execute_result"
    }
   ],
   "source": [
    "len(train)"
   ]
  },
  {
   "cell_type": "code",
   "execution_count": 6,
   "id": "30a08820",
   "metadata": {
    "execution": {
     "iopub.execute_input": "2024-01-17T21:19:19.298238Z",
     "iopub.status.busy": "2024-01-17T21:19:19.297890Z",
     "iopub.status.idle": "2024-01-17T21:19:19.305195Z",
     "shell.execute_reply": "2024-01-17T21:19:19.304077Z"
    },
    "papermill": {
     "duration": 0.017049,
     "end_time": "2024-01-17T21:19:19.307698",
     "exception": false,
     "start_time": "2024-01-17T21:19:19.290649",
     "status": "completed"
    },
    "tags": []
   },
   "outputs": [
    {
     "data": {
      "text/plain": [
       "dict_keys(['document', 'full_text', 'tokens', 'trailing_whitespace', 'labels'])"
      ]
     },
     "execution_count": 6,
     "metadata": {},
     "output_type": "execute_result"
    }
   ],
   "source": [
    "train[0].keys()"
   ]
  },
  {
   "cell_type": "markdown",
   "id": "e23e10f6",
   "metadata": {
    "papermill": {
     "duration": 0.005326,
     "end_time": "2024-01-17T21:19:19.318910",
     "exception": false,
     "start_time": "2024-01-17T21:19:19.313584",
     "status": "completed"
    },
    "tags": []
   },
   "source": [
    "## Data Description\n",
    "\n",
    "* `document` is the document id (int)\n",
    "* `full_text` is the text on which we need to peform PII detection (str)\n",
    "* `tokens` is a list of tokens of `full_text` which we have to label (list[str])\n",
    "* `trailing_whitespace` is a list of boolean values corresponding to every `token` whether it is followed by a whitespace or not (list[bool])\n",
    "* `labels` is a list of BIO labels for every token. \"B\" indicates the beginning of an entity, \"I\" indicates if the token is inbetween (inner) two entities, \"O\" is the outer entity i.e not labeled. (list[str])\n",
    "\n",
    "\n",
    "**example**:\n",
    "\n",
    "\"Hi John Smith!\"\n",
    "\n",
    "tokens - \"Hi\", \"John\", \"Smith\", \"!\"\n",
    "\n",
    "trailing_whitespace - true, true, false, false\n",
    "\n",
    "labels - \"O\", \"B-NAME_STUDENT\", \"I-NAME_STUDENT\", \"O\""
   ]
  },
  {
   "cell_type": "code",
   "execution_count": 7,
   "id": "6eefa5de",
   "metadata": {
    "execution": {
     "iopub.execute_input": "2024-01-17T21:19:19.331453Z",
     "iopub.status.busy": "2024-01-17T21:19:19.331098Z",
     "iopub.status.idle": "2024-01-17T21:19:19.338274Z",
     "shell.execute_reply": "2024-01-17T21:19:19.337142Z"
    },
    "papermill": {
     "duration": 0.01636,
     "end_time": "2024-01-17T21:19:19.340746",
     "exception": false,
     "start_time": "2024-01-17T21:19:19.324386",
     "status": "completed"
    },
    "tags": []
   },
   "outputs": [
    {
     "data": {
      "text/plain": [
       "\"Design Thinking for innovation reflexion-Avril 2021-Nathalie Sylla\\n\\nChallenge & selection\\n\\nThe tool I use to help all stakeholders finding their way through the complexity of a project is the  mind map.\\n\\nWhat exactly is a mind map? According to the definition of Buzan T. and Buzan B. (1999, Dessine-moi  l'intelligence. Paris: Les Éditions d'Organisation.), the mind map (or heuristic diagram) is a graphic  representation technique that follows the natural functioning of the mind and allows the brain's  potential to be released. Cf Annex1\\n\\nThis tool has many advantages:\\n\\n•  It is accessible to all and does not require significant material investment and can be done  quickly\\n\\n•  It is scalable\\n\\n•  It allows categorization and linking of information\\n\\n•  It can be applied to any type of situation: notetaking, problem solving, analysis, creation of  new ideas\\n\\n•  It is suitable for all people and is easy to learn\\n\\n•  It is fun and encourages exchanges\\n\\n•  It makes visible the dimension of projects, opportunities, interconnections\\n\\n•  It synthesizes\\n\\n•  It makes the project understandable\\n\\n•  It allows you to explore ideas\\n\\nThe creation of a mind map starts with an idea/problem located at its center. This starting point  generates ideas/work areas, incremented around this center in a radial structure, which in turn is  completed with as many branches as new ideas.\\n\\nThis tool enables creativity and logic to be mobilized, it is a map of the thoughts.\\n\\nCreativity is enhanced because participants feel comfortable with the method.\\n\\nApplication & Insight\\n\\nI start the process of the mind map creation with the stakeholders standing around a large board  (white or paper board). In the center of the board, I write and highlight the topic to design.\\n\\nThrough a series of questions, I guide the stakeholders in modelling the mind map. I adapt the series  of questions according to the topic to be addressed. In the type of questions, we can use: who, what,  when, where, why, how, how much.\\n\\nThe use of the “why” is very interesting to understand the origin. By this way, the interviewed person  frees itself from paradigms and thus dares to propose new ideas / ways of functioning. I plan two  hours for a workshop.\\n\\nDesign Thinking for innovation reflexion-Avril 2021-Nathalie Sylla\\n\\nAfter modelling the mind map on paper, I propose to the participants a digital visualization of their  work with the addition of color codes, images and interconnections. This second workshop also lasts  two hours and allows the mind map to evolve. Once familiarized with it, the stakeholders discover  the power of the tool. Then, the second workshop brings out even more ideas and constructive  exchanges between the stakeholders. Around this new mind map, they have learned to work  together and want to make visible the untold ideas.\\n\\nI now present all the projects I manage in this type of format in order to ease rapid understanding for  decision-makers. These presentations are the core of my business models. The decision-makers are  thus able to identify the opportunities of the projects and can take quick decisions to validate them.  They find answers to their questions thank to a schematic representation.\\n\\nApproach\\n\\nWhat I find amazing with the facilitation of this type of workshop is the participants commitment for  the project. This tool helps to give meaning. The participants appropriate the story and want to keep  writing it. Then, they easily become actors or sponsors of the project. A trust relationship is built,  thus facilitating the implementation of related actions.\\n\\nDesign Thinking for innovation reflexion-Avril 2021-Nathalie Sylla\\n\\nAnnex 1: Mind Map Shared facilities project\\n\\n\""
      ]
     },
     "execution_count": 7,
     "metadata": {},
     "output_type": "execute_result"
    }
   ],
   "source": [
    "train[0]['full_text']"
   ]
  },
  {
   "cell_type": "code",
   "execution_count": 8,
   "id": "66ea852f",
   "metadata": {
    "execution": {
     "iopub.execute_input": "2024-01-17T21:19:19.355206Z",
     "iopub.status.busy": "2024-01-17T21:19:19.354741Z",
     "iopub.status.idle": "2024-01-17T21:19:19.786720Z",
     "shell.execute_reply": "2024-01-17T21:19:19.785291Z"
    },
    "papermill": {
     "duration": 0.441421,
     "end_time": "2024-01-17T21:19:19.789083",
     "exception": false,
     "start_time": "2024-01-17T21:19:19.347662",
     "status": "completed"
    },
    "tags": []
   },
   "outputs": [],
   "source": [
    "results = analyzer.analyze(text=train[0]['full_text'].replace(\"\\n\",\" \"),\n",
    "                           entities=[\"PHONE_NUMBER\", \"PERSON\", \"URL\", \"EMAIL_ADDRESS\"],\n",
    "                           language='en', return_decision_process = True)"
   ]
  },
  {
   "cell_type": "markdown",
   "id": "bfae2a1e",
   "metadata": {
    "papermill": {
     "duration": 0.005664,
     "end_time": "2024-01-17T21:19:19.800976",
     "exception": false,
     "start_time": "2024-01-17T21:19:19.795312",
     "status": "completed"
    },
    "tags": []
   },
   "source": [
    "## True Labels"
   ]
  },
  {
   "cell_type": "code",
   "execution_count": 9,
   "id": "3b12ba2b",
   "metadata": {
    "execution": {
     "iopub.execute_input": "2024-01-17T21:19:19.814274Z",
     "iopub.status.busy": "2024-01-17T21:19:19.813898Z",
     "iopub.status.idle": "2024-01-17T21:19:19.822901Z",
     "shell.execute_reply": "2024-01-17T21:19:19.821486Z"
    },
    "papermill": {
     "duration": 0.018371,
     "end_time": "2024-01-17T21:19:19.825158",
     "exception": false,
     "start_time": "2024-01-17T21:19:19.806787",
     "status": "completed"
    },
    "tags": []
   },
   "outputs": [
    {
     "data": {
      "text/plain": [
       "[(9, 'Nathalie', 'B-NAME_STUDENT'),\n",
       " (10, 'Sylla', 'I-NAME_STUDENT'),\n",
       " (482, 'Nathalie', 'B-NAME_STUDENT'),\n",
       " (483, 'Sylla', 'I-NAME_STUDENT'),\n",
       " (741, 'Nathalie', 'B-NAME_STUDENT'),\n",
       " (742, 'Sylla', 'I-NAME_STUDENT')]"
      ]
     },
     "execution_count": 9,
     "metadata": {},
     "output_type": "execute_result"
    }
   ],
   "source": [
    "[(i,t,l) for i, (t,l) in enumerate(zip(train[0]['tokens'],train[0]['labels'])) if l != 'O']"
   ]
  },
  {
   "cell_type": "markdown",
   "id": "b8e44a99",
   "metadata": {
    "papermill": {
     "duration": 0.006036,
     "end_time": "2024-01-17T21:19:19.837971",
     "exception": false,
     "start_time": "2024-01-17T21:19:19.831935",
     "status": "completed"
    },
    "tags": []
   },
   "source": [
    "## Predicted Labels"
   ]
  },
  {
   "cell_type": "code",
   "execution_count": 10,
   "id": "9e4ac4a5",
   "metadata": {
    "execution": {
     "iopub.execute_input": "2024-01-17T21:19:19.851600Z",
     "iopub.status.busy": "2024-01-17T21:19:19.851212Z",
     "iopub.status.idle": "2024-01-17T21:19:19.859171Z",
     "shell.execute_reply": "2024-01-17T21:19:19.858081Z"
    },
    "papermill": {
     "duration": 0.017806,
     "end_time": "2024-01-17T21:19:19.861797",
     "exception": false,
     "start_time": "2024-01-17T21:19:19.843991",
     "status": "completed"
    },
    "tags": []
   },
   "outputs": [
    {
     "data": {
      "text/plain": [
       "[('PERSON', 'Nathalie Sylla\\n\\n', 52, 68),\n",
       " ('PERSON', 'Buzan T.', 263, 271),\n",
       " ('PERSON', 'Buzan B.', 276, 284),\n",
       " ('PERSON', \"Dessine-moi  l'intelligence\", 292, 319),\n",
       " ('PERSON', 'Cf Annex1', 533, 542),\n",
       " ('PERSON', 'Nathalie Sylla', 2281, 2295),\n",
       " ('PERSON', 'Nathalie Sylla\\n\\n', 3648, 3664)]"
      ]
     },
     "execution_count": 10,
     "metadata": {},
     "output_type": "execute_result"
    }
   ],
   "source": [
    "[(i.entity_type, train[0]['full_text'][i.start:i.end], i.start, i.end) for i in results]"
   ]
  },
  {
   "cell_type": "markdown",
   "id": "fa90947a",
   "metadata": {
    "papermill": {
     "duration": 0.006566,
     "end_time": "2024-01-17T21:19:19.875024",
     "exception": false,
     "start_time": "2024-01-17T21:19:19.868458",
     "status": "completed"
    },
    "tags": []
   },
   "source": [
    "## Using Presidio predictions for token predictions [per token]"
   ]
  },
  {
   "cell_type": "code",
   "execution_count": 11,
   "id": "a0705b72",
   "metadata": {
    "execution": {
     "iopub.execute_input": "2024-01-17T21:19:19.890230Z",
     "iopub.status.busy": "2024-01-17T21:19:19.888817Z",
     "iopub.status.idle": "2024-01-17T21:19:24.366798Z",
     "shell.execute_reply": "2024-01-17T21:19:24.365512Z"
    },
    "papermill": {
     "duration": 4.488084,
     "end_time": "2024-01-17T21:19:24.369505",
     "exception": false,
     "start_time": "2024-01-17T21:19:19.881421",
     "status": "completed"
    },
    "tags": []
   },
   "outputs": [
    {
     "data": {
      "application/vnd.jupyter.widget-view+json": {
       "model_id": "c93752887d5b48f3ace62731699189d0",
       "version_major": 2,
       "version_minor": 0
      },
      "text/plain": [
       "  0%|          | 0/6807 [00:00<?, ?it/s]"
      ]
     },
     "metadata": {},
     "output_type": "display_data"
    }
   ],
   "source": [
    "def tokens2index(row):\n",
    "    tokens  = row['tokens']\n",
    "    start_ind = []\n",
    "    end_ind = []\n",
    "    prev_ind = 0\n",
    "    for tok in tokens:\n",
    "        start = prev_ind + row['full_text'][prev_ind:].index(tok)\n",
    "        end = start+len(tok)\n",
    "        start_ind.append(start)\n",
    "        end_ind.append(end)\n",
    "        prev_ind = end\n",
    "    return start_ind, end_ind\n",
    "for i in tqdm(range(len(train))):\n",
    "    start, end = tokens2index(train[i])\n",
    "    train[i]['start'] = start\n",
    "    train[i]['end'] = end"
   ]
  },
  {
   "cell_type": "code",
   "execution_count": 12,
   "id": "d5a616bf",
   "metadata": {
    "execution": {
     "iopub.execute_input": "2024-01-17T21:19:24.384658Z",
     "iopub.status.busy": "2024-01-17T21:19:24.384032Z",
     "iopub.status.idle": "2024-01-17T21:19:24.391075Z",
     "shell.execute_reply": "2024-01-17T21:19:24.389829Z"
    },
    "papermill": {
     "duration": 0.016897,
     "end_time": "2024-01-17T21:19:24.393238",
     "exception": false,
     "start_time": "2024-01-17T21:19:24.376341",
     "status": "completed"
    },
    "tags": []
   },
   "outputs": [],
   "source": [
    "def find_or_next_larger(arr, target):\n",
    "    left, right = 0, len(arr) - 1\n",
    "\n",
    "    while left <= right:\n",
    "        mid = (left + right) // 2\n",
    "\n",
    "        if arr[mid] == target:\n",
    "            return mid\n",
    "        elif arr[mid] < target:\n",
    "            left = mid + 1\n",
    "        else:\n",
    "            right = mid - 1\n",
    "    return left\n",
    "def count_trailing_whitespaces(word):\n",
    "    return len(word) - len(word.rstrip())"
   ]
  },
  {
   "cell_type": "markdown",
   "id": "2e371b12",
   "metadata": {
    "papermill": {
     "duration": 0.005855,
     "end_time": "2024-01-17T21:19:24.405397",
     "exception": false,
     "start_time": "2024-01-17T21:19:24.399542",
     "status": "completed"
    },
    "tags": []
   },
   "source": [
    "## On train data"
   ]
  },
  {
   "cell_type": "code",
   "execution_count": 13,
   "id": "1d94976a",
   "metadata": {
    "execution": {
     "iopub.execute_input": "2024-01-17T21:19:24.419595Z",
     "iopub.status.busy": "2024-01-17T21:19:24.419260Z",
     "iopub.status.idle": "2024-01-17T21:19:25.729047Z",
     "shell.execute_reply": "2024-01-17T21:19:25.728045Z"
    },
    "papermill": {
     "duration": 1.319611,
     "end_time": "2024-01-17T21:19:25.731309",
     "exception": false,
     "start_time": "2024-01-17T21:19:24.411698",
     "status": "completed"
    },
    "tags": []
   },
   "outputs": [
    {
     "data": {
      "application/vnd.jupyter.widget-view+json": {
       "model_id": "59f4d39e01a94f9e90e53c17c36d55cb",
       "version_major": 2,
       "version_minor": 0
      },
      "text/plain": [
       "  0%|          | 0/10 [00:00<?, ?it/s]"
      ]
     },
     "metadata": {},
     "output_type": "display_data"
    },
    {
     "name": "stdout",
     "output_type": "stream",
     "text": [
      "[9, 10] PERSON Nathalie Sylla\n",
      "\n",
      " 0.85\n",
      "[52, 53] PERSON Buzan T. 0.85\n",
      "[55, 56] PERSON Buzan B. 0.85\n",
      "[60, 61, 62, 63, 64] PERSON Dessine-moi  l'intelligence 0.85\n",
      "[482, 483] PERSON Nathalie Sylla 0.85\n",
      "[741, 742] PERSON Nathalie Sylla 0.85\n"
     ]
    }
   ],
   "source": [
    "preds = []\n",
    "for i, d in enumerate(tqdm(train[:10])):\n",
    "    results = analyzer.analyze(text=d['full_text'],\n",
    "                           entities=[\"PHONE_NUMBER\", \"PERSON\", \"URL\", \"EMAIL_ADDRESS\"],\n",
    "                           language='en')\n",
    "    pre_preds = []\n",
    "    for r in results:\n",
    "        s = find_or_next_larger(d['start'], r.start)\n",
    "        end = r.end\n",
    "        word = d['full_text'][r.start:r.end]\n",
    "        end = end - count_trailing_whitespaces(word)\n",
    "        temp_preds = [s]\n",
    "        try:\n",
    "            while d['end'][s+1] <= end:\n",
    "                temp_preds.append(s+1)\n",
    "                s +=1\n",
    "        except:\n",
    "            pass\n",
    "        if i==0:\n",
    "            print(temp_preds, r.entity_type, word,r.score)\n",
    "        \n",
    "        if r.entity_type == 'PHONE_NUMBER':\n",
    "            label =  'PHONE_NUM'\n",
    "        if r.entity_type == 'PERSON':\n",
    "            label =  'NAME_STUDENT'\n",
    "        if r.entity_type == 'URL':\n",
    "            label = 'URL_PERSONAL'\n",
    "        if r.entity_type == 'EMAIL_ADDRESS':\n",
    "            label = \"EMAIL\"\n",
    "        for p in temp_preds:\n",
    "            if len(pre_preds) > 0:\n",
    "                if pre_preds[-1]['rlabel'] == r.entity_type and ((p - pre_preds[-1]['token'])==1):\n",
    "                    label_f = \"I-\"+label\n",
    "                else:\n",
    "                    label_f = \"B-\"+label\n",
    "            else:\n",
    "                label_f = \"B-\"+label\n",
    "            pre_preds.append(({\n",
    "#                     \"row_id\":i,\n",
    "                    \"document\":d['document'],\n",
    "                    \"token\":p,\n",
    "                    \"label\":label_f,\n",
    "                    \"rlabel\":r.entity_type\n",
    "                }))\n",
    "    preds.extend(pre_preds)"
   ]
  },
  {
   "cell_type": "code",
   "execution_count": 14,
   "id": "4b09a202",
   "metadata": {
    "execution": {
     "iopub.execute_input": "2024-01-17T21:19:25.746662Z",
     "iopub.status.busy": "2024-01-17T21:19:25.746109Z",
     "iopub.status.idle": "2024-01-17T21:19:25.771873Z",
     "shell.execute_reply": "2024-01-17T21:19:25.770943Z"
    },
    "papermill": {
     "duration": 0.035368,
     "end_time": "2024-01-17T21:19:25.773752",
     "exception": false,
     "start_time": "2024-01-17T21:19:25.738384",
     "status": "completed"
    },
    "tags": []
   },
   "outputs": [
    {
     "data": {
      "text/html": [
       "<div>\n",
       "<style scoped>\n",
       "    .dataframe tbody tr th:only-of-type {\n",
       "        vertical-align: middle;\n",
       "    }\n",
       "\n",
       "    .dataframe tbody tr th {\n",
       "        vertical-align: top;\n",
       "    }\n",
       "\n",
       "    .dataframe thead th {\n",
       "        text-align: right;\n",
       "    }\n",
       "</style>\n",
       "<table border=\"1\" class=\"dataframe\">\n",
       "  <thead>\n",
       "    <tr style=\"text-align: right;\">\n",
       "      <th></th>\n",
       "      <th>document</th>\n",
       "      <th>token</th>\n",
       "      <th>label</th>\n",
       "      <th>rlabel</th>\n",
       "    </tr>\n",
       "  </thead>\n",
       "  <tbody>\n",
       "    <tr>\n",
       "      <th>0</th>\n",
       "      <td>7</td>\n",
       "      <td>9</td>\n",
       "      <td>B-NAME_STUDENT</td>\n",
       "      <td>PERSON</td>\n",
       "    </tr>\n",
       "    <tr>\n",
       "      <th>1</th>\n",
       "      <td>7</td>\n",
       "      <td>10</td>\n",
       "      <td>I-NAME_STUDENT</td>\n",
       "      <td>PERSON</td>\n",
       "    </tr>\n",
       "    <tr>\n",
       "      <th>2</th>\n",
       "      <td>7</td>\n",
       "      <td>52</td>\n",
       "      <td>B-NAME_STUDENT</td>\n",
       "      <td>PERSON</td>\n",
       "    </tr>\n",
       "    <tr>\n",
       "      <th>3</th>\n",
       "      <td>7</td>\n",
       "      <td>53</td>\n",
       "      <td>I-NAME_STUDENT</td>\n",
       "      <td>PERSON</td>\n",
       "    </tr>\n",
       "    <tr>\n",
       "      <th>4</th>\n",
       "      <td>7</td>\n",
       "      <td>55</td>\n",
       "      <td>B-NAME_STUDENT</td>\n",
       "      <td>PERSON</td>\n",
       "    </tr>\n",
       "    <tr>\n",
       "      <th>...</th>\n",
       "      <td>...</td>\n",
       "      <td>...</td>\n",
       "      <td>...</td>\n",
       "      <td>...</td>\n",
       "    </tr>\n",
       "    <tr>\n",
       "      <th>97</th>\n",
       "      <td>123</td>\n",
       "      <td>1591</td>\n",
       "      <td>B-URL_PERSONAL</td>\n",
       "      <td>URL</td>\n",
       "    </tr>\n",
       "    <tr>\n",
       "      <th>98</th>\n",
       "      <td>123</td>\n",
       "      <td>1648</td>\n",
       "      <td>B-URL_PERSONAL</td>\n",
       "      <td>URL</td>\n",
       "    </tr>\n",
       "    <tr>\n",
       "      <th>99</th>\n",
       "      <td>123</td>\n",
       "      <td>1690</td>\n",
       "      <td>B-URL_PERSONAL</td>\n",
       "      <td>URL</td>\n",
       "    </tr>\n",
       "    <tr>\n",
       "      <th>100</th>\n",
       "      <td>123</td>\n",
       "      <td>1550</td>\n",
       "      <td>B-URL_PERSONAL</td>\n",
       "      <td>URL</td>\n",
       "    </tr>\n",
       "    <tr>\n",
       "      <th>101</th>\n",
       "      <td>123</td>\n",
       "      <td>1691</td>\n",
       "      <td>B-URL_PERSONAL</td>\n",
       "      <td>URL</td>\n",
       "    </tr>\n",
       "  </tbody>\n",
       "</table>\n",
       "<p>102 rows × 4 columns</p>\n",
       "</div>"
      ],
      "text/plain": [
       "     document  token           label  rlabel\n",
       "0           7      9  B-NAME_STUDENT  PERSON\n",
       "1           7     10  I-NAME_STUDENT  PERSON\n",
       "2           7     52  B-NAME_STUDENT  PERSON\n",
       "3           7     53  I-NAME_STUDENT  PERSON\n",
       "4           7     55  B-NAME_STUDENT  PERSON\n",
       "..        ...    ...             ...     ...\n",
       "97        123   1591  B-URL_PERSONAL     URL\n",
       "98        123   1648  B-URL_PERSONAL     URL\n",
       "99        123   1690  B-URL_PERSONAL     URL\n",
       "100       123   1550  B-URL_PERSONAL     URL\n",
       "101       123   1691  B-URL_PERSONAL     URL\n",
       "\n",
       "[102 rows x 4 columns]"
      ]
     },
     "execution_count": 14,
     "metadata": {},
     "output_type": "execute_result"
    }
   ],
   "source": [
    "pd.DataFrame(preds)"
   ]
  },
  {
   "cell_type": "markdown",
   "id": "1b1c5c49",
   "metadata": {
    "papermill": {
     "duration": 0.0073,
     "end_time": "2024-01-17T21:19:25.787720",
     "exception": false,
     "start_time": "2024-01-17T21:19:25.780420",
     "status": "completed"
    },
    "tags": []
   },
   "source": [
    "## Inference and submission"
   ]
  },
  {
   "cell_type": "code",
   "execution_count": 15,
   "id": "4d43a504",
   "metadata": {
    "execution": {
     "iopub.execute_input": "2024-01-17T21:19:25.802070Z",
     "iopub.status.busy": "2024-01-17T21:19:25.801755Z",
     "iopub.status.idle": "2024-01-17T21:19:25.815404Z",
     "shell.execute_reply": "2024-01-17T21:19:25.814524Z"
    },
    "papermill": {
     "duration": 0.023137,
     "end_time": "2024-01-17T21:19:25.817536",
     "exception": false,
     "start_time": "2024-01-17T21:19:25.794399",
     "status": "completed"
    },
    "tags": []
   },
   "outputs": [
    {
     "data": {
      "text/plain": [
       "10"
      ]
     },
     "execution_count": 15,
     "metadata": {},
     "output_type": "execute_result"
    }
   ],
   "source": [
    "test = json.load(open('/kaggle/input/pii-detection-removal-from-educational-data/test.json'))\n",
    "len(test)"
   ]
  },
  {
   "cell_type": "code",
   "execution_count": 16,
   "id": "fca06519",
   "metadata": {
    "execution": {
     "iopub.execute_input": "2024-01-17T21:19:25.833501Z",
     "iopub.status.busy": "2024-01-17T21:19:25.832469Z",
     "iopub.status.idle": "2024-01-17T21:19:25.856986Z",
     "shell.execute_reply": "2024-01-17T21:19:25.856269Z"
    },
    "papermill": {
     "duration": 0.035512,
     "end_time": "2024-01-17T21:19:25.859824",
     "exception": false,
     "start_time": "2024-01-17T21:19:25.824312",
     "status": "completed"
    },
    "tags": []
   },
   "outputs": [
    {
     "data": {
      "application/vnd.jupyter.widget-view+json": {
       "model_id": "3330a03260464e3b8004ae9f64e114e9",
       "version_major": 2,
       "version_minor": 0
      },
      "text/plain": [
       "  0%|          | 0/10 [00:00<?, ?it/s]"
      ]
     },
     "metadata": {},
     "output_type": "display_data"
    }
   ],
   "source": [
    "for i in tqdm(range(len(test))):\n",
    "    start, end = tokens2index(test[i])\n",
    "    test[i]['start'] = start\n",
    "    test[i]['end'] = end"
   ]
  },
  {
   "cell_type": "code",
   "execution_count": 17,
   "id": "5268bf31",
   "metadata": {
    "execution": {
     "iopub.execute_input": "2024-01-17T21:19:25.874909Z",
     "iopub.status.busy": "2024-01-17T21:19:25.874569Z",
     "iopub.status.idle": "2024-01-17T21:19:26.963932Z",
     "shell.execute_reply": "2024-01-17T21:19:26.962528Z"
    },
    "papermill": {
     "duration": 1.099236,
     "end_time": "2024-01-17T21:19:26.965990",
     "exception": false,
     "start_time": "2024-01-17T21:19:25.866754",
     "status": "completed"
    },
    "tags": []
   },
   "outputs": [
    {
     "data": {
      "application/vnd.jupyter.widget-view+json": {
       "model_id": "7786127039a64e4e9f95ab7a0a24b785",
       "version_major": 2,
       "version_minor": 0
      },
      "text/plain": [
       "  0%|          | 0/10 [00:00<?, ?it/s]"
      ]
     },
     "metadata": {},
     "output_type": "display_data"
    },
    {
     "name": "stdout",
     "output_type": "stream",
     "text": [
      "[9, 10] PERSON Nathalie Sylla\n",
      "\n",
      " 0.85\n",
      "[52, 53] PERSON Buzan T. 0.85\n",
      "[55, 56] PERSON Buzan B. 0.85\n",
      "[60, 61, 62, 63, 64] PERSON Dessine-moi  l'intelligence 0.85\n",
      "[482, 483] PERSON Nathalie Sylla 0.85\n",
      "[741, 742] PERSON Nathalie Sylla 0.85\n"
     ]
    }
   ],
   "source": [
    "preds = []\n",
    "for i, d in enumerate(tqdm(test)):\n",
    "    results = analyzer.analyze(text=d['full_text'],\n",
    "                           entities=[\"PHONE_NUMBER\", \"PERSON\", \"URL\", \"EMAIL_ADDRESS\"],\n",
    "                           language='en')\n",
    "    pre_preds = []\n",
    "    for r in results:\n",
    "        s = find_or_next_larger(d['start'], r.start)\n",
    "        end = r.end\n",
    "        word = d['full_text'][r.start:r.end]\n",
    "        end = end - count_trailing_whitespaces(word)\n",
    "        temp_preds = [s]\n",
    "        try:\n",
    "            while d['end'][s+1] <= end:\n",
    "                temp_preds.append(s+1)\n",
    "                s +=1\n",
    "        except:\n",
    "            pass\n",
    "        if i==0:\n",
    "            print(temp_preds, r.entity_type, word,r.score)\n",
    "        \n",
    "        if r.entity_type == 'PHONE_NUMBER':\n",
    "            label =  'PHONE_NUM'\n",
    "        if r.entity_type == 'PERSON':\n",
    "            label =  'NAME_STUDENT'\n",
    "        if r.entity_type == 'URL':\n",
    "            label = 'URL_PERSONAL'\n",
    "        if r.entity_type == 'EMAIL_ADDRESS':\n",
    "            label = \"EMAIL\"\n",
    "        for p in temp_preds:\n",
    "            if len(pre_preds) > 0:\n",
    "                if pre_preds[-1]['rlabel'] == r.entity_type and ((p - pre_preds[-1]['token'])==1):\n",
    "                    label_f = \"I-\"+label\n",
    "                else:\n",
    "                    label_f = \"B-\"+label\n",
    "            else:\n",
    "                label_f = \"B-\"+label\n",
    "            pre_preds.append(({\n",
    "#                     \"row_id\":i,\n",
    "                    \"document\":d['document'],\n",
    "                    \"token\":p,\n",
    "                    \"label\":label_f,\n",
    "                    \"rlabel\":r.entity_type\n",
    "                }))\n",
    "    preds.extend(pre_preds)"
   ]
  },
  {
   "cell_type": "code",
   "execution_count": 18,
   "id": "3293f44f",
   "metadata": {
    "execution": {
     "iopub.execute_input": "2024-01-17T21:19:26.982417Z",
     "iopub.status.busy": "2024-01-17T21:19:26.982020Z",
     "iopub.status.idle": "2024-01-17T21:19:27.003132Z",
     "shell.execute_reply": "2024-01-17T21:19:27.002172Z"
    },
    "papermill": {
     "duration": 0.031492,
     "end_time": "2024-01-17T21:19:27.004903",
     "exception": false,
     "start_time": "2024-01-17T21:19:26.973411",
     "status": "completed"
    },
    "tags": []
   },
   "outputs": [
    {
     "data": {
      "text/html": [
       "<div>\n",
       "<style scoped>\n",
       "    .dataframe tbody tr th:only-of-type {\n",
       "        vertical-align: middle;\n",
       "    }\n",
       "\n",
       "    .dataframe tbody tr th {\n",
       "        vertical-align: top;\n",
       "    }\n",
       "\n",
       "    .dataframe thead th {\n",
       "        text-align: right;\n",
       "    }\n",
       "</style>\n",
       "<table border=\"1\" class=\"dataframe\">\n",
       "  <thead>\n",
       "    <tr style=\"text-align: right;\">\n",
       "      <th></th>\n",
       "      <th>row_id</th>\n",
       "      <th>document</th>\n",
       "      <th>token</th>\n",
       "      <th>label</th>\n",
       "    </tr>\n",
       "  </thead>\n",
       "  <tbody>\n",
       "    <tr>\n",
       "      <th>0</th>\n",
       "      <td>0</td>\n",
       "      <td>7</td>\n",
       "      <td>9</td>\n",
       "      <td>B-NAME_STUDENT</td>\n",
       "    </tr>\n",
       "    <tr>\n",
       "      <th>1</th>\n",
       "      <td>1</td>\n",
       "      <td>7</td>\n",
       "      <td>10</td>\n",
       "      <td>I-NAME_STUDENT</td>\n",
       "    </tr>\n",
       "    <tr>\n",
       "      <th>2</th>\n",
       "      <td>2</td>\n",
       "      <td>7</td>\n",
       "      <td>52</td>\n",
       "      <td>B-NAME_STUDENT</td>\n",
       "    </tr>\n",
       "    <tr>\n",
       "      <th>3</th>\n",
       "      <td>3</td>\n",
       "      <td>7</td>\n",
       "      <td>53</td>\n",
       "      <td>I-NAME_STUDENT</td>\n",
       "    </tr>\n",
       "    <tr>\n",
       "      <th>4</th>\n",
       "      <td>4</td>\n",
       "      <td>7</td>\n",
       "      <td>55</td>\n",
       "      <td>B-NAME_STUDENT</td>\n",
       "    </tr>\n",
       "    <tr>\n",
       "      <th>...</th>\n",
       "      <td>...</td>\n",
       "      <td>...</td>\n",
       "      <td>...</td>\n",
       "      <td>...</td>\n",
       "    </tr>\n",
       "    <tr>\n",
       "      <th>97</th>\n",
       "      <td>97</td>\n",
       "      <td>123</td>\n",
       "      <td>1591</td>\n",
       "      <td>B-URL_PERSONAL</td>\n",
       "    </tr>\n",
       "    <tr>\n",
       "      <th>98</th>\n",
       "      <td>98</td>\n",
       "      <td>123</td>\n",
       "      <td>1648</td>\n",
       "      <td>B-URL_PERSONAL</td>\n",
       "    </tr>\n",
       "    <tr>\n",
       "      <th>99</th>\n",
       "      <td>99</td>\n",
       "      <td>123</td>\n",
       "      <td>1690</td>\n",
       "      <td>B-URL_PERSONAL</td>\n",
       "    </tr>\n",
       "    <tr>\n",
       "      <th>100</th>\n",
       "      <td>100</td>\n",
       "      <td>123</td>\n",
       "      <td>1550</td>\n",
       "      <td>B-URL_PERSONAL</td>\n",
       "    </tr>\n",
       "    <tr>\n",
       "      <th>101</th>\n",
       "      <td>101</td>\n",
       "      <td>123</td>\n",
       "      <td>1691</td>\n",
       "      <td>B-URL_PERSONAL</td>\n",
       "    </tr>\n",
       "  </tbody>\n",
       "</table>\n",
       "<p>102 rows × 4 columns</p>\n",
       "</div>"
      ],
      "text/plain": [
       "     row_id  document  token           label\n",
       "0         0         7      9  B-NAME_STUDENT\n",
       "1         1         7     10  I-NAME_STUDENT\n",
       "2         2         7     52  B-NAME_STUDENT\n",
       "3         3         7     53  I-NAME_STUDENT\n",
       "4         4         7     55  B-NAME_STUDENT\n",
       "..      ...       ...    ...             ...\n",
       "97       97       123   1591  B-URL_PERSONAL\n",
       "98       98       123   1648  B-URL_PERSONAL\n",
       "99       99       123   1690  B-URL_PERSONAL\n",
       "100     100       123   1550  B-URL_PERSONAL\n",
       "101     101       123   1691  B-URL_PERSONAL\n",
       "\n",
       "[102 rows x 4 columns]"
      ]
     },
     "execution_count": 18,
     "metadata": {},
     "output_type": "execute_result"
    }
   ],
   "source": [
    "submission = pd.DataFrame(preds).iloc[:,:-1].reset_index()\n",
    "submission.columns = ['row_id','document', 'token', 'label']\n",
    "submission"
   ]
  },
  {
   "cell_type": "code",
   "execution_count": 19,
   "id": "7bd2f65d",
   "metadata": {
    "execution": {
     "iopub.execute_input": "2024-01-17T21:19:27.021423Z",
     "iopub.status.busy": "2024-01-17T21:19:27.021040Z",
     "iopub.status.idle": "2024-01-17T21:19:27.044376Z",
     "shell.execute_reply": "2024-01-17T21:19:27.043344Z"
    },
    "papermill": {
     "duration": 0.033687,
     "end_time": "2024-01-17T21:19:27.046278",
     "exception": false,
     "start_time": "2024-01-17T21:19:27.012591",
     "status": "completed"
    },
    "tags": []
   },
   "outputs": [
    {
     "data": {
      "text/html": [
       "<div>\n",
       "<style scoped>\n",
       "    .dataframe tbody tr th:only-of-type {\n",
       "        vertical-align: middle;\n",
       "    }\n",
       "\n",
       "    .dataframe tbody tr th {\n",
       "        vertical-align: top;\n",
       "    }\n",
       "\n",
       "    .dataframe thead th {\n",
       "        text-align: right;\n",
       "    }\n",
       "</style>\n",
       "<table border=\"1\" class=\"dataframe\">\n",
       "  <thead>\n",
       "    <tr style=\"text-align: right;\">\n",
       "      <th></th>\n",
       "      <th>row_id</th>\n",
       "      <th>document</th>\n",
       "      <th>token</th>\n",
       "      <th>label</th>\n",
       "    </tr>\n",
       "  </thead>\n",
       "  <tbody>\n",
       "    <tr>\n",
       "      <th>0</th>\n",
       "      <td>0</td>\n",
       "      <td>7</td>\n",
       "      <td>9</td>\n",
       "      <td>B-NAME_STUDENT</td>\n",
       "    </tr>\n",
       "    <tr>\n",
       "      <th>1</th>\n",
       "      <td>1</td>\n",
       "      <td>7</td>\n",
       "      <td>10</td>\n",
       "      <td>I-NAME_STUDENT</td>\n",
       "    </tr>\n",
       "    <tr>\n",
       "      <th>2</th>\n",
       "      <td>2</td>\n",
       "      <td>7</td>\n",
       "      <td>482</td>\n",
       "      <td>B-NAME_STUDENT</td>\n",
       "    </tr>\n",
       "    <tr>\n",
       "      <th>3</th>\n",
       "      <td>3</td>\n",
       "      <td>7</td>\n",
       "      <td>483</td>\n",
       "      <td>I-NAME_STUDENT</td>\n",
       "    </tr>\n",
       "    <tr>\n",
       "      <th>4</th>\n",
       "      <td>4</td>\n",
       "      <td>7</td>\n",
       "      <td>741</td>\n",
       "      <td>B-NAME_STUDENT</td>\n",
       "    </tr>\n",
       "    <tr>\n",
       "      <th>5</th>\n",
       "      <td>5</td>\n",
       "      <td>7</td>\n",
       "      <td>742</td>\n",
       "      <td>I-NAME_STUDENT</td>\n",
       "    </tr>\n",
       "    <tr>\n",
       "      <th>6</th>\n",
       "      <td>6</td>\n",
       "      <td>10</td>\n",
       "      <td>0</td>\n",
       "      <td>B-NAME_STUDENT</td>\n",
       "    </tr>\n",
       "    <tr>\n",
       "      <th>7</th>\n",
       "      <td>7</td>\n",
       "      <td>10</td>\n",
       "      <td>1</td>\n",
       "      <td>I-NAME_STUDENT</td>\n",
       "    </tr>\n",
       "    <tr>\n",
       "      <th>8</th>\n",
       "      <td>8</td>\n",
       "      <td>10</td>\n",
       "      <td>464</td>\n",
       "      <td>B-NAME_STUDENT</td>\n",
       "    </tr>\n",
       "    <tr>\n",
       "      <th>9</th>\n",
       "      <td>9</td>\n",
       "      <td>10</td>\n",
       "      <td>465</td>\n",
       "      <td>I-NAME_STUDENT</td>\n",
       "    </tr>\n",
       "  </tbody>\n",
       "</table>\n",
       "</div>"
      ],
      "text/plain": [
       "   row_id  document  token           label\n",
       "0       0         7      9  B-NAME_STUDENT\n",
       "1       1         7     10  I-NAME_STUDENT\n",
       "2       2         7    482  B-NAME_STUDENT\n",
       "3       3         7    483  I-NAME_STUDENT\n",
       "4       4         7    741  B-NAME_STUDENT\n",
       "5       5         7    742  I-NAME_STUDENT\n",
       "6       6        10      0  B-NAME_STUDENT\n",
       "7       7        10      1  I-NAME_STUDENT\n",
       "8       8        10    464  B-NAME_STUDENT\n",
       "9       9        10    465  I-NAME_STUDENT"
      ]
     },
     "execution_count": 19,
     "metadata": {},
     "output_type": "execute_result"
    }
   ],
   "source": [
    "pd.read_csv('/kaggle/input/pii-detection-removal-from-educational-data/sample_submission.csv').head(10)"
   ]
  },
  {
   "cell_type": "code",
   "execution_count": 20,
   "id": "1500521f",
   "metadata": {
    "execution": {
     "iopub.execute_input": "2024-01-17T21:19:27.063753Z",
     "iopub.status.busy": "2024-01-17T21:19:27.063432Z",
     "iopub.status.idle": "2024-01-17T21:19:27.071652Z",
     "shell.execute_reply": "2024-01-17T21:19:27.070459Z"
    },
    "papermill": {
     "duration": 0.019851,
     "end_time": "2024-01-17T21:19:27.074297",
     "exception": false,
     "start_time": "2024-01-17T21:19:27.054446",
     "status": "completed"
    },
    "tags": []
   },
   "outputs": [],
   "source": [
    "submission.to_csv('submission.csv', index = False)"
   ]
  },
  {
   "cell_type": "markdown",
   "id": "0575e6e5",
   "metadata": {
    "papermill": {
     "duration": 0.007347,
     "end_time": "2024-01-17T21:19:27.089839",
     "exception": false,
     "start_time": "2024-01-17T21:19:27.082492",
     "status": "completed"
    },
    "tags": []
   },
   "source": [
    "## Please upvote if you found it useful! \n",
    "\n",
    "2024 resolution:\n",
    "* Competitions Master\n",
    "* Datasets GM\n",
    "* Notebooks GM\n",
    "* Discussions Master"
   ]
  }
 ],
 "metadata": {
  "kaggle": {
   "accelerator": "none",
   "dataSources": [
    {
     "databundleVersionId": 7500999,
     "sourceId": 66653,
     "sourceType": "competition"
    },
    {
     "sourceId": 159367535,
     "sourceType": "kernelVersion"
    }
   ],
   "dockerImageVersionId": 30635,
   "isGpuEnabled": false,
   "isInternetEnabled": false,
   "language": "python",
   "sourceType": "notebook"
  },
  "kernelspec": {
   "display_name": "Python 3",
   "language": "python",
   "name": "python3"
  },
  "language_info": {
   "codemirror_mode": {
    "name": "ipython",
    "version": 3
   },
   "file_extension": ".py",
   "mimetype": "text/x-python",
   "name": "python",
   "nbconvert_exporter": "python",
   "pygments_lexer": "ipython3",
   "version": "3.10.12"
  },
  "papermill": {
   "default_parameters": {},
   "duration": 41.177175,
   "end_time": "2024-01-17T21:19:30.601677",
   "environment_variables": {},
   "exception": null,
   "input_path": "__notebook__.ipynb",
   "output_path": "__notebook__.ipynb",
   "parameters": {},
   "start_time": "2024-01-17T21:18:49.424502",
   "version": "2.4.0"
  },
  "widgets": {
   "application/vnd.jupyter.widget-state+json": {
    "state": {
     "078a7a4d1b3b44f691566cccc2716475": {
      "model_module": "@jupyter-widgets/base",
      "model_module_version": "1.2.0",
      "model_name": "LayoutModel",
      "state": {
       "_model_module": "@jupyter-widgets/base",
       "_model_module_version": "1.2.0",
       "_model_name": "LayoutModel",
       "_view_count": null,
       "_view_module": "@jupyter-widgets/base",
       "_view_module_version": "1.2.0",
       "_view_name": "LayoutView",
       "align_content": null,
       "align_items": null,
       "align_self": null,
       "border": null,
       "bottom": null,
       "display": null,
       "flex": null,
       "flex_flow": null,
       "grid_area": null,
       "grid_auto_columns": null,
       "grid_auto_flow": null,
       "grid_auto_rows": null,
       "grid_column": null,
       "grid_gap": null,
       "grid_row": null,
       "grid_template_areas": null,
       "grid_template_columns": null,
       "grid_template_rows": null,
       "height": null,
       "justify_content": null,
       "justify_items": null,
       "left": null,
       "margin": null,
       "max_height": null,
       "max_width": null,
       "min_height": null,
       "min_width": null,
       "object_fit": null,
       "object_position": null,
       "order": null,
       "overflow": null,
       "overflow_x": null,
       "overflow_y": null,
       "padding": null,
       "right": null,
       "top": null,
       "visibility": null,
       "width": null
      }
     },
     "0bdf9209af7d46cba503fa2ae137ca3c": {
      "model_module": "@jupyter-widgets/base",
      "model_module_version": "1.2.0",
      "model_name": "LayoutModel",
      "state": {
       "_model_module": "@jupyter-widgets/base",
       "_model_module_version": "1.2.0",
       "_model_name": "LayoutModel",
       "_view_count": null,
       "_view_module": "@jupyter-widgets/base",
       "_view_module_version": "1.2.0",
       "_view_name": "LayoutView",
       "align_content": null,
       "align_items": null,
       "align_self": null,
       "border": null,
       "bottom": null,
       "display": null,
       "flex": null,
       "flex_flow": null,
       "grid_area": null,
       "grid_auto_columns": null,
       "grid_auto_flow": null,
       "grid_auto_rows": null,
       "grid_column": null,
       "grid_gap": null,
       "grid_row": null,
       "grid_template_areas": null,
       "grid_template_columns": null,
       "grid_template_rows": null,
       "height": null,
       "justify_content": null,
       "justify_items": null,
       "left": null,
       "margin": null,
       "max_height": null,
       "max_width": null,
       "min_height": null,
       "min_width": null,
       "object_fit": null,
       "object_position": null,
       "order": null,
       "overflow": null,
       "overflow_x": null,
       "overflow_y": null,
       "padding": null,
       "right": null,
       "top": null,
       "visibility": null,
       "width": null
      }
     },
     "11157a55d2994f26b3347c576b3091bc": {
      "model_module": "@jupyter-widgets/controls",
      "model_module_version": "1.5.0",
      "model_name": "DescriptionStyleModel",
      "state": {
       "_model_module": "@jupyter-widgets/controls",
       "_model_module_version": "1.5.0",
       "_model_name": "DescriptionStyleModel",
       "_view_count": null,
       "_view_module": "@jupyter-widgets/base",
       "_view_module_version": "1.2.0",
       "_view_name": "StyleView",
       "description_width": ""
      }
     },
     "1a0c8fde7f634720a8bfd7ec5e4ec44e": {
      "model_module": "@jupyter-widgets/base",
      "model_module_version": "1.2.0",
      "model_name": "LayoutModel",
      "state": {
       "_model_module": "@jupyter-widgets/base",
       "_model_module_version": "1.2.0",
       "_model_name": "LayoutModel",
       "_view_count": null,
       "_view_module": "@jupyter-widgets/base",
       "_view_module_version": "1.2.0",
       "_view_name": "LayoutView",
       "align_content": null,
       "align_items": null,
       "align_self": null,
       "border": null,
       "bottom": null,
       "display": null,
       "flex": null,
       "flex_flow": null,
       "grid_area": null,
       "grid_auto_columns": null,
       "grid_auto_flow": null,
       "grid_auto_rows": null,
       "grid_column": null,
       "grid_gap": null,
       "grid_row": null,
       "grid_template_areas": null,
       "grid_template_columns": null,
       "grid_template_rows": null,
       "height": null,
       "justify_content": null,
       "justify_items": null,
       "left": null,
       "margin": null,
       "max_height": null,
       "max_width": null,
       "min_height": null,
       "min_width": null,
       "object_fit": null,
       "object_position": null,
       "order": null,
       "overflow": null,
       "overflow_x": null,
       "overflow_y": null,
       "padding": null,
       "right": null,
       "top": null,
       "visibility": null,
       "width": null
      }
     },
     "244564d613904b278b8a95e5657b0738": {
      "model_module": "@jupyter-widgets/base",
      "model_module_version": "1.2.0",
      "model_name": "LayoutModel",
      "state": {
       "_model_module": "@jupyter-widgets/base",
       "_model_module_version": "1.2.0",
       "_model_name": "LayoutModel",
       "_view_count": null,
       "_view_module": "@jupyter-widgets/base",
       "_view_module_version": "1.2.0",
       "_view_name": "LayoutView",
       "align_content": null,
       "align_items": null,
       "align_self": null,
       "border": null,
       "bottom": null,
       "display": null,
       "flex": null,
       "flex_flow": null,
       "grid_area": null,
       "grid_auto_columns": null,
       "grid_auto_flow": null,
       "grid_auto_rows": null,
       "grid_column": null,
       "grid_gap": null,
       "grid_row": null,
       "grid_template_areas": null,
       "grid_template_columns": null,
       "grid_template_rows": null,
       "height": null,
       "justify_content": null,
       "justify_items": null,
       "left": null,
       "margin": null,
       "max_height": null,
       "max_width": null,
       "min_height": null,
       "min_width": null,
       "object_fit": null,
       "object_position": null,
       "order": null,
       "overflow": null,
       "overflow_x": null,
       "overflow_y": null,
       "padding": null,
       "right": null,
       "top": null,
       "visibility": null,
       "width": null
      }
     },
     "27ccba35c14b48b685681cf0410ab02c": {
      "model_module": "@jupyter-widgets/base",
      "model_module_version": "1.2.0",
      "model_name": "LayoutModel",
      "state": {
       "_model_module": "@jupyter-widgets/base",
       "_model_module_version": "1.2.0",
       "_model_name": "LayoutModel",
       "_view_count": null,
       "_view_module": "@jupyter-widgets/base",
       "_view_module_version": "1.2.0",
       "_view_name": "LayoutView",
       "align_content": null,
       "align_items": null,
       "align_self": null,
       "border": null,
       "bottom": null,
       "display": null,
       "flex": null,
       "flex_flow": null,
       "grid_area": null,
       "grid_auto_columns": null,
       "grid_auto_flow": null,
       "grid_auto_rows": null,
       "grid_column": null,
       "grid_gap": null,
       "grid_row": null,
       "grid_template_areas": null,
       "grid_template_columns": null,
       "grid_template_rows": null,
       "height": null,
       "justify_content": null,
       "justify_items": null,
       "left": null,
       "margin": null,
       "max_height": null,
       "max_width": null,
       "min_height": null,
       "min_width": null,
       "object_fit": null,
       "object_position": null,
       "order": null,
       "overflow": null,
       "overflow_x": null,
       "overflow_y": null,
       "padding": null,
       "right": null,
       "top": null,
       "visibility": null,
       "width": null
      }
     },
     "2f673dc1a25b41f2be400ca0f09739e4": {
      "model_module": "@jupyter-widgets/base",
      "model_module_version": "1.2.0",
      "model_name": "LayoutModel",
      "state": {
       "_model_module": "@jupyter-widgets/base",
       "_model_module_version": "1.2.0",
       "_model_name": "LayoutModel",
       "_view_count": null,
       "_view_module": "@jupyter-widgets/base",
       "_view_module_version": "1.2.0",
       "_view_name": "LayoutView",
       "align_content": null,
       "align_items": null,
       "align_self": null,
       "border": null,
       "bottom": null,
       "display": null,
       "flex": null,
       "flex_flow": null,
       "grid_area": null,
       "grid_auto_columns": null,
       "grid_auto_flow": null,
       "grid_auto_rows": null,
       "grid_column": null,
       "grid_gap": null,
       "grid_row": null,
       "grid_template_areas": null,
       "grid_template_columns": null,
       "grid_template_rows": null,
       "height": null,
       "justify_content": null,
       "justify_items": null,
       "left": null,
       "margin": null,
       "max_height": null,
       "max_width": null,
       "min_height": null,
       "min_width": null,
       "object_fit": null,
       "object_position": null,
       "order": null,
       "overflow": null,
       "overflow_x": null,
       "overflow_y": null,
       "padding": null,
       "right": null,
       "top": null,
       "visibility": null,
       "width": null
      }
     },
     "3330a03260464e3b8004ae9f64e114e9": {
      "model_module": "@jupyter-widgets/controls",
      "model_module_version": "1.5.0",
      "model_name": "HBoxModel",
      "state": {
       "_dom_classes": [],
       "_model_module": "@jupyter-widgets/controls",
       "_model_module_version": "1.5.0",
       "_model_name": "HBoxModel",
       "_view_count": null,
       "_view_module": "@jupyter-widgets/controls",
       "_view_module_version": "1.5.0",
       "_view_name": "HBoxView",
       "box_style": "",
       "children": [
        "IPY_MODEL_e8e561c8b67e43ce8a2f93e204d99648",
        "IPY_MODEL_ac23381a5f624b798bacbfea7d10df49",
        "IPY_MODEL_40828603b2b84103961fb47abc78b899"
       ],
       "layout": "IPY_MODEL_6974c058f68340e59b2bb8ff64404b8d"
      }
     },
     "3d5812b6b5e34f0cb6d5697ba60ea077": {
      "model_module": "@jupyter-widgets/controls",
      "model_module_version": "1.5.0",
      "model_name": "HTMLModel",
      "state": {
       "_dom_classes": [],
       "_model_module": "@jupyter-widgets/controls",
       "_model_module_version": "1.5.0",
       "_model_name": "HTMLModel",
       "_view_count": null,
       "_view_module": "@jupyter-widgets/controls",
       "_view_module_version": "1.5.0",
       "_view_name": "HTMLView",
       "description": "",
       "description_tooltip": null,
       "layout": "IPY_MODEL_2f673dc1a25b41f2be400ca0f09739e4",
       "placeholder": "​",
       "style": "IPY_MODEL_e90fc35fd247456694e7485afddfa92f",
       "value": " 10/10 [00:01&lt;00:00,  9.60it/s]"
      }
     },
     "40828603b2b84103961fb47abc78b899": {
      "model_module": "@jupyter-widgets/controls",
      "model_module_version": "1.5.0",
      "model_name": "HTMLModel",
      "state": {
       "_dom_classes": [],
       "_model_module": "@jupyter-widgets/controls",
       "_model_module_version": "1.5.0",
       "_model_name": "HTMLModel",
       "_view_count": null,
       "_view_module": "@jupyter-widgets/controls",
       "_view_module_version": "1.5.0",
       "_view_name": "HTMLView",
       "description": "",
       "description_tooltip": null,
       "layout": "IPY_MODEL_27ccba35c14b48b685681cf0410ab02c",
       "placeholder": "​",
       "style": "IPY_MODEL_a88772453fba413f87e24341aad14fc5",
       "value": " 10/10 [00:00&lt;00:00, 561.57it/s]"
      }
     },
     "4534e8513baa48d3bf7b22e175832f3f": {
      "model_module": "@jupyter-widgets/controls",
      "model_module_version": "1.5.0",
      "model_name": "DescriptionStyleModel",
      "state": {
       "_model_module": "@jupyter-widgets/controls",
       "_model_module_version": "1.5.0",
       "_model_name": "DescriptionStyleModel",
       "_view_count": null,
       "_view_module": "@jupyter-widgets/base",
       "_view_module_version": "1.2.0",
       "_view_name": "StyleView",
       "description_width": ""
      }
     },
     "59f4d39e01a94f9e90e53c17c36d55cb": {
      "model_module": "@jupyter-widgets/controls",
      "model_module_version": "1.5.0",
      "model_name": "HBoxModel",
      "state": {
       "_dom_classes": [],
       "_model_module": "@jupyter-widgets/controls",
       "_model_module_version": "1.5.0",
       "_model_name": "HBoxModel",
       "_view_count": null,
       "_view_module": "@jupyter-widgets/controls",
       "_view_module_version": "1.5.0",
       "_view_name": "HBoxView",
       "box_style": "",
       "children": [
        "IPY_MODEL_837c5403043d4f32b578c3337df1e9b4",
        "IPY_MODEL_6f041ccb992b4dec850e93d34a353415",
        "IPY_MODEL_3d5812b6b5e34f0cb6d5697ba60ea077"
       ],
       "layout": "IPY_MODEL_0bdf9209af7d46cba503fa2ae137ca3c"
      }
     },
     "6974c058f68340e59b2bb8ff64404b8d": {
      "model_module": "@jupyter-widgets/base",
      "model_module_version": "1.2.0",
      "model_name": "LayoutModel",
      "state": {
       "_model_module": "@jupyter-widgets/base",
       "_model_module_version": "1.2.0",
       "_model_name": "LayoutModel",
       "_view_count": null,
       "_view_module": "@jupyter-widgets/base",
       "_view_module_version": "1.2.0",
       "_view_name": "LayoutView",
       "align_content": null,
       "align_items": null,
       "align_self": null,
       "border": null,
       "bottom": null,
       "display": null,
       "flex": null,
       "flex_flow": null,
       "grid_area": null,
       "grid_auto_columns": null,
       "grid_auto_flow": null,
       "grid_auto_rows": null,
       "grid_column": null,
       "grid_gap": null,
       "grid_row": null,
       "grid_template_areas": null,
       "grid_template_columns": null,
       "grid_template_rows": null,
       "height": null,
       "justify_content": null,
       "justify_items": null,
       "left": null,
       "margin": null,
       "max_height": null,
       "max_width": null,
       "min_height": null,
       "min_width": null,
       "object_fit": null,
       "object_position": null,
       "order": null,
       "overflow": null,
       "overflow_x": null,
       "overflow_y": null,
       "padding": null,
       "right": null,
       "top": null,
       "visibility": null,
       "width": null
      }
     },
     "6da120a288b5472b92e864caac74979f": {
      "model_module": "@jupyter-widgets/base",
      "model_module_version": "1.2.0",
      "model_name": "LayoutModel",
      "state": {
       "_model_module": "@jupyter-widgets/base",
       "_model_module_version": "1.2.0",
       "_model_name": "LayoutModel",
       "_view_count": null,
       "_view_module": "@jupyter-widgets/base",
       "_view_module_version": "1.2.0",
       "_view_name": "LayoutView",
       "align_content": null,
       "align_items": null,
       "align_self": null,
       "border": null,
       "bottom": null,
       "display": null,
       "flex": null,
       "flex_flow": null,
       "grid_area": null,
       "grid_auto_columns": null,
       "grid_auto_flow": null,
       "grid_auto_rows": null,
       "grid_column": null,
       "grid_gap": null,
       "grid_row": null,
       "grid_template_areas": null,
       "grid_template_columns": null,
       "grid_template_rows": null,
       "height": null,
       "justify_content": null,
       "justify_items": null,
       "left": null,
       "margin": null,
       "max_height": null,
       "max_width": null,
       "min_height": null,
       "min_width": null,
       "object_fit": null,
       "object_position": null,
       "order": null,
       "overflow": null,
       "overflow_x": null,
       "overflow_y": null,
       "padding": null,
       "right": null,
       "top": null,
       "visibility": null,
       "width": null
      }
     },
     "6f041ccb992b4dec850e93d34a353415": {
      "model_module": "@jupyter-widgets/controls",
      "model_module_version": "1.5.0",
      "model_name": "FloatProgressModel",
      "state": {
       "_dom_classes": [],
       "_model_module": "@jupyter-widgets/controls",
       "_model_module_version": "1.5.0",
       "_model_name": "FloatProgressModel",
       "_view_count": null,
       "_view_module": "@jupyter-widgets/controls",
       "_view_module_version": "1.5.0",
       "_view_name": "ProgressView",
       "bar_style": "success",
       "description": "",
       "description_tooltip": null,
       "layout": "IPY_MODEL_1a0c8fde7f634720a8bfd7ec5e4ec44e",
       "max": 10.0,
       "min": 0.0,
       "orientation": "horizontal",
       "style": "IPY_MODEL_d4844e2f9bb145a8ad0abe21e5fde489",
       "value": 10.0
      }
     },
     "703229d96b84411990b519ff502204c4": {
      "model_module": "@jupyter-widgets/base",
      "model_module_version": "1.2.0",
      "model_name": "LayoutModel",
      "state": {
       "_model_module": "@jupyter-widgets/base",
       "_model_module_version": "1.2.0",
       "_model_name": "LayoutModel",
       "_view_count": null,
       "_view_module": "@jupyter-widgets/base",
       "_view_module_version": "1.2.0",
       "_view_name": "LayoutView",
       "align_content": null,
       "align_items": null,
       "align_self": null,
       "border": null,
       "bottom": null,
       "display": null,
       "flex": null,
       "flex_flow": null,
       "grid_area": null,
       "grid_auto_columns": null,
       "grid_auto_flow": null,
       "grid_auto_rows": null,
       "grid_column": null,
       "grid_gap": null,
       "grid_row": null,
       "grid_template_areas": null,
       "grid_template_columns": null,
       "grid_template_rows": null,
       "height": null,
       "justify_content": null,
       "justify_items": null,
       "left": null,
       "margin": null,
       "max_height": null,
       "max_width": null,
       "min_height": null,
       "min_width": null,
       "object_fit": null,
       "object_position": null,
       "order": null,
       "overflow": null,
       "overflow_x": null,
       "overflow_y": null,
       "padding": null,
       "right": null,
       "top": null,
       "visibility": null,
       "width": null
      }
     },
     "74addb467290480e9cf95cea4b472426": {
      "model_module": "@jupyter-widgets/controls",
      "model_module_version": "1.5.0",
      "model_name": "HTMLModel",
      "state": {
       "_dom_classes": [],
       "_model_module": "@jupyter-widgets/controls",
       "_model_module_version": "1.5.0",
       "_model_name": "HTMLModel",
       "_view_count": null,
       "_view_module": "@jupyter-widgets/controls",
       "_view_module_version": "1.5.0",
       "_view_name": "HTMLView",
       "description": "",
       "description_tooltip": null,
       "layout": "IPY_MODEL_244564d613904b278b8a95e5657b0738",
       "placeholder": "​",
       "style": "IPY_MODEL_4534e8513baa48d3bf7b22e175832f3f",
       "value": "100%"
      }
     },
     "75c0992d25e64b76aed62a29ea2e07cc": {
      "model_module": "@jupyter-widgets/base",
      "model_module_version": "1.2.0",
      "model_name": "LayoutModel",
      "state": {
       "_model_module": "@jupyter-widgets/base",
       "_model_module_version": "1.2.0",
       "_model_name": "LayoutModel",
       "_view_count": null,
       "_view_module": "@jupyter-widgets/base",
       "_view_module_version": "1.2.0",
       "_view_name": "LayoutView",
       "align_content": null,
       "align_items": null,
       "align_self": null,
       "border": null,
       "bottom": null,
       "display": null,
       "flex": null,
       "flex_flow": null,
       "grid_area": null,
       "grid_auto_columns": null,
       "grid_auto_flow": null,
       "grid_auto_rows": null,
       "grid_column": null,
       "grid_gap": null,
       "grid_row": null,
       "grid_template_areas": null,
       "grid_template_columns": null,
       "grid_template_rows": null,
       "height": null,
       "justify_content": null,
       "justify_items": null,
       "left": null,
       "margin": null,
       "max_height": null,
       "max_width": null,
       "min_height": null,
       "min_width": null,
       "object_fit": null,
       "object_position": null,
       "order": null,
       "overflow": null,
       "overflow_x": null,
       "overflow_y": null,
       "padding": null,
       "right": null,
       "top": null,
       "visibility": null,
       "width": null
      }
     },
     "7786127039a64e4e9f95ab7a0a24b785": {
      "model_module": "@jupyter-widgets/controls",
      "model_module_version": "1.5.0",
      "model_name": "HBoxModel",
      "state": {
       "_dom_classes": [],
       "_model_module": "@jupyter-widgets/controls",
       "_model_module_version": "1.5.0",
       "_model_name": "HBoxModel",
       "_view_count": null,
       "_view_module": "@jupyter-widgets/controls",
       "_view_module_version": "1.5.0",
       "_view_name": "HBoxView",
       "box_style": "",
       "children": [
        "IPY_MODEL_e1d037fc5c144ac1991b01e8c2fa445f",
        "IPY_MODEL_e5eb746ebc5b4d55b8658b6e85e64bbe",
        "IPY_MODEL_aaf0c2a2125d43ce9c64f3e0fb41bb3d"
       ],
       "layout": "IPY_MODEL_d0c27b08ec1d49dbb2271b4e5b1c6fb0"
      }
     },
     "793e4e7c78cc410592a2dcf7278d2c3c": {
      "model_module": "@jupyter-widgets/controls",
      "model_module_version": "1.5.0",
      "model_name": "ProgressStyleModel",
      "state": {
       "_model_module": "@jupyter-widgets/controls",
       "_model_module_version": "1.5.0",
       "_model_name": "ProgressStyleModel",
       "_view_count": null,
       "_view_module": "@jupyter-widgets/base",
       "_view_module_version": "1.2.0",
       "_view_name": "StyleView",
       "bar_color": null,
       "description_width": ""
      }
     },
     "837c5403043d4f32b578c3337df1e9b4": {
      "model_module": "@jupyter-widgets/controls",
      "model_module_version": "1.5.0",
      "model_name": "HTMLModel",
      "state": {
       "_dom_classes": [],
       "_model_module": "@jupyter-widgets/controls",
       "_model_module_version": "1.5.0",
       "_model_name": "HTMLModel",
       "_view_count": null,
       "_view_module": "@jupyter-widgets/controls",
       "_view_module_version": "1.5.0",
       "_view_name": "HTMLView",
       "description": "",
       "description_tooltip": null,
       "layout": "IPY_MODEL_a582f7b0fc7c49f7a7694139a696780a",
       "placeholder": "​",
       "style": "IPY_MODEL_84bfe1f8c9ae46f48939e57f420e4ef4",
       "value": "100%"
      }
     },
     "84bfe1f8c9ae46f48939e57f420e4ef4": {
      "model_module": "@jupyter-widgets/controls",
      "model_module_version": "1.5.0",
      "model_name": "DescriptionStyleModel",
      "state": {
       "_model_module": "@jupyter-widgets/controls",
       "_model_module_version": "1.5.0",
       "_model_name": "DescriptionStyleModel",
       "_view_count": null,
       "_view_module": "@jupyter-widgets/base",
       "_view_module_version": "1.2.0",
       "_view_name": "StyleView",
       "description_width": ""
      }
     },
     "87642426e9ab48c3b544f11b405fa1ac": {
      "model_module": "@jupyter-widgets/base",
      "model_module_version": "1.2.0",
      "model_name": "LayoutModel",
      "state": {
       "_model_module": "@jupyter-widgets/base",
       "_model_module_version": "1.2.0",
       "_model_name": "LayoutModel",
       "_view_count": null,
       "_view_module": "@jupyter-widgets/base",
       "_view_module_version": "1.2.0",
       "_view_name": "LayoutView",
       "align_content": null,
       "align_items": null,
       "align_self": null,
       "border": null,
       "bottom": null,
       "display": null,
       "flex": null,
       "flex_flow": null,
       "grid_area": null,
       "grid_auto_columns": null,
       "grid_auto_flow": null,
       "grid_auto_rows": null,
       "grid_column": null,
       "grid_gap": null,
       "grid_row": null,
       "grid_template_areas": null,
       "grid_template_columns": null,
       "grid_template_rows": null,
       "height": null,
       "justify_content": null,
       "justify_items": null,
       "left": null,
       "margin": null,
       "max_height": null,
       "max_width": null,
       "min_height": null,
       "min_width": null,
       "object_fit": null,
       "object_position": null,
       "order": null,
       "overflow": null,
       "overflow_x": null,
       "overflow_y": null,
       "padding": null,
       "right": null,
       "top": null,
       "visibility": null,
       "width": null
      }
     },
     "91404c63345046fd9ebb8cb3d6062e31": {
      "model_module": "@jupyter-widgets/controls",
      "model_module_version": "1.5.0",
      "model_name": "DescriptionStyleModel",
      "state": {
       "_model_module": "@jupyter-widgets/controls",
       "_model_module_version": "1.5.0",
       "_model_name": "DescriptionStyleModel",
       "_view_count": null,
       "_view_module": "@jupyter-widgets/base",
       "_view_module_version": "1.2.0",
       "_view_name": "StyleView",
       "description_width": ""
      }
     },
     "a1c2cc6926fe487282c2637d0fddceee": {
      "model_module": "@jupyter-widgets/base",
      "model_module_version": "1.2.0",
      "model_name": "LayoutModel",
      "state": {
       "_model_module": "@jupyter-widgets/base",
       "_model_module_version": "1.2.0",
       "_model_name": "LayoutModel",
       "_view_count": null,
       "_view_module": "@jupyter-widgets/base",
       "_view_module_version": "1.2.0",
       "_view_name": "LayoutView",
       "align_content": null,
       "align_items": null,
       "align_self": null,
       "border": null,
       "bottom": null,
       "display": null,
       "flex": null,
       "flex_flow": null,
       "grid_area": null,
       "grid_auto_columns": null,
       "grid_auto_flow": null,
       "grid_auto_rows": null,
       "grid_column": null,
       "grid_gap": null,
       "grid_row": null,
       "grid_template_areas": null,
       "grid_template_columns": null,
       "grid_template_rows": null,
       "height": null,
       "justify_content": null,
       "justify_items": null,
       "left": null,
       "margin": null,
       "max_height": null,
       "max_width": null,
       "min_height": null,
       "min_width": null,
       "object_fit": null,
       "object_position": null,
       "order": null,
       "overflow": null,
       "overflow_x": null,
       "overflow_y": null,
       "padding": null,
       "right": null,
       "top": null,
       "visibility": null,
       "width": null
      }
     },
     "a34331c0cfde45e18f61dc3e9ad59e84": {
      "model_module": "@jupyter-widgets/controls",
      "model_module_version": "1.5.0",
      "model_name": "ProgressStyleModel",
      "state": {
       "_model_module": "@jupyter-widgets/controls",
       "_model_module_version": "1.5.0",
       "_model_name": "ProgressStyleModel",
       "_view_count": null,
       "_view_module": "@jupyter-widgets/base",
       "_view_module_version": "1.2.0",
       "_view_name": "StyleView",
       "bar_color": null,
       "description_width": ""
      }
     },
     "a582f7b0fc7c49f7a7694139a696780a": {
      "model_module": "@jupyter-widgets/base",
      "model_module_version": "1.2.0",
      "model_name": "LayoutModel",
      "state": {
       "_model_module": "@jupyter-widgets/base",
       "_model_module_version": "1.2.0",
       "_model_name": "LayoutModel",
       "_view_count": null,
       "_view_module": "@jupyter-widgets/base",
       "_view_module_version": "1.2.0",
       "_view_name": "LayoutView",
       "align_content": null,
       "align_items": null,
       "align_self": null,
       "border": null,
       "bottom": null,
       "display": null,
       "flex": null,
       "flex_flow": null,
       "grid_area": null,
       "grid_auto_columns": null,
       "grid_auto_flow": null,
       "grid_auto_rows": null,
       "grid_column": null,
       "grid_gap": null,
       "grid_row": null,
       "grid_template_areas": null,
       "grid_template_columns": null,
       "grid_template_rows": null,
       "height": null,
       "justify_content": null,
       "justify_items": null,
       "left": null,
       "margin": null,
       "max_height": null,
       "max_width": null,
       "min_height": null,
       "min_width": null,
       "object_fit": null,
       "object_position": null,
       "order": null,
       "overflow": null,
       "overflow_x": null,
       "overflow_y": null,
       "padding": null,
       "right": null,
       "top": null,
       "visibility": null,
       "width": null
      }
     },
     "a7e8f638e87e4b40923304a0a1f38f7f": {
      "model_module": "@jupyter-widgets/controls",
      "model_module_version": "1.5.0",
      "model_name": "ProgressStyleModel",
      "state": {
       "_model_module": "@jupyter-widgets/controls",
       "_model_module_version": "1.5.0",
       "_model_name": "ProgressStyleModel",
       "_view_count": null,
       "_view_module": "@jupyter-widgets/base",
       "_view_module_version": "1.2.0",
       "_view_name": "StyleView",
       "bar_color": null,
       "description_width": ""
      }
     },
     "a88772453fba413f87e24341aad14fc5": {
      "model_module": "@jupyter-widgets/controls",
      "model_module_version": "1.5.0",
      "model_name": "DescriptionStyleModel",
      "state": {
       "_model_module": "@jupyter-widgets/controls",
       "_model_module_version": "1.5.0",
       "_model_name": "DescriptionStyleModel",
       "_view_count": null,
       "_view_module": "@jupyter-widgets/base",
       "_view_module_version": "1.2.0",
       "_view_name": "StyleView",
       "description_width": ""
      }
     },
     "aaf0c2a2125d43ce9c64f3e0fb41bb3d": {
      "model_module": "@jupyter-widgets/controls",
      "model_module_version": "1.5.0",
      "model_name": "HTMLModel",
      "state": {
       "_dom_classes": [],
       "_model_module": "@jupyter-widgets/controls",
       "_model_module_version": "1.5.0",
       "_model_name": "HTMLModel",
       "_view_count": null,
       "_view_module": "@jupyter-widgets/controls",
       "_view_module_version": "1.5.0",
       "_view_name": "HTMLView",
       "description": "",
       "description_tooltip": null,
       "layout": "IPY_MODEL_a1c2cc6926fe487282c2637d0fddceee",
       "placeholder": "​",
       "style": "IPY_MODEL_11157a55d2994f26b3347c576b3091bc",
       "value": " 10/10 [00:01&lt;00:00,  9.17it/s]"
      }
     },
     "ac23381a5f624b798bacbfea7d10df49": {
      "model_module": "@jupyter-widgets/controls",
      "model_module_version": "1.5.0",
      "model_name": "FloatProgressModel",
      "state": {
       "_dom_classes": [],
       "_model_module": "@jupyter-widgets/controls",
       "_model_module_version": "1.5.0",
       "_model_name": "FloatProgressModel",
       "_view_count": null,
       "_view_module": "@jupyter-widgets/controls",
       "_view_module_version": "1.5.0",
       "_view_name": "ProgressView",
       "bar_style": "success",
       "description": "",
       "description_tooltip": null,
       "layout": "IPY_MODEL_87642426e9ab48c3b544f11b405fa1ac",
       "max": 10.0,
       "min": 0.0,
       "orientation": "horizontal",
       "style": "IPY_MODEL_a34331c0cfde45e18f61dc3e9ad59e84",
       "value": 10.0
      }
     },
     "b1a4317f3d2d4823ab310575be122329": {
      "model_module": "@jupyter-widgets/base",
      "model_module_version": "1.2.0",
      "model_name": "LayoutModel",
      "state": {
       "_model_module": "@jupyter-widgets/base",
       "_model_module_version": "1.2.0",
       "_model_name": "LayoutModel",
       "_view_count": null,
       "_view_module": "@jupyter-widgets/base",
       "_view_module_version": "1.2.0",
       "_view_name": "LayoutView",
       "align_content": null,
       "align_items": null,
       "align_self": null,
       "border": null,
       "bottom": null,
       "display": null,
       "flex": null,
       "flex_flow": null,
       "grid_area": null,
       "grid_auto_columns": null,
       "grid_auto_flow": null,
       "grid_auto_rows": null,
       "grid_column": null,
       "grid_gap": null,
       "grid_row": null,
       "grid_template_areas": null,
       "grid_template_columns": null,
       "grid_template_rows": null,
       "height": null,
       "justify_content": null,
       "justify_items": null,
       "left": null,
       "margin": null,
       "max_height": null,
       "max_width": null,
       "min_height": null,
       "min_width": null,
       "object_fit": null,
       "object_position": null,
       "order": null,
       "overflow": null,
       "overflow_x": null,
       "overflow_y": null,
       "padding": null,
       "right": null,
       "top": null,
       "visibility": null,
       "width": null
      }
     },
     "b7830eb8d3ef4811bb0c6d528c412dfc": {
      "model_module": "@jupyter-widgets/controls",
      "model_module_version": "1.5.0",
      "model_name": "DescriptionStyleModel",
      "state": {
       "_model_module": "@jupyter-widgets/controls",
       "_model_module_version": "1.5.0",
       "_model_name": "DescriptionStyleModel",
       "_view_count": null,
       "_view_module": "@jupyter-widgets/base",
       "_view_module_version": "1.2.0",
       "_view_name": "StyleView",
       "description_width": ""
      }
     },
     "bd51ebbc037043618ca5872e4969e972": {
      "model_module": "@jupyter-widgets/controls",
      "model_module_version": "1.5.0",
      "model_name": "HTMLModel",
      "state": {
       "_dom_classes": [],
       "_model_module": "@jupyter-widgets/controls",
       "_model_module_version": "1.5.0",
       "_model_name": "HTMLModel",
       "_view_count": null,
       "_view_module": "@jupyter-widgets/controls",
       "_view_module_version": "1.5.0",
       "_view_name": "HTMLView",
       "description": "",
       "description_tooltip": null,
       "layout": "IPY_MODEL_703229d96b84411990b519ff502204c4",
       "placeholder": "​",
       "style": "IPY_MODEL_91404c63345046fd9ebb8cb3d6062e31",
       "value": " 6807/6807 [00:04&lt;00:00, 1558.16it/s]"
      }
     },
     "c93752887d5b48f3ace62731699189d0": {
      "model_module": "@jupyter-widgets/controls",
      "model_module_version": "1.5.0",
      "model_name": "HBoxModel",
      "state": {
       "_dom_classes": [],
       "_model_module": "@jupyter-widgets/controls",
       "_model_module_version": "1.5.0",
       "_model_name": "HBoxModel",
       "_view_count": null,
       "_view_module": "@jupyter-widgets/controls",
       "_view_module_version": "1.5.0",
       "_view_name": "HBoxView",
       "box_style": "",
       "children": [
        "IPY_MODEL_74addb467290480e9cf95cea4b472426",
        "IPY_MODEL_e0348d92b8244423b1a1420363c4c6dd",
        "IPY_MODEL_bd51ebbc037043618ca5872e4969e972"
       ],
       "layout": "IPY_MODEL_078a7a4d1b3b44f691566cccc2716475"
      }
     },
     "cd48488aa4094f58bd7754fdb0fb2133": {
      "model_module": "@jupyter-widgets/controls",
      "model_module_version": "1.5.0",
      "model_name": "DescriptionStyleModel",
      "state": {
       "_model_module": "@jupyter-widgets/controls",
       "_model_module_version": "1.5.0",
       "_model_name": "DescriptionStyleModel",
       "_view_count": null,
       "_view_module": "@jupyter-widgets/base",
       "_view_module_version": "1.2.0",
       "_view_name": "StyleView",
       "description_width": ""
      }
     },
     "d0c27b08ec1d49dbb2271b4e5b1c6fb0": {
      "model_module": "@jupyter-widgets/base",
      "model_module_version": "1.2.0",
      "model_name": "LayoutModel",
      "state": {
       "_model_module": "@jupyter-widgets/base",
       "_model_module_version": "1.2.0",
       "_model_name": "LayoutModel",
       "_view_count": null,
       "_view_module": "@jupyter-widgets/base",
       "_view_module_version": "1.2.0",
       "_view_name": "LayoutView",
       "align_content": null,
       "align_items": null,
       "align_self": null,
       "border": null,
       "bottom": null,
       "display": null,
       "flex": null,
       "flex_flow": null,
       "grid_area": null,
       "grid_auto_columns": null,
       "grid_auto_flow": null,
       "grid_auto_rows": null,
       "grid_column": null,
       "grid_gap": null,
       "grid_row": null,
       "grid_template_areas": null,
       "grid_template_columns": null,
       "grid_template_rows": null,
       "height": null,
       "justify_content": null,
       "justify_items": null,
       "left": null,
       "margin": null,
       "max_height": null,
       "max_width": null,
       "min_height": null,
       "min_width": null,
       "object_fit": null,
       "object_position": null,
       "order": null,
       "overflow": null,
       "overflow_x": null,
       "overflow_y": null,
       "padding": null,
       "right": null,
       "top": null,
       "visibility": null,
       "width": null
      }
     },
     "d4844e2f9bb145a8ad0abe21e5fde489": {
      "model_module": "@jupyter-widgets/controls",
      "model_module_version": "1.5.0",
      "model_name": "ProgressStyleModel",
      "state": {
       "_model_module": "@jupyter-widgets/controls",
       "_model_module_version": "1.5.0",
       "_model_name": "ProgressStyleModel",
       "_view_count": null,
       "_view_module": "@jupyter-widgets/base",
       "_view_module_version": "1.2.0",
       "_view_name": "StyleView",
       "bar_color": null,
       "description_width": ""
      }
     },
     "e0348d92b8244423b1a1420363c4c6dd": {
      "model_module": "@jupyter-widgets/controls",
      "model_module_version": "1.5.0",
      "model_name": "FloatProgressModel",
      "state": {
       "_dom_classes": [],
       "_model_module": "@jupyter-widgets/controls",
       "_model_module_version": "1.5.0",
       "_model_name": "FloatProgressModel",
       "_view_count": null,
       "_view_module": "@jupyter-widgets/controls",
       "_view_module_version": "1.5.0",
       "_view_name": "ProgressView",
       "bar_style": "success",
       "description": "",
       "description_tooltip": null,
       "layout": "IPY_MODEL_6da120a288b5472b92e864caac74979f",
       "max": 6807.0,
       "min": 0.0,
       "orientation": "horizontal",
       "style": "IPY_MODEL_a7e8f638e87e4b40923304a0a1f38f7f",
       "value": 6807.0
      }
     },
     "e1d037fc5c144ac1991b01e8c2fa445f": {
      "model_module": "@jupyter-widgets/controls",
      "model_module_version": "1.5.0",
      "model_name": "HTMLModel",
      "state": {
       "_dom_classes": [],
       "_model_module": "@jupyter-widgets/controls",
       "_model_module_version": "1.5.0",
       "_model_name": "HTMLModel",
       "_view_count": null,
       "_view_module": "@jupyter-widgets/controls",
       "_view_module_version": "1.5.0",
       "_view_name": "HTMLView",
       "description": "",
       "description_tooltip": null,
       "layout": "IPY_MODEL_b1a4317f3d2d4823ab310575be122329",
       "placeholder": "​",
       "style": "IPY_MODEL_cd48488aa4094f58bd7754fdb0fb2133",
       "value": "100%"
      }
     },
     "e5675afb0ecb49599f01b621fe5faeb4": {
      "model_module": "@jupyter-widgets/base",
      "model_module_version": "1.2.0",
      "model_name": "LayoutModel",
      "state": {
       "_model_module": "@jupyter-widgets/base",
       "_model_module_version": "1.2.0",
       "_model_name": "LayoutModel",
       "_view_count": null,
       "_view_module": "@jupyter-widgets/base",
       "_view_module_version": "1.2.0",
       "_view_name": "LayoutView",
       "align_content": null,
       "align_items": null,
       "align_self": null,
       "border": null,
       "bottom": null,
       "display": null,
       "flex": null,
       "flex_flow": null,
       "grid_area": null,
       "grid_auto_columns": null,
       "grid_auto_flow": null,
       "grid_auto_rows": null,
       "grid_column": null,
       "grid_gap": null,
       "grid_row": null,
       "grid_template_areas": null,
       "grid_template_columns": null,
       "grid_template_rows": null,
       "height": null,
       "justify_content": null,
       "justify_items": null,
       "left": null,
       "margin": null,
       "max_height": null,
       "max_width": null,
       "min_height": null,
       "min_width": null,
       "object_fit": null,
       "object_position": null,
       "order": null,
       "overflow": null,
       "overflow_x": null,
       "overflow_y": null,
       "padding": null,
       "right": null,
       "top": null,
       "visibility": null,
       "width": null
      }
     },
     "e5eb746ebc5b4d55b8658b6e85e64bbe": {
      "model_module": "@jupyter-widgets/controls",
      "model_module_version": "1.5.0",
      "model_name": "FloatProgressModel",
      "state": {
       "_dom_classes": [],
       "_model_module": "@jupyter-widgets/controls",
       "_model_module_version": "1.5.0",
       "_model_name": "FloatProgressModel",
       "_view_count": null,
       "_view_module": "@jupyter-widgets/controls",
       "_view_module_version": "1.5.0",
       "_view_name": "ProgressView",
       "bar_style": "success",
       "description": "",
       "description_tooltip": null,
       "layout": "IPY_MODEL_75c0992d25e64b76aed62a29ea2e07cc",
       "max": 10.0,
       "min": 0.0,
       "orientation": "horizontal",
       "style": "IPY_MODEL_793e4e7c78cc410592a2dcf7278d2c3c",
       "value": 10.0
      }
     },
     "e8e561c8b67e43ce8a2f93e204d99648": {
      "model_module": "@jupyter-widgets/controls",
      "model_module_version": "1.5.0",
      "model_name": "HTMLModel",
      "state": {
       "_dom_classes": [],
       "_model_module": "@jupyter-widgets/controls",
       "_model_module_version": "1.5.0",
       "_model_name": "HTMLModel",
       "_view_count": null,
       "_view_module": "@jupyter-widgets/controls",
       "_view_module_version": "1.5.0",
       "_view_name": "HTMLView",
       "description": "",
       "description_tooltip": null,
       "layout": "IPY_MODEL_e5675afb0ecb49599f01b621fe5faeb4",
       "placeholder": "​",
       "style": "IPY_MODEL_b7830eb8d3ef4811bb0c6d528c412dfc",
       "value": "100%"
      }
     },
     "e90fc35fd247456694e7485afddfa92f": {
      "model_module": "@jupyter-widgets/controls",
      "model_module_version": "1.5.0",
      "model_name": "DescriptionStyleModel",
      "state": {
       "_model_module": "@jupyter-widgets/controls",
       "_model_module_version": "1.5.0",
       "_model_name": "DescriptionStyleModel",
       "_view_count": null,
       "_view_module": "@jupyter-widgets/base",
       "_view_module_version": "1.2.0",
       "_view_name": "StyleView",
       "description_width": ""
      }
     }
    },
    "version_major": 2,
    "version_minor": 0
   }
  }
 },
 "nbformat": 4,
 "nbformat_minor": 5
}
